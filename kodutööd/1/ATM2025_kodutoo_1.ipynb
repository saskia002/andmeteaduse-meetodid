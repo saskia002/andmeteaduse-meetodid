{
 "cells": [
  {
   "cell_type": "markdown",
   "metadata": {
    "id": "MrBQcEunwG-o"
   },
   "source": [
    "# LTAT.02.006 Andmeteaduse meetodid, sügis 2025\n",
    "# 1. kodutöö\n",
    "\n",
    "## Tähtaeg: esmaspäev, 22. september kell 12:00 (keskpäeval)"
   ]
  },
  {
   "cell_type": "markdown",
   "metadata": {
    "id": "7nxrRfxEwG-v"
   },
   "source": [
    "## Kodutöö reeglid\n",
    "\n",
    "Käesolevad reeglid rakenduvad kõigile selle kursuse kodutöödele, kui konkreetses kodutöös pole sätestatud teisiti.\n",
    "\n",
    "#### Kodutööde lahendamine ja esitamine\n",
    "\n",
    "Kodutööde lahendamisel on lubatud kasutada kõiki materjale, sealhugas ka suurte keelemudelite (ChatGPT, GPT-4 jne) abi. Lubatud on ka tudengitevaheline koostöö. Tähtsaim reegel on, et esitatud lahendus peab olema tudengile täiesti arusaadav ning ta oskab seda vajadusel praktikumis teistele seletada. Iga esitatava ülesande juurde tuleb märkida TEHTUD: 1 (tegemata ülesande puhul TEHTUD: 0) ning punktide saamiseks tuleb vastava kodutöö arutamise praktikumis kohal olla ning vajadusel ülesandeid teistele selgitada. \"Tehtud\" lahtri järel on võimalus \"Küsimus praksi juhendajale\" lahtris küsida praktikumi juhendajalt küsimus ülesande või (enda) lahenduse kohta. Osadele küsimustele vastab praktikumijuhendaja praktikumiarutelus ning individuaalsematele praktikumijärgselt või kirjalikult. (PS! mitte muuta ega kustutada võtmesõnu \"TEHTUD\" ja \"Küsimus praksi juhendajale\"!)  \n",
    "\n",
    "#### Pythoni standard-teekide kasutamine\n",
    "\n",
    "Võib kasutada standardseid Pythoni teeke, välja arvatud kui konkreetne ülesanne sätestab teisiti.\n",
    "\n",
    "#### Piirangud avaliku koodi kasutamisel\n",
    "\n",
    "Kui kasutate veebist avalikult kättesaadavat koodijuppi, siis peab seda kodutöös viitama. Erandina võib kasutada visualiseerimiseks kasutatavat koodi ilma viitamata ning samuti ka kursuse materjalides (näiteks slaididel või veebilehel antud kood) sisalduvat koodi ilma viitamata.\n",
    "\n",
    "## Kuidas kodutöid lahendada\n",
    "\n",
    "#### Palun kodutöös välju mitte kustutada, vaid ainult oma lahendusi lisada.\n",
    "\n",
    "Palun mitte kustutada kodutöös välju. Kui see kogemata juhtub, siis saab kustutamise tagasi võtta (`Edit -> Undo Delete Cells`). Lahendamisel võib alati soovi korral välju lisada. Palun vaadake, et iga lahendus oleks oma õige küsimuse alapunkti all. Näiteks ei ole piisav vastata, et mingile küsimusele vastus on eelneva alapunkti juures.\n",
    "\n",
    "Need palved on selleks, et hindamine oleks lihtsam. Kasutame automaatseid abivahendeid hindamise kiiremaks läbiviimiseks, näiteks tuues kõigi tudengite töödest ühe konkreetse alapunkti lahendused kõik kokku ühte faili. Ülaltoodud palvete mittejärgimisel võib juhtuda, et meil jääb mõni lahendus märkamata, kuigi proovime ka sellisel puhul lahendused üles leida.\n",
    "\n",
    "#### Koodi kommentaare pole vaja (kui pole teisiti öeldud)\n",
    "\n",
    "Me ei jõua hinnata seda, kuidas teie kood on kirjutatud. Seepärast pole vaja koodi sisse kommentaare rohkem kirjutada kui teil just endal kasulik tundub.\n",
    "\n",
    "#### Palun lugege ülesandeid hoolikalt.\n",
    "\n",
    "Mõnedes ülesannete alapunktides on vaja mitu asja teha ja vastata - vaadake palun hoolikalt, et kõik vastatud saaks.\n",
    "\n",
    "#### Palun lugege kokku kodutööle kulunud aeg\n",
    "\n",
    "Palun, et loeksite kokku kodutööle kulunud aeg, eriti hea kui ka eraldi iga ülesande peale kulunud aeg. Eraldi ülesannete alapunktide kaupa pole aega vaja eristada. Kulunud aeg ja muu tagasiside kirjutage palun kodutöö lõpus lingitud Google Forms'i. See ei ole kohustuslik ega mõjuta hinnet, kuid aitab kodutöid paremaks teha.\n",
    "\n",
    "#### Kindlasti märkige iga ülesande juurde, kas see sai tehtud!\n",
    "\n",
    "Palun ärge unustage üles märkimast lahendatud ülesandeid. Punktid tulevad selle pealt, mis teil on märgitud.\n",
    "\n",
    "#### Enne esitamist\n",
    "\n",
    "Enne kodutöö esitamist palun lähtestada kodutöö Jupyteri märkmiku kernel uuesti ning jooksutada kogu kood algusest peale korra läbi - selleks on vaja menüüst valida `Kernel` -> `Restart and Run All`. Seda teeb hindaja niikuinii ka, aga ise tehes saab kontrollida, et kõik töötab nii nagu vaja. Palun tehke nii, et kood ei viskaks poolel teel vigu ning kogu kodutöö fail jookseks ilma vigadeta. Kui kuskil poole peal on viga sees, siis kommenteerige see osa koodist välja, et fail saaks vigadeta lõpuni joosta. See on vajalik hindamiseks, et teie töös pärast vigast kohta tulevad korrektsed lahendused kenasti kõik joonised ja tulemused saaksid väljastada.\n",
    "\n",
    "#### Esitage ainult .ipynb fail\n",
    "\n",
    "Palun esitage ainult .ipynb Jupyter notebook fail, kui ei ole teisiti öeldud. Kodutöö hindaja paneb kodutöö ise sobilikku keskkonda, kus vajalikud failid on samas kataloogis.\n",
    "\n",
    "#### Tähtaeg\n",
    "\n",
    "Kodutöö tähtaeg on range, mistõttu saate 0 punkti kui hilinete kasvõi ainult 1 minuti. Enne tähtaega võib sama kodutööd mitu korda esitada ning nendest läheb arvesse ainult viimane. Seetõttu tasub tähtaja lähenedes aegsasti igaks juhuks ka kasvõi poolik versioon esitada, et vältida internetikatkestuse tõttu esitamata jäämist. Tervislike põhjuste korral saab arstitõendi alusel ajapikendust ning punkte ei kaota.\n",
    "\n",
    "#### Küsimusi?\n",
    "\n",
    "Palun küsige julgelt foorumis kui on küsimusi ülaltoodud juhendi või ülesannetest arusaamise kohta.\n",
    "\n",
    "Hea meelega vastame küsimustele :-)"
   ]
  },
  {
   "cell_type": "markdown",
   "metadata": {
    "id": "hCwBqMU-wG-z"
   },
   "source": [
    "# 1. kodutöö algus"
   ]
  },
  {
   "cell_type": "markdown",
   "metadata": {
    "id": "95GjUF-lwG-0"
   },
   "source": [
    "Selles kodutöös töötame andmetel, mis pärinevad uuringusarjast [The National Survey of Family Growth](https://www.cdc.gov/nchs/nsfg/index.htm) ja täpsemalt selle sarja [6. uuringust](https://www.cdc.gov/nchs/nsfg/nsfg_cycle6.htm) - inspireerituna raamatust [Think Stats](http://greenteapress.com/thinkstats2/thinkstats2.pdf), mis algab just seda andmestikku uurides. See on USA-s läbiviidud küsitlus, millest oleme valinud välja andmed beebide sündide kohta ning need on kodutööga kaasas failis `synnikaalu_andmed.csv`. Tabelis on veerge palju, täpsemad kirjeldused nende tähenduse kohta on toodud [siin](https://ftp.cdc.gov/pub/Health_Statistics/NCHS/Dataset_Documentation/NSFG/Cycle6Codebook-Pregnancy.pdf).\n",
    "\n",
    "Siin kodutöös uurime sünnikaalu andmete kvaliteeti. Tasub tähele panna, et need on küsimustiku andmed, mistõttu inimene võis alati valesti mäletada. Aga kas leiame ka andmetes märke sellest, et neis kajastuvaid kaalusid ei saa täielikult usaldada? Kui suured võivad vead olla ja kui tihti võivad need esineda?\n",
    "\n",
    "Kui teil on installeeritud Pythoni paketid `numpy`, `pandas`, `scipy` ja `matplotlib`, siis peaks järgnev käsublokk töötama vigadeta."
   ]
  },
  {
   "cell_type": "code",
   "execution_count": 89,
   "metadata": {
    "id": "qQcYvqsbwG-2"
   },
   "outputs": [],
   "source": [
    "import numpy as np\n",
    "import pandas as pd\n",
    "import matplotlib.pyplot as plt\n",
    "import scipy\n",
    "\n",
    "df = pd.read_csv('synnikaalu_andmed.csv')"
   ]
  },
  {
   "cell_type": "markdown",
   "metadata": {
    "id": "rSWw4CgrwG-4"
   },
   "source": [
    "Nüüd on sündinud beebide andmed sisse laetud paketi Pandas andmestruktuuri DataFrame muutujasse `df`:"
   ]
  },
  {
   "cell_type": "code",
   "execution_count": 90,
   "metadata": {
    "colab": {
     "base_uri": "https://localhost:8080/",
     "height": 203
    },
    "executionInfo": {
     "elapsed": 114,
     "status": "ok",
     "timestamp": 1758365890621,
     "user": {
      "displayName": "Saskia",
      "userId": "03414353355782269967"
     },
     "user_tz": -180
    },
    "id": "ziZUS5wiwG-5",
    "outputId": "bf6b9604-d3bb-48a5-c53e-6afc7f0ab42d"
   },
   "outputs": [
    {
     "data": {
      "text/plain": [
       "pandas.core.frame.DataFrame"
      ]
     },
     "execution_count": 90,
     "metadata": {},
     "output_type": "execute_result"
    }
   ],
   "source": [
    "type(df)"
   ]
  },
  {
   "cell_type": "code",
   "execution_count": 91,
   "metadata": {
    "colab": {
     "base_uri": "https://localhost:8080/",
     "height": 273
    },
    "executionInfo": {
     "elapsed": 13,
     "status": "ok",
     "timestamp": 1758365890637,
     "user": {
      "displayName": "Saskia",
      "userId": "03414353355782269967"
     },
     "user_tz": -180
    },
    "id": "XqmJ-njXwG-8",
    "outputId": "3e599c6c-1f93-4993-fcf1-3be7c0fa13d5"
   },
   "outputs": [
    {
     "data": {
      "text/html": [
       "<div>\n",
       "<style scoped>\n",
       "    .dataframe tbody tr th:only-of-type {\n",
       "        vertical-align: middle;\n",
       "    }\n",
       "\n",
       "    .dataframe tbody tr th {\n",
       "        vertical-align: top;\n",
       "    }\n",
       "\n",
       "    .dataframe thead th {\n",
       "        text-align: right;\n",
       "    }\n",
       "</style>\n",
       "<table border=\"1\" class=\"dataframe\">\n",
       "  <thead>\n",
       "    <tr style=\"text-align: right;\">\n",
       "      <th></th>\n",
       "      <th>Unnamed: 0</th>\n",
       "      <th>caseid</th>\n",
       "      <th>pregordr</th>\n",
       "      <th>howpreg_n</th>\n",
       "      <th>howpreg_p</th>\n",
       "      <th>moscurrp</th>\n",
       "      <th>nowprgdk</th>\n",
       "      <th>pregend1</th>\n",
       "      <th>pregend2</th>\n",
       "      <th>nbrnaliv</th>\n",
       "      <th>...</th>\n",
       "      <th>laborfor_i</th>\n",
       "      <th>religion_i</th>\n",
       "      <th>metro_i</th>\n",
       "      <th>basewgt</th>\n",
       "      <th>adj_mod_basewgt</th>\n",
       "      <th>finalwgt</th>\n",
       "      <th>secu_p</th>\n",
       "      <th>sest</th>\n",
       "      <th>cmintvw</th>\n",
       "      <th>totalwgt_lb</th>\n",
       "    </tr>\n",
       "  </thead>\n",
       "  <tbody>\n",
       "    <tr>\n",
       "      <th>0</th>\n",
       "      <td>0</td>\n",
       "      <td>1</td>\n",
       "      <td>1</td>\n",
       "      <td>NaN</td>\n",
       "      <td>NaN</td>\n",
       "      <td>NaN</td>\n",
       "      <td>NaN</td>\n",
       "      <td>6.0</td>\n",
       "      <td>NaN</td>\n",
       "      <td>1.0</td>\n",
       "      <td>...</td>\n",
       "      <td>0</td>\n",
       "      <td>0</td>\n",
       "      <td>0</td>\n",
       "      <td>3410.389399</td>\n",
       "      <td>3869.349602</td>\n",
       "      <td>6448.271112</td>\n",
       "      <td>2</td>\n",
       "      <td>9</td>\n",
       "      <td>NaN</td>\n",
       "      <td>8.8125</td>\n",
       "    </tr>\n",
       "    <tr>\n",
       "      <th>1</th>\n",
       "      <td>1</td>\n",
       "      <td>1</td>\n",
       "      <td>2</td>\n",
       "      <td>NaN</td>\n",
       "      <td>NaN</td>\n",
       "      <td>NaN</td>\n",
       "      <td>NaN</td>\n",
       "      <td>6.0</td>\n",
       "      <td>NaN</td>\n",
       "      <td>1.0</td>\n",
       "      <td>...</td>\n",
       "      <td>0</td>\n",
       "      <td>0</td>\n",
       "      <td>0</td>\n",
       "      <td>3410.389399</td>\n",
       "      <td>3869.349602</td>\n",
       "      <td>6448.271112</td>\n",
       "      <td>2</td>\n",
       "      <td>9</td>\n",
       "      <td>NaN</td>\n",
       "      <td>7.8750</td>\n",
       "    </tr>\n",
       "    <tr>\n",
       "      <th>2</th>\n",
       "      <td>2</td>\n",
       "      <td>2</td>\n",
       "      <td>1</td>\n",
       "      <td>NaN</td>\n",
       "      <td>NaN</td>\n",
       "      <td>NaN</td>\n",
       "      <td>NaN</td>\n",
       "      <td>5.0</td>\n",
       "      <td>NaN</td>\n",
       "      <td>3.0</td>\n",
       "      <td>...</td>\n",
       "      <td>0</td>\n",
       "      <td>0</td>\n",
       "      <td>0</td>\n",
       "      <td>7226.301740</td>\n",
       "      <td>8567.549110</td>\n",
       "      <td>12999.542264</td>\n",
       "      <td>2</td>\n",
       "      <td>12</td>\n",
       "      <td>NaN</td>\n",
       "      <td>9.1250</td>\n",
       "    </tr>\n",
       "    <tr>\n",
       "      <th>3</th>\n",
       "      <td>3</td>\n",
       "      <td>2</td>\n",
       "      <td>2</td>\n",
       "      <td>NaN</td>\n",
       "      <td>NaN</td>\n",
       "      <td>NaN</td>\n",
       "      <td>NaN</td>\n",
       "      <td>6.0</td>\n",
       "      <td>NaN</td>\n",
       "      <td>1.0</td>\n",
       "      <td>...</td>\n",
       "      <td>0</td>\n",
       "      <td>0</td>\n",
       "      <td>0</td>\n",
       "      <td>7226.301740</td>\n",
       "      <td>8567.549110</td>\n",
       "      <td>12999.542264</td>\n",
       "      <td>2</td>\n",
       "      <td>12</td>\n",
       "      <td>NaN</td>\n",
       "      <td>7.0000</td>\n",
       "    </tr>\n",
       "    <tr>\n",
       "      <th>4</th>\n",
       "      <td>4</td>\n",
       "      <td>2</td>\n",
       "      <td>3</td>\n",
       "      <td>NaN</td>\n",
       "      <td>NaN</td>\n",
       "      <td>NaN</td>\n",
       "      <td>NaN</td>\n",
       "      <td>6.0</td>\n",
       "      <td>NaN</td>\n",
       "      <td>1.0</td>\n",
       "      <td>...</td>\n",
       "      <td>0</td>\n",
       "      <td>0</td>\n",
       "      <td>0</td>\n",
       "      <td>7226.301740</td>\n",
       "      <td>8567.549110</td>\n",
       "      <td>12999.542264</td>\n",
       "      <td>2</td>\n",
       "      <td>12</td>\n",
       "      <td>NaN</td>\n",
       "      <td>6.1875</td>\n",
       "    </tr>\n",
       "  </tbody>\n",
       "</table>\n",
       "<p>5 rows × 245 columns</p>\n",
       "</div>"
      ],
      "text/plain": [
       "   Unnamed: 0  caseid  pregordr  howpreg_n  howpreg_p  moscurrp  nowprgdk  \\\n",
       "0           0       1         1        NaN        NaN       NaN       NaN   \n",
       "1           1       1         2        NaN        NaN       NaN       NaN   \n",
       "2           2       2         1        NaN        NaN       NaN       NaN   \n",
       "3           3       2         2        NaN        NaN       NaN       NaN   \n",
       "4           4       2         3        NaN        NaN       NaN       NaN   \n",
       "\n",
       "   pregend1  pregend2  nbrnaliv  ...  laborfor_i  religion_i  metro_i  \\\n",
       "0       6.0       NaN       1.0  ...           0           0        0   \n",
       "1       6.0       NaN       1.0  ...           0           0        0   \n",
       "2       5.0       NaN       3.0  ...           0           0        0   \n",
       "3       6.0       NaN       1.0  ...           0           0        0   \n",
       "4       6.0       NaN       1.0  ...           0           0        0   \n",
       "\n",
       "       basewgt  adj_mod_basewgt      finalwgt  secu_p  sest  cmintvw  \\\n",
       "0  3410.389399      3869.349602   6448.271112       2     9      NaN   \n",
       "1  3410.389399      3869.349602   6448.271112       2     9      NaN   \n",
       "2  7226.301740      8567.549110  12999.542264       2    12      NaN   \n",
       "3  7226.301740      8567.549110  12999.542264       2    12      NaN   \n",
       "4  7226.301740      8567.549110  12999.542264       2    12      NaN   \n",
       "\n",
       "   totalwgt_lb  \n",
       "0       8.8125  \n",
       "1       7.8750  \n",
       "2       9.1250  \n",
       "3       7.0000  \n",
       "4       6.1875  \n",
       "\n",
       "[5 rows x 245 columns]"
      ]
     },
     "execution_count": 91,
     "metadata": {},
     "output_type": "execute_result"
    }
   ],
   "source": [
    "df.head()"
   ]
  },
  {
   "cell_type": "markdown",
   "metadata": {
    "id": "h65YROsZwG-_"
   },
   "source": [
    "# 1. ülesanne.  Sünnikaalu andmete kvaliteet - esialgsed mudelid (1.5 punkti)"
   ]
  },
  {
   "cell_type": "markdown",
   "metadata": {
    "id": "4H2mgbOFwG_A"
   },
   "source": [
    "USA's raporteeritakse kaalu kahe erineva ühikuna, näiteks raporteeritud kaal 7 naela ja 8 untsi (tõlkimata ühikutes: 7 lb 8 oz) teisenduks kaaluks 3.40194 kg (üsna keskmine sünnikaal). Vastavad väärtused leiab veergudest `birthwgt_lb` (naelad) ning `birthwgt_oz` (untsid). Meie tegeleme originaalühikutega, kuna uurime seda, kui usaldusväärselt on inimesed kaalusid raporteerinud. Kuna tahame vaadata kogukaalu, siis peaksime naelad ja untsid teisendama ühe ühiku alla ning leidma kogukaalu untsides (kogukaal untsides = naelad * 16 + untsid).\n",
    "\n",
    "Teisenduse info: 1 nael = 16 untsi = 453,59237 grammi (1 unts ≈ 28.3 grammi)."
   ]
  },
  {
   "cell_type": "code",
   "execution_count": 92,
   "metadata": {
    "id": "G8bh_UBdwG_B"
   },
   "outputs": [],
   "source": [
    "kaalud_lb = df.birthwgt_lb\n",
    "kaalud_oz = df.birthwgt_oz\n",
    "kaalud = 16*kaalud_lb + kaalud_oz"
   ]
  },
  {
   "cell_type": "markdown",
   "metadata": {
    "id": "37xnK-K-wG_C"
   },
   "source": [
    "Kuna andmetes on puuduvaid väärtusi, siis viskame need välja."
   ]
  },
  {
   "cell_type": "code",
   "execution_count": 93,
   "metadata": {
    "id": "szhJcPuMwG_C"
   },
   "outputs": [],
   "source": [
    "puuduvad = np.isnan(kaalud) # NaN on puuduvad, isnan ütleb millised on puuduvad\n",
    "kaalud_lb = kaalud_lb[~puuduvad] # ~ tähendab eitust, ehk siis mittepuuduvad\n",
    "kaalud_oz = kaalud_oz[~puuduvad]\n",
    "kaalud = kaalud[~puuduvad]"
   ]
  },
  {
   "cell_type": "markdown",
   "metadata": {
    "id": "DY3Iq08IwG_D"
   },
   "source": [
    "Et jooniste tegemine läheks eriti kiiresti ja hõlpsalt, defineerime funktsiooni, mis saab ette kaalude loetelu ning teeb nendest kaalude histogrammi."
   ]
  },
  {
   "cell_type": "code",
   "execution_count": 94,
   "metadata": {
    "id": "1YXM9WmXwG_E"
   },
   "outputs": [],
   "source": [
    "def joonis(kaalud, pealkiri, joonise_suurus=None):\n",
    "    kaalude_sagedused = kaalud.value_counts() # loendame sagedused\n",
    "    kaalude_sagedused_nullidega = kaalude_sagedused.reindex(range(round(max(kaalud))+1), fill_value=0)\n",
    "                                  # ja määrame andmetes mitte esinenud kaalude sageduseks nullid\n",
    "    plt.figure(figsize=joonise_suurus)\n",
    "    plt.title(pealkiri)\n",
    "    plt.bar(kaalude_sagedused_nullidega.index, kaalude_sagedused_nullidega, width=1)\n",
    "    plt.xlabel('kaal')\n",
    "    plt.ylabel('sagedus')\n",
    "    plt.show()"
   ]
  },
  {
   "cell_type": "code",
   "execution_count": 95,
   "metadata": {
    "colab": {
     "base_uri": "https://localhost:8080/",
     "height": 962
    },
    "executionInfo": {
     "elapsed": 530,
     "status": "ok",
     "timestamp": 1758365891189,
     "user": {
      "displayName": "Saskia",
      "userId": "03414353355782269967"
     },
     "user_tz": -180
    },
    "id": "y8v15LFOwG_F",
    "outputId": "6b3786f4-b52c-4cac-eb90-7d813370f17f"
   },
   "outputs": [
    {
     "data": {
      "image/png": "[encoded data removed]",
      "text/plain": [
       "<Figure size 640x480 with 1 Axes>"
      ]
     },
     "metadata": {},
     "output_type": "display_data"
    },
    {
     "data": {
      "image/png": "[encoded data removed]",
      "text/plain": [
       "<Figure size 1600x800 with 1 Axes>"
      ]
     },
     "metadata": {},
     "output_type": "display_data"
    }
   ],
   "source": [
    "joonis(kaalud_lb, 'Raporteeritud kaalud naeltes (ainult naela täpsusega)')\n",
    "joonis(kaalud, 'Raporteeritud kaalud (kogukaal untsides)',joonise_suurus=(16,8))"
   ]
  },
  {
   "cell_type": "markdown",
   "metadata": {
    "id": "djnjaAG3wG_G"
   },
   "source": [
    "### Näide\n",
    "\n",
    "Et oleks selge, mida on ülesannetes mõeldud oodatud tulemuse all, on kõigepealt toodud üks näiteküsimus koos täislahendusega. Selle näite-alapunktiga midagi tegema ei pea."
   ]
  },
  {
   "cell_type": "markdown",
   "metadata": {
    "id": "e_YlUiSkwG_H"
   },
   "source": [
    "<font color='purple'>**(Näide) Defineeri statistiline mudel funktsioonina `def mudel_näide(arv):`, mis genereerib *arv* korda vahemikust 0-100 (ühtlase jaotusega) juhusliku täisarvulise sünnikaalu.\n",
    "    Genereeri selle funktsiooni abil sama suur valim kui ülal muutujas `kaalud` ning visualiseeri sagedused tulpdiagrammina.    \n",
    "OODATUD TULEMUS: funktsioon mudel_näide, joonis.**\n",
    "</font>\n",
    "\n",
    "***TEHTUD*** : 1"
   ]
  },
  {
   "cell_type": "code",
   "execution_count": 96,
   "metadata": {
    "id": "vpPLoqDmwG_I"
   },
   "outputs": [],
   "source": [
    "# See on näide, et näha, mis on oodatud\n",
    "rng = np.random.default_rng(0)\n",
    "\n",
    "def mudel_näide(arv):\n",
    "    # OODATUD TULEMUS: funktsioon on kirjutatud ja töötab\n",
    "    return rng.integers(low=0, high=100, size=arv)\n",
    "\n",
    "näite_mudeli_väljund = mudel_näide(100)"
   ]
  },
  {
   "cell_type": "markdown",
   "metadata": {
    "id": "vPaonQ_bwG_I"
   },
   "source": [
    "Vajadusel võib välju **juurde** lisada, kuid mitte ära kustutada!"
   ]
  },
  {
   "cell_type": "code",
   "execution_count": 97,
   "metadata": {
    "colab": {
     "base_uri": "https://localhost:8080/",
     "height": 472
    },
    "executionInfo": {
     "elapsed": 185,
     "status": "ok",
     "timestamp": 1758365891379,
     "user": {
      "displayName": "Saskia",
      "userId": "03414353355782269967"
     },
     "user_tz": -180
    },
    "id": "nOl5ypbNwG_J",
    "outputId": "d5fdee22-b59a-4bf9-d907-70585a767f7f",
    "scrolled": true
   },
   "outputs": [
    {
     "data": {
      "image/png": "[encoded data removed]",
      "text/plain": [
       "<Figure size 640x480 with 1 Axes>"
      ]
     },
     "metadata": {},
     "output_type": "display_data"
    }
   ],
   "source": [
    "# OODATUD TULEMUS: joonis mudeli väljundiga.\n",
    "joonis(pd.Series(näite_mudeli_väljund), \"Näidismudel\")"
   ]
  },
  {
   "cell_type": "markdown",
   "metadata": {
    "id": "JkbyvTfYwG_M"
   },
   "source": [
    "<font color='purple'>**(a) Üsna mõistlik eeldus on, et juhuslikult valitud kaalud on jaotunud mõnevõrra sarnaselt normaaljaotusele - rohkem beebisid sünnib keskmise kaalu lähedusse, ekstreemseid väärtuseid on vähem. Ning ka see, et päris kaalude tõenäosusjaotus on enam vähem sujuv - oleks veider eeldada, et kaaluga 120 oz sündida on oluliselt suurem tõenäosus kui sündida kaaluga 121 oz. Seega hakkame uurima, kas normaaljaotusest genereerides ja seejärel täisarvuni ümardades on võimalik saada viimasele ülal leitud tulpdiagrammile sarnast tulemust.**</font>\n",
    "\n",
    "<font color='purple'>**JUHISED:**</font>\n",
    "\n",
    "1) <font color='purple'>**Võta täisarvulised kaalud untsides (ehk vektor `kaalud`) ja sobita neile normaaljaotus. Normaaljaotuse sobitamiseks tuleks lihtsalt leida andmestikust normaaljaotuse jaoks vajalikud parameetrid: kaalude keskmine ja standardhälve.**</font>\n",
    "\n",
    "2) <font color='purple'>**Mis tõenäosusega tuleks sellest normaaljaotusest tulemus, mis on ümardatult võrdne arvuga 100? Arvuta samamoodi kõigi võimalike täisarvuliste kaalude 0 kuni 250 saamise tõenäosused kui kaal võtta normaaljaotusest ja seejärel ümardada.**</font>\n",
    "\n",
    "3) <font color='purple'>**Visualiseeri need tõenäosused ehk oodatavad suhtelised sagedused tulpdiagrammina.**</font>\n",
    "\n",
    "<font color='purple'> **OODATUD TULEMUS: kaalude keskmine; kaalude standardhälve; tõenäosus saada ümardatud tulemuseks 100; joonis.**</font>\n",
    "    \n",
    "VIHJED:\n",
    "* Vaata loengumaterjale.\n",
    "* Vaata `np.mean` ja `np.std`.\n",
    "* Programmeerimisel on vahendite valik vaba, eelistatult siiski mitte ebastandardseid teeke kasutada. Ülaltoodud funktsiooni `joonis` võib kasutada või soovi/vajaduse korral sellest siia alla lahendusalasse uue muudetud ja ümbernimetatud versiooni teha (sest lahendusväliseid alasid ei ole kodutöös lubatud muuta).\n",
    "* Tõenäosused saab leida kahel viisil:\n",
    "    * Tihedusfunktsiooni aluse pindalaga, kus kaalu 100 tõenäosus on pindala 99,5 ja 100,5 vahel. Seda saab arvutada jaotusfunktsiooni abil - `scipy.stats.norm.cdf(100.5)-scipy.stats.norm.cdf(99.5)`\n",
    "    * Ligikaudseks arvutamiseks sobib ka tõenäosustiheduste renormaliseerimise meetod, kasutades funktsiooni `scipy.stats.norm.pdf`. Arvuta tõenäosustihedused vaadeldaval hulgal täisarvulistel kohtadel, seejärel renormaliseeri s.t. jaga iga tihedus läbi vaadeldavate tiheduste summaga, et saadud tulemuste summa oleks võrdne arvuga 1.\n",
    "* Võite huvi pärast neid kaht meetodit mõlemat proovida ja võrrelda. Maksimumpunktide saamiseks piisab kui kasutada ükskõik kumba neist.\n",
    "\n",
    "**Küsimus praksi juhendajale:**\n",
    "\n",
    "***TEHTUD*** : 1/1"
   ]
  },
  {
   "cell_type": "code",
   "execution_count": 98,
   "metadata": {
    "id": "3ZEM40ch-U2F"
   },
   "outputs": [],
   "source": [
    "# CONSTANTS\n",
    "\n",
    "MAKSIMUM_KAAL_OZ = 251\n",
    "MIINIMUM_KAAL_OZ = 0"
   ]
  },
  {
   "cell_type": "code",
   "execution_count": 99,
   "metadata": {
    "id": "PzBpiJNuwG_N"
   },
   "outputs": [],
   "source": [
    "# Lahendus siia\n",
    "from scipy.stats import norm"
   ]
  },
  {
   "cell_type": "code",
   "execution_count": 100,
   "metadata": {
    "id": "dnejJoKh72CZ"
   },
   "outputs": [],
   "source": [
    "# 1\n",
    "  # Võta täisarvulised kaalud untsides (ehk vektor kaalud) ja sobita neile normaaljaotus. Normaaljaotuse sobitamiseks tuleks lihtsalt leida andmestikust normaaljaotuse jaoks vajalikud parameetrid: kaalude keskmine ja standardhälve.\n",
    "\n",
    "kaalude_EX = np.mean(kaalud)\n",
    "kaalude_SD = np.std(kaalud)"
   ]
  },
  {
   "cell_type": "code",
   "execution_count": 101,
   "metadata": {
    "colab": {
     "base_uri": "https://localhost:8080/"
    },
    "executionInfo": {
     "elapsed": 5,
     "status": "ok",
     "timestamp": 1758365891430,
     "user": {
      "displayName": "Saskia",
      "userId": "03414353355782269967"
     },
     "user_tz": -180
    },
    "id": "WYDcYlQY76cE",
    "outputId": "4edb8e59-601b-44f8-dc18-486c6bafd940"
   },
   "outputs": [
    {
     "name": "stdout",
     "output_type": "stream",
     "text": [
      "116.25005532197389 22.53144854144992\n"
     ]
    }
   ],
   "source": [
    "print(kaalude_EX, kaalude_SD)"
   ]
  },
  {
   "cell_type": "code",
   "execution_count": null,
   "metadata": {},
   "outputs": [],
   "source": []
  },
  {
   "cell_type": "code",
   "execution_count": 102,
   "metadata": {
    "colab": {
     "base_uri": "https://localhost:8080/"
    },
    "executionInfo": {
     "elapsed": 20,
     "status": "ok",
     "timestamp": 1758365891449,
     "user": {
      "displayName": "Saskia",
      "userId": "03414353355782269967"
     },
     "user_tz": -180
    },
    "id": "YRvkQnG-9t9u",
    "outputId": "66225894-a008-43ec-e34a-59d2729436ea"
   },
   "outputs": [
    {
     "name": "stdout",
     "output_type": "stream",
     "text": [
      "p = 100 (klass 99,5 - 100,5):\t 0.013650669990982855\n",
      "skaleerimata p 0-250:\t\t 0.9999998887594422\n",
      "skaleeritud p 0-250:\t\t 0.9999999999999998\n"
     ]
    }
   ],
   "source": [
    "# 2\n",
    "  # Mis tõenäosusega tuleks sellest normaaljaotusest tulemus, mis on ümardatult võrdne arvuga 100? Arvuta samamoodi kõigi võimalike täisarvuliste kaalude 0 kuni 250 saamise tõenäosused kui kaal võtta normaaljaotusest ja seejärel ümardada.\n",
    "\n",
    "p_kaal_100_oz = norm.cdf(100.5, loc=kaalude_EX, scale=kaalude_SD) \\\n",
    "                  - norm.cdf(99.5, loc=kaalude_EX, scale=kaalude_SD)\n",
    "\n",
    "print(\"p = 100 (klass 99,5 - 100,5):\\t\", p_kaal_100_oz)\n",
    "\n",
    "p_0_kuni_250_oz = []\n",
    "\n",
    "# Miks siin +1 lõhub ära?\n",
    "for i in range(MAKSIMUM_KAAL_OZ):\n",
    "  tn = norm.cdf(i + 0.5, loc=kaalude_EX, scale=kaalude_SD) - norm.cdf(i - 0.5, loc=kaalude_EX, scale=kaalude_SD)\n",
    "  p_0_kuni_250_oz.append(tn)\n",
    "\n",
    "print(\"skaleerimata p 0-250:\\t\\t\", sum(p_0_kuni_250_oz))\n",
    "\n",
    "skaleeritud_p_0_kuni_250_oz = p_0_kuni_250_oz / sum(p_0_kuni_250_oz)\n",
    "\n",
    "print(\"skaleeritud p 0-250:\\t\\t\", sum(skaleeritud_p_0_kuni_250_oz))"
   ]
  },
  {
   "cell_type": "code",
   "execution_count": 103,
   "metadata": {
    "colab": {
     "base_uri": "https://localhost:8080/",
     "height": 448
    },
    "executionInfo": {
     "elapsed": 363,
     "status": "ok",
     "timestamp": 1758365891814,
     "user": {
      "displayName": "Saskia",
      "userId": "03414353355782269967"
     },
     "user_tz": -180
    },
    "id": "5vAdYuvx-FA2",
    "outputId": "c3f6aead-a81f-48aa-d2ff-753c49739082"
   },
   "outputs": [
    {
     "data": {
      "text/plain": [
       "<BarContainer object of 251 artists>"
      ]
     },
     "execution_count": 103,
     "metadata": {},
     "output_type": "execute_result"
    },
    {
     "data": {
      "image/png": "[encoded data removed]",
      "text/plain": [
       "<Figure size 640x480 with 1 Axes>"
      ]
     },
     "metadata": {},
     "output_type": "display_data"
    }
   ],
   "source": [
    "# 3\n",
    "  # Visualiseeri need tõenäosused ehk oodatavad suhtelised sagedused tulpdiagrammina.\n",
    "\n",
    "plt.bar(\n",
    "    x=range(MIINIMUM_KAAL_OZ, MAKSIMUM_KAAL_OZ),          # x-telg\n",
    "    height=skaleeritud_p_0_kuni_250_oz * MAKSIMUM_KAAL_OZ   # y-telg\n",
    ")"
   ]
  },
  {
   "cell_type": "code",
   "execution_count": 104,
   "metadata": {
    "id": "ajcx2NeowG_O"
   },
   "outputs": [],
   "source": [
    "# Koodi- ja tekstivälju võib soovi korral juurde teha, kuid mitte kustutada"
   ]
  },
  {
   "cell_type": "markdown",
   "metadata": {
    "id": "po4-OFcfwG_P"
   },
   "source": [
    "<font color='purple'>**(b) Loome statistilise mudeli, mis suudab andmeid genereerida.** </font>\n",
    "\n",
    "<font color='purple'>**JUHISED:**</font>\n",
    "\n",
    "1) <font color='purple'>**Defineeri funktsioon `def mudel_b(arv):`, mis genereerib nii palju sünnikaalusid (täisarv untsides) kui argument `arv` ütleb, kasutades alapunktis (a) leitud normaaljaotust ja ümardamist.** </font>\n",
    "\n",
    "2) <font color='purple'>**Genereeri selle funktsiooni abil sama suur valim kui ülal muutujas `kaalud` ning visualiseeri sagedused tulpdiagrammina.** </font>\n",
    "\n",
    "<font color='purple'>**OODATUD TULEMUS: funktsioon `mudel_b`, joonis.**</font>\n",
    "    \n",
    "VIHJE: Vaata `rng.choice` (`numpy.random.Generator.choice` numpy dokumentatsioonis), mis võimaldab genereerida väärtusi mistahes diskreetsest tõenäosusjaotusest (argumendiga `p` saab määrata elementaarsündmuste tõenäosused) ning kasuta alapunktis (a) leitud tõenäosusi. Alternatiivina võib genereerida otse normaaljaotusest ja siis ümardada.\n",
    "\n",
    "**Küsimus praksi juhendajale:**\n",
    "\n",
    "***TEHTUD*** : 1/1"
   ]
  },
  {
   "cell_type": "code",
   "execution_count": 105,
   "metadata": {
    "id": "9Lu-I2zmwG_Q"
   },
   "outputs": [],
   "source": [
    "rng = np.random.default_rng(0) # siin ja edaspidi seda rida palun mitte eemaldada - see garanteerib, et igal käivitamisel oleks sama tulemus\n",
    "\n",
    "# 1\n",
    "  # Defineeri funktsioon def mudel_b(arv):, mis genereerib nii palju sünnikaalusid (täisarv untsides) kui argument arv ütleb, kasutades alapunktis (a) leitud normaaljaotust ja ümardamist.\n",
    "def mudel_b(arv):\n",
    "    # pass # asenda siin lahendusega\n",
    "    return rng.choice(\n",
    "        range(MAKSIMUM_KAAL_OZ),\n",
    "        size=arv,\n",
    "        p=skaleeritud_p_0_kuni_250_oz\n",
    "      )"
   ]
  },
  {
   "cell_type": "code",
   "execution_count": 106,
   "metadata": {
    "id": "VMVhoPCQFD10"
   },
   "outputs": [],
   "source": [
    "# CONSTANTS\n",
    "\n",
    "KAALUDE_KOGUARV = len(skaleeritud_p_0_kuni_250_oz)"
   ]
  },
  {
   "cell_type": "code",
   "execution_count": 107,
   "metadata": {
    "colab": {
     "base_uri": "https://localhost:8080/",
     "height": 448
    },
    "executionInfo": {
     "elapsed": 327,
     "status": "ok",
     "timestamp": 1758365892186,
     "user": {
      "displayName": "Saskia",
      "userId": "03414353355782269967"
     },
     "user_tz": -180
    },
    "id": "Fa_LX0HKCeve",
    "outputId": "1bbf0043-b930-4a36-f3ce-1db02a448cb1"
   },
   "outputs": [
    {
     "data": {
      "text/plain": [
       "<BarContainer object of 251 artists>"
      ]
     },
     "execution_count": 107,
     "metadata": {},
     "output_type": "execute_result"
    },
    {
     "data": {
      "image/png": "[encoded data removed]",
      "text/plain": [
       "<Figure size 640x480 with 1 Axes>"
      ]
     },
     "metadata": {},
     "output_type": "display_data"
    }
   ],
   "source": [
    "# 2\n",
    "  # Genereeri selle funktsiooni abil sama suur valim kui ülal muutujas kaalud ning visualiseeri sagedused tulpdiagrammina.\n",
    "\n",
    "\n",
    "random_valikud_mudelist_b = mudel_b(KAALUDE_KOGUARV)\n",
    "punktide_arv = np.bincount(random_valikud_mudelist_b, minlength=KAALUDE_KOGUARV)\n",
    "\n",
    "plt.bar(range(KAALUDE_KOGUARV), punktide_arv)"
   ]
  },
  {
   "cell_type": "markdown",
   "metadata": {
    "id": "5ORcvFqOwG_R"
   },
   "source": [
    "<font color='purple'>**(c) Uurime, kui sarnased on genereeritud andmed tegelikele andmetele.**</font>\n",
    "\n",
    "<font color='purple'>**JUHISED:**</font>\n",
    "\n",
    "1. <font color='purple'>**Kasutades statistilist mudelit `mudel_b`, genereeri 100 komplekti sünnikaalusid (iga komplekt sama suur kui algne andmestik `kaalud`).** </font>\n",
    "\n",
    "2. <font color='purple'>**Iga sünnikaalu jaoks leia minimaalne ja maksimaalne arv esinemisi üle komplektide.** </font>\n",
    "\n",
    "3. <font color='purple'>**Visualiseeri sünnikaalude sagedused algses andmestikus `kaalud`, lisades joonisele leitud miinimumid ja maksimumid üle `mudel_b` poolt genereeritud andmestike.** </font>\n",
    "    \n",
    "<font color='purple'>**OODATUD TULEMUS: joonis.**</font>\n",
    "\n",
    "**Küsimus praksi juhendajale:**\n",
    "\n",
    "***TEHTUD*** : 1/1"
   ]
  },
  {
   "cell_type": "code",
   "execution_count": 108,
   "metadata": {
    "id": "X73mUSDcwG_R"
   },
   "outputs": [],
   "source": [
    "rng = np.random.default_rng(0) # mitte kustutada\n",
    "# Lahendus siia\n",
    "\n",
    "# 1\n",
    "  # Kasutades statistilist mudelit mudel_b, genereeri 100 komplekti sünnikaalusid (iga komplekt sama suur kui algne andmestik kaalud).\n",
    "\n",
    "sünnikaalud_100_komplekti = [mudel_b(len(kaalud)) for i in range(100)]"
   ]
  },
  {
   "cell_type": "code",
   "execution_count": 109,
   "metadata": {
    "id": "04PE09NEFQe9"
   },
   "outputs": [],
   "source": [
    "kaalude_miinimumid = np.full(MAKSIMUM_KAAL_OZ, np.inf)\n",
    "kaalude_maksimumid = np.zeros(MAKSIMUM_KAAL_OZ)\n",
    "\n",
    "for komplekt in sünnikaalud_100_komplekti:\n",
    "    sagedused = np.bincount(komplekt, minlength=MAKSIMUM_KAAL_OZ)\n",
    "    kaalude_miinimumid = np.minimum(kaalude_miinimumid, sagedused)\n",
    "    kaalude_maksimumid = np.maximum(kaalude_maksimumid, sagedused)\n",
    "\n",
    "# print(\"kaalude miinimumid:\\t\", kaalude_miinimumid)\n",
    "# print(\"kaalude maksimumid:\\t\", kaalude_maksimumid)\n"
   ]
  },
  {
   "cell_type": "code",
   "execution_count": 110,
   "metadata": {
    "colab": {
     "base_uri": "https://localhost:8080/",
     "height": 430
    },
    "executionInfo": {
     "elapsed": 941,
     "status": "ok",
     "timestamp": 1758365893229,
     "user": {
      "displayName": "Saskia",
      "userId": "03414353355782269967"
     },
     "user_tz": -180
    },
    "id": "TZVl4Is4Uaq-",
    "outputId": "b35b28e4-0370-41c6-c1ab-f79b8682fab8"
   },
   "outputs": [
    {
     "name": "stderr",
     "output_type": "stream",
     "text": [
      "C:\\Users\\Saskia\\AppData\\Local\\Temp\\ipykernel_23028\\1061230240.py:7: DeprecationWarning: Non-integer input passed to bincount. In a future version of NumPy, this will be an error. (Deprecated NumPy 2.1)\n",
      "  np.bincount(kaalud, minlength=KAALUDE_KOGUARV)\n"
     ]
    },
    {
     "data": {
      "image/png": "[encoded data removed]",
      "text/plain": [
       "<Figure size 640x480 with 1 Axes>"
      ]
     },
     "metadata": {},
     "output_type": "display_data"
    }
   ],
   "source": [
    "# 3\n",
    "  # Visualiseeri sünnikaalude sagedused algses andmestikus kaalud, lisades joonisele leitud miinimumid ja maksimumid üle mudel_b poolt genereeritud andmestike.\n",
    "\n",
    "plt.xticks(range(0,251,20))\n",
    "plt.bar(\n",
    "    range(KAALUDE_KOGUARV),\n",
    "    np.bincount(kaalud, minlength=KAALUDE_KOGUARV)\n",
    ")\n",
    "plt.fill_between(\n",
    "    range(KAALUDE_KOGUARV),\n",
    "    kaalude_miinimumid,\n",
    "    kaalude_maksimumid,\n",
    "    alpha=0.3\n",
    ")\n",
    "plt.plot(\n",
    "    kaalude_miinimumid,\n",
    "    color='black'\n",
    ")\n",
    "plt.plot(\n",
    "    kaalude_maksimumid,\n",
    "    color='black'\n",
    ")\n",
    "plt.show()\n"
   ]
  },
  {
   "cell_type": "markdown",
   "metadata": {
    "id": "7V5O_ySTwG_S"
   },
   "source": [
    "<font color='purple'>**(d) Eelmises alapunktis (c) tehtud joonise alusel tuua välja 3 põhjendust, mis näitavad, et `mudel_b` ei kajasta seda, kuidas küsitletud inimesed sünnikaale raporteerivad. Selgitada, kuidas need faktid seda näitavad.**</font>\n",
    "\n",
    "<font color='purple'>**OODATUD TULEMUS: 3 fakti ning selgitus.**</font>\n",
    "\n",
    "**Küsimus praksi juhendajale:**\n",
    "\n",
    "***TEHTUD*** : 1/1"
   ]
  },
  {
   "cell_type": "markdown",
   "metadata": {
    "id": "uDPKBP9wwG_T"
   },
   "source": [
    "1. Normaaljaotuse mudeli maksimum väärtused ei taha väga kokku minna realsete andmetega, vahel alahindame maksimumi ja vahel ülehindame - realselt miinimum väätus kirjeldab paremini realseid andmeid mingis osas.\n",
    "2. Mudel on liiga perfektne. Liiga vähe `mudel_b` katseid, et normaaljaotuse põhjal otsuseid teha, see ei kata eksteermised väärtusied tänu sellele. \n",
    "3. Kaalu mõõtmine võib olla ebatäpne."
   ]
  },
  {
   "cell_type": "markdown",
   "metadata": {
    "id": "UPu7XUQEwG_T"
   },
   "source": [
    "<font color='purple'>**(e) Sobita andmetele `kaalud` täpsema kujuga jaotus kasutades meetodit KDE (kernel density estimation, vaata alltoodud vihjet). Mis tõenäosusega tuleks sellest KDE jaotusest tulemus, mis on ümardatult võrdne arvuga 100? Arvuta samamoodi kõigi võimalike täisarvuliste kaalude 0 kuni 250 saamise tõenäosused kui kaal võtta KDE jaotusest ja seejärel ümardada (sarnaselt alapunktile (a)). Visualiseeri oodatavad suhtelised sagedused tulpdiagrammina.** </font>  \n",
    "\n",
    "<font color='purple'>**OODATUD TULEMUS: joonis**.</font>\n",
    "    \n",
    "VIHJE: Kasuta käsku `kde = stats.gaussian_kde(kaalud)`, mis sisuliselt paneb iga andmepunkti ümber kitsa normaaljaotuse ning siis teeb kõigist nendest normaaljaotustest suure segu. Seejuures on selle käsu sees kasutusel kavalad meetodid, et nende kitsaste normaaljaotuste 'laius' parajalt valida. Jaotusel `kde` on defineeritud tihedusfunktsioon, mida saab rakendada sarnaselt nagu `scipy.stats.norm.pdf`, ehk siis `kde.pdf([80,90,100])` ütleb tõenäosuse tiheduse väärtustel 80, 90 ja 100 untsi. Jaotusfunktsiooni (cdf) otseselt ei ole, aga selle eest saab küsida näiteks 99,5 ja 100,5 vahele langemise tõenäosust: `kde.integrate_box([99.5],[100.5])`.\n",
    "\n",
    "**Küsimus praksi juhendajale:** -\n",
    "\n",
    "***TEHTUD*** : 1/1"
   ]
  },
  {
   "cell_type": "code",
   "execution_count": 111,
   "metadata": {
    "id": "I3HuZ7_ewG_U"
   },
   "outputs": [],
   "source": [
    "# Lahendus siia\n",
    "\n",
    "from scipy import stats\n",
    "\n",
    "kde = stats.gaussian_kde(kaalud)"
   ]
  },
  {
   "cell_type": "code",
   "execution_count": 112,
   "metadata": {
    "colab": {
     "base_uri": "https://localhost:8080/"
    },
    "executionInfo": {
     "elapsed": 109,
     "status": "ok",
     "timestamp": 1758365893337,
     "user": {
      "displayName": "Saskia",
      "userId": "03414353355782269967"
     },
     "user_tz": -180
    },
    "id": "zx-JGc2JUPr3",
    "outputId": "b53a8d7a-0dc7-4d6d-ef76-f7bb77befb26"
   },
   "outputs": [
    {
     "name": "stdout",
     "output_type": "stream",
     "text": [
      "KDE tõenäosuse 100 (klass 99,5 - 100,5):\t 0.01408314673402525\n",
      "KDE tõenäosuse 100:\t\t\t\t 0.01408805509455228\n",
      "NJ tõenäosuse 100 (klass 99,5 - 100,5):\t\t 0.013650669990982855\n"
     ]
    }
   ],
   "source": [
    "# 1\n",
    "  # Mis tõenäosusega tuleks sellest KDE jaotusest tulemus, mis on ümardatult võrdne arvuga 100?\n",
    "kde_p_100_oz = kde.integrate_box([99.5],[100.5])\n",
    "kde_p_100_oz_pdf = kde.pdf(100)\n",
    "\n",
    "print(\"KDE tõenäosuse 100 (klass 99,5 - 100,5):\\t\", kde_p_100_oz)\n",
    "print(\"KDE tõenäosuse 100:\\t\\t\\t\\t\", kde_p_100_oz_pdf[0])\n",
    "print(\"NJ tõenäosuse 100 (klass 99,5 - 100,5):\\t\\t\", p_kaal_100_oz)"
   ]
  },
  {
   "cell_type": "code",
   "execution_count": 113,
   "metadata": {
    "colab": {
     "base_uri": "https://localhost:8080/"
    },
    "executionInfo": {
     "elapsed": 25217,
     "status": "ok",
     "timestamp": 1758365918554,
     "user": {
      "displayName": "Saskia",
      "userId": "03414353355782269967"
     },
     "user_tz": -180
    },
    "id": "UvqI4oEEUenH",
    "outputId": "1379e44d-3620-4bf6-bab5-b487dec074ce"
   },
   "outputs": [
    {
     "name": "stdout",
     "output_type": "stream",
     "text": [
      "1.0000000000000007\n"
     ]
    }
   ],
   "source": [
    "# 2\n",
    "  # Arvuta samamoodi kõigi võimalike täisarvuliste kaalude 0 kuni 250 saamise tõenäosused kui kaal võtta KDE jaotusest ja seejärel ümardada (sarnaselt alapunktile (a)). Visualiseeri oodatavad suhtelised sagedused tulpdiagrammina.\n",
    "\n",
    "kde_p_0_250_oz = []\n",
    "\n",
    "for i in range(MAKSIMUM_KAAL_OZ):\n",
    "  tn = kde.integrate_box([i - 0.5],[i + 0.5])\n",
    "  kde_p_0_250_oz.append(tn)\n",
    "\n",
    "\n",
    "# normaliseerimine\n",
    "skaleeritud_kde_p_0_250_oz = kde_p_0_250_oz / sum(kde_p_0_250_oz)\n",
    "\n",
    "print(sum(skaleeritud_kde_p_0_250_oz))"
   ]
  },
  {
   "cell_type": "code",
   "execution_count": 114,
   "metadata": {
    "colab": {
     "base_uri": "https://localhost:8080/",
     "height": 448
    },
    "executionInfo": {
     "elapsed": 358,
     "status": "ok",
     "timestamp": 1758365918910,
     "user": {
      "displayName": "Saskia",
      "userId": "03414353355782269967"
     },
     "user_tz": -180
    },
    "id": "x4tgxJSvVlNP",
    "outputId": "b135e660-aa1c-4666-9e6d-75009e91f881"
   },
   "outputs": [
    {
     "data": {
      "text/plain": [
       "<BarContainer object of 251 artists>"
      ]
     },
     "execution_count": 114,
     "metadata": {},
     "output_type": "execute_result"
    },
    {
     "data": {
      "image/png": "[encoded data removed]",
      "text/plain": [
       "<Figure size 640x480 with 1 Axes>"
      ]
     },
     "metadata": {},
     "output_type": "display_data"
    }
   ],
   "source": [
    "plt.bar(range(MAKSIMUM_KAAL_OZ), skaleeritud_kde_p_0_250_oz)"
   ]
  },
  {
   "cell_type": "markdown",
   "metadata": {
    "id": "F3Yf4YdEwG_V"
   },
   "source": [
    "<font color='purple'>**(f) Defineeri alapunkti (e) järgi statistiline mudel funktsioonina `def mudel_f(arv):`, mis genereerib sünnikaalude jaotuse KDE baasil, mitte eeldades normaaljaotust. Analoogiliselt alapunktile (c), genereeri 100 komplekti sünnikaalusid ning visualiseeri sünnikaalude sagedused algses andmestikus `kaalud`, lisades joonisele leitud miinimumid ja maksimumid üle `mudel_f` poolt genereeritud andmestike.** </font>\n",
    "\n",
    "<font color='purple'>**OODATUD TULEMUS: joonis.**\n",
    "\n",
    "VIHJE: See ülesanne on sarnane alapunktidele (a), (b), (c), aga normaaljaotuse asemel modelleerime KDE baasil.</font>\n",
    "\n",
    "**Küsimus praksi juhendajale:** -\n",
    "\n",
    "***TEHTUD*** : 1/1"
   ]
  },
  {
   "cell_type": "code",
   "execution_count": 115,
   "metadata": {
    "id": "9VaQwAWSwG_X"
   },
   "outputs": [],
   "source": [
    "rng = np.random.default_rng(0)\n",
    "\n",
    "# 1\n",
    "  # Defineeri alapunkti (e) järgi statistiline mudel funktsioonina def mudel_f(arv):, mis genereerib sünnikaalude jaotuse KDE baasil, mitte eeldades normaaljaotust\n",
    "def mudel_f(arv):\n",
    "    # pass # Asendage lahendusega\n",
    "    return rng.choice(\n",
    "        range(MAKSIMUM_KAAL_OZ),\n",
    "        size=arv,\n",
    "        p=skaleeritud_kde_p_0_250_oz\n",
    "      )"
   ]
  },
  {
   "cell_type": "code",
   "execution_count": 116,
   "metadata": {
    "id": "CUV0x3EnaJeN"
   },
   "outputs": [],
   "source": [
    "# 2\n",
    "  #  Analoogiliselt alapunktile (c), genereeri 100 komplekti sünnikaalusid\n",
    "\n",
    "kde_sünnikaalud_100_komplekti = [mudel_f(len(kaalud)) for _ in range(100)]"
   ]
  },
  {
   "cell_type": "code",
   "execution_count": 117,
   "metadata": {
    "id": "CjRKct-4a4yj"
   },
   "outputs": [],
   "source": [
    "# 3\n",
    "  # lisades joonisele leitud miinimumid ja maksimumid üle mudel_f poolt genereeritud andmestike.\n",
    "\n",
    "kde_kaalude_miinimumid = np.full(MAKSIMUM_KAAL_OZ, np.inf)\n",
    "kde_kaalude_maksimumid = np.zeros(MAKSIMUM_KAAL_OZ)\n",
    "\n",
    "for komplekt in kde_sünnikaalud_100_komplekti:\n",
    "    sagedused = np.bincount(komplekt, minlength=MAKSIMUM_KAAL_OZ)\n",
    "    kde_kaalude_miinimumid = np.minimum(kde_kaalude_miinimumid, sagedused)\n",
    "    kde_kaalude_maksimumid = np.maximum(kde_kaalude_maksimumid, sagedused)\n",
    "\n",
    "# print(\"kaalude miinimumid:\\t\", kde_kaalude_miinimumid)\n",
    "# print(\"kaalude maksimumid:\\t\", kde_kaalude_maksimumid)"
   ]
  },
  {
   "cell_type": "code",
   "execution_count": 118,
   "metadata": {
    "colab": {
     "base_uri": "https://localhost:8080/",
     "height": 430
    },
    "executionInfo": {
     "elapsed": 260,
     "status": "ok",
     "timestamp": 1758365919382,
     "user": {
      "displayName": "Saskia",
      "userId": "03414353355782269967"
     },
     "user_tz": -180
    },
    "id": "ZFHoXqZZax5i",
    "outputId": "a2ffb36d-fba7-4a68-c926-494997f197b3"
   },
   "outputs": [
    {
     "name": "stderr",
     "output_type": "stream",
     "text": [
      "C:\\Users\\Saskia\\AppData\\Local\\Temp\\ipykernel_23028\\3398572220.py:7: DeprecationWarning: Non-integer input passed to bincount. In a future version of NumPy, this will be an error. (Deprecated NumPy 2.1)\n",
      "  np.bincount(kaalud, minlength=KAALUDE_KOGUARV)\n"
     ]
    },
    {
     "data": {
      "image/png": "[encoded data removed]",
      "text/plain": [
       "<Figure size 640x480 with 1 Axes>"
      ]
     },
     "metadata": {},
     "output_type": "display_data"
    }
   ],
   "source": [
    "# 4\n",
    "  # Visualiseeri sünnikaalude sagedused algses andmestikus kaalud, lisades joonisele leitud miinimumid ja maksimumid üle mudel_f poolt genereeritud andmestike.\n",
    "\n",
    "plt.xticks(range(0,251,20))\n",
    "plt.bar(\n",
    "    range(KAALUDE_KOGUARV),\n",
    "    np.bincount(kaalud, minlength=KAALUDE_KOGUARV)\n",
    ")\n",
    "plt.fill_between(\n",
    "    range(KAALUDE_KOGUARV),\n",
    "    kde_kaalude_miinimumid,\n",
    "    kde_kaalude_maksimumid,\n",
    "    alpha=0.3\n",
    ")\n",
    "plt.plot(\n",
    "    kde_kaalude_miinimumid,\n",
    "    color='black'\n",
    ")\n",
    "plt.plot(\n",
    "    kde_kaalude_maksimumid,\n",
    "    color='black'\n",
    ")\n",
    "plt.show()"
   ]
  },
  {
   "cell_type": "markdown",
   "metadata": {
    "id": "FY8JbRFmwG_Y"
   },
   "source": [
    "<font color='purple'>**(g) Eelmises alapunktis (f) tehtud joonise põhjal arutleda, kas `mudel_f` sobib kajastama seda, kuidas küsitletud inimesed sünnikaalu raporteerivad.**</font>\n",
    "\n",
    "<font color='purple'>**OODATUD TULEMUS: Arutlus (ca 3-5 lauset).**</font>\n",
    "\n",
    "**Küsimus praksi juhendajale:** -\n",
    "\n",
    "***TEHTUD*** : 1/1"
   ]
  },
  {
   "cell_type": "markdown",
   "metadata": {
    "id": "F1Li4BqjwG_Z"
   },
   "source": [
    "Ma arvan, et `mudel_f` loodud mudel sobib palju paremini kirjeldama realseid andmeid kui võrreldes normaaljaotuse mudeliga `mudel_b`. See järgib paremini miinimum ja maksimum väärtusi . Ainuke miinus on, et osasid väga ekstreemsied tulemusi `mudel_f` ikka ei suuda ennustada."
   ]
  },
  {
   "cell_type": "markdown",
   "metadata": {
    "collapsed": true,
    "id": "Flfvv4_lwG_Z"
   },
   "source": [
    "<font color='purple'>**(h) Defineeri statistiline mudel KDE baasil funktsioonina `def mudel_h(arv):`, mis genereerib sünnikaalud naela täpsusega (nii nagu muutujas `kaalud_lb`, ilma untse genereerimata). Analoogiliselt alapunktile (c), genereeri 100 komplekti sünnikaalusid ning visualiseeri sünnikaalude sagedused algses andmestikus `kaalud_lb`, lisades joonisele leitud miinimumid ja maksimumid üle `mudel_h` poolt genereeritud andmestike.**</font>\n",
    "\n",
    "<font color='purple'>**OODATUD TULEMUS: joonis.**\n",
    "</font>\n",
    "\n",
    "**Küsimus praksi juhendajale:** Kas siin peab lb-le juurde liitma ka oz nagu alguses sai oz-le lb/16 lisatud?\n",
    "\n",
    "***TEHTUD*** : 1/1\n",
    "\n"
   ]
  },
  {
   "cell_type": "code",
   "execution_count": 119,
   "metadata": {
    "id": "uQ1MDfmfwG_a"
   },
   "outputs": [],
   "source": [
    "rng = np.random.default_rng(0)"
   ]
  },
  {
   "cell_type": "code",
   "execution_count": 120,
   "metadata": {
    "id": "5mTloggZexEc"
   },
   "outputs": [],
   "source": [
    "# kaalud_lb_int = kaalud_lb + (kaalud_oz/16)\n",
    "\n",
    "kaalud_lb_int = np.array(kaalud_lb, dtype=int)"
   ]
  },
  {
   "cell_type": "code",
   "execution_count": 121,
   "metadata": {
    "id": "-lPxfz8Ngh7c"
   },
   "outputs": [],
   "source": [
    "MAX_KAALUD_LB = max(kaalud_lb_int) + 1"
   ]
  },
  {
   "cell_type": "code",
   "execution_count": 122,
   "metadata": {
    "id": "iNcxcdZ_wG_a",
    "scrolled": true
   },
   "outputs": [],
   "source": [
    "kde_lb = stats.gaussian_kde(kaalud_lb_int)\n",
    "\n",
    "kde_lb_p_0_max_lb = []\n",
    "for i in range(MAX_KAALUD_LB):\n",
    "  tn = kde_lb.integrate_box([i - 0.5],[i + 0.5])\n",
    "  kde_lb_p_0_max_lb.append(tn)\n",
    "\n",
    "skaleeritud_kde_lb_p_0_max_lb = kde_lb_p_0_max_lb / sum(kde_lb_p_0_max_lb)"
   ]
  },
  {
   "cell_type": "code",
   "execution_count": 123,
   "metadata": {
    "id": "y4HY7uE5hshj"
   },
   "outputs": [],
   "source": [
    "def mudel_h(arv):\n",
    "  return np.array(\n",
    "    rng.choice(\n",
    "      range(MAX_KAALUD_LB),\n",
    "      size=arv,\n",
    "      p=skaleeritud_kde_lb_p_0_max_lb\n",
    "    ),\n",
    "    dtype=int\n",
    "  )"
   ]
  },
  {
   "cell_type": "code",
   "execution_count": 124,
   "metadata": {
    "id": "b2Dw_zj1eRmK"
   },
   "outputs": [],
   "source": [
    "kde_lb_sünnikaalud_100_komplekti = [mudel_h(len(kaalud_lb_int)) for _ in range(100)]"
   ]
  },
  {
   "cell_type": "code",
   "execution_count": 125,
   "metadata": {
    "id": "hJkecQXBebMS"
   },
   "outputs": [],
   "source": [
    "# 3\n",
    "  # lisades joonisele leitud miinimumid ja maksimumid üle mudel_h poolt genereeritud andmestike.\n",
    "\n",
    "kde_lb_kaalude_miinimumid = np.full(MAX_KAALUD_LB, np.inf)\n",
    "kde_lb_kaalude_maksimumid = np.zeros(MAX_KAALUD_LB)\n",
    "\n",
    "for komplekt in kde_lb_sünnikaalud_100_komplekti:\n",
    "    sagedused = np.bincount(komplekt, minlength=MAX_KAALUD_LB)\n",
    "    kde_lb_kaalude_miinimumid = np.minimum(kde_lb_kaalude_miinimumid, sagedused)\n",
    "    kde_lb_kaalude_maksimumid = np.maximum(kde_lb_kaalude_maksimumid, sagedused)\n",
    "\n",
    "# print(\"kaalude miinimumid:\\t\", kde_lb_kaalude_miinimumid)\n",
    "# print(\"kaalude maksimumid:\\t\", kde_kaalude_maksimumid)"
   ]
  },
  {
   "cell_type": "code",
   "execution_count": 126,
   "metadata": {
    "colab": {
     "base_uri": "https://localhost:8080/",
     "height": 430
    },
    "executionInfo": {
     "elapsed": 205,
     "status": "ok",
     "timestamp": 1758365921013,
     "user": {
      "displayName": "Saskia",
      "userId": "03414353355782269967"
     },
     "user_tz": -180
    },
    "id": "ShJS6axvefCK",
    "outputId": "21863bd2-50ab-46e7-9731-d10224962c3e"
   },
   "outputs": [
    {
     "data": {
      "image/png": "[encoded data removed]",
      "text/plain": [
       "<Figure size 640x480 with 1 Axes>"
      ]
     },
     "metadata": {},
     "output_type": "display_data"
    }
   ],
   "source": [
    "plt.xticks(range(0,MAX_KAALUD_LB,1))\n",
    "plt.bar(\n",
    "    range(MAX_KAALUD_LB),\n",
    "    np.bincount(kaalud_lb_int, minlength=MAX_KAALUD_LB)\n",
    ")\n",
    "plt.fill_between(\n",
    "    range(MAX_KAALUD_LB),\n",
    "    kde_lb_kaalude_miinimumid,\n",
    "    kde_lb_kaalude_maksimumid,\n",
    "    alpha=0.3\n",
    ")\n",
    "plt.plot(\n",
    "    kde_lb_kaalude_miinimumid,\n",
    "    color='black'\n",
    ")\n",
    "plt.plot(\n",
    "    kde_lb_kaalude_maksimumid,\n",
    "    color='black'\n",
    ")\n",
    "plt.show()"
   ]
  },
  {
   "cell_type": "markdown",
   "metadata": {
    "id": "MFybPeERwG_b"
   },
   "source": [
    "<font color='purple'>**(i) Eelmises alapunktis (h) tehtud joonise põhjal arutleda, kas `mudel_h` sobib kajastama seda, kuidas küsitletud inimesed sünnikaalu naelades raporteerivad.**</font>\n",
    "\n",
    "<font color='purple'>**OODATUD TULEMUS: Arutlus (ca 3-5 lauset).**</font>\n",
    "\n",
    "**Küsimus praksi juhendajale:** -\n",
    "\n",
    "***TEHTUD*** : 1/1"
   ]
  },
  {
   "cell_type": "markdown",
   "metadata": {
    "id": "8h7_h66_wG_b"
   },
   "source": [
    "Sobib küllalt hästi, aga on näha, et `mudel_h` ei suuda ennustada väga väikeseid ja väga suuri väärtusi. Samas on see mudel palju parem kui `mudel_b`, mis eeldas normaaljaotust."
   ]
  },
  {
   "cell_type": "markdown",
   "metadata": {
    "id": "cvEoZepOwG_c"
   },
   "source": [
    "<font color='purple'>**(j) Defineeri statistiline mudel ühtlase jaotuse järgi funktsioonina `def mudel_j(arv):`, mis genereerib sünnikaalude untsid (täisarvulised väärtused 0 kuni 15 nii nagu muutujas `kaalud_oz`, ilma naelu genereerimata). Analoogiliselt alapunktile (c), genereeri 100 komplekti sünnikaalude untse ning visualiseeri sagedused algses andmestikus `kaalud_oz`, lisades joonisele leitud miinimumid ja maksimumid üle `mudel_j` poolt genereeritud andmestike.**</font>\n",
    "\n",
    "<font color='purple'>**OODATUD TULEMUS: joonis.**\n",
    "\n",
    "VIHJE: Vaata `rng.choice` (`numpy.random.Generator.choice` numpy dokumentatsioonis).</font>\n",
    "\n",
    "**Küsimus praksi juhendajale:** -\n",
    "\n",
    "***TEHTUD*** : 1/1\n",
    "\n"
   ]
  },
  {
   "cell_type": "code",
   "execution_count": 127,
   "metadata": {
    "id": "OK69SiWswG_c"
   },
   "outputs": [],
   "source": [
    "rng = np.random.default_rng(0)"
   ]
  },
  {
   "cell_type": "code",
   "execution_count": 128,
   "metadata": {
    "id": "qZys86LQj8hC"
   },
   "outputs": [],
   "source": [
    "kaalud_oz_int = np.array(kaalud_oz, dtype=int)"
   ]
  },
  {
   "cell_type": "code",
   "execution_count": 129,
   "metadata": {
    "id": "WZLYNahSkATb"
   },
   "outputs": [],
   "source": [
    "MAKSIMUM_KAAL_OZ = max(kaalud_oz_int) + 1"
   ]
  },
  {
   "cell_type": "code",
   "execution_count": 130,
   "metadata": {
    "id": "pEmzPN9swG_d"
   },
   "outputs": [],
   "source": [
    "def mudel_j(arv):\n",
    "  return rng.choice(range(MAKSIMUM_KAAL_OZ), size=arv)\n",
    "  #(väärtused, sagedused) = np.unique(kaalud_oz_int, return_counts=True)\n",
    "  #tõenäosused = sagedused / sagedused.sum()\n",
    "  #return rng.choice(väärtused, size=arv, p=tõenäosused)"
   ]
  },
  {
   "cell_type": "code",
   "execution_count": 131,
   "metadata": {
    "id": "TIlX5doWkhiL"
   },
   "outputs": [],
   "source": [
    "kde_oz_sünnikaalud_100_komplekti = [mudel_j(len(kaalud_oz_int)) for _ in range(100)]"
   ]
  },
  {
   "cell_type": "code",
   "execution_count": 132,
   "metadata": {
    "id": "DyySosiEnUYq"
   },
   "outputs": [],
   "source": [
    "kde_oz_kaalude_miinimumid = np.full(MAKSIMUM_KAAL_OZ, np.inf)\n",
    "kde_oz_kaalude_maksimumid = np.zeros(MAKSIMUM_KAAL_OZ)\n",
    "\n",
    "for komplekt in kde_oz_sünnikaalud_100_komplekti:\n",
    "    sagedused = np.bincount(komplekt, minlength=MAKSIMUM_KAAL_OZ)\n",
    "    kde_oz_kaalude_miinimumid = np.minimum(kde_oz_kaalude_miinimumid, sagedused)\n",
    "    kde_oz_kaalude_maksimumid = np.maximum(kde_oz_kaalude_maksimumid, sagedused)"
   ]
  },
  {
   "cell_type": "code",
   "execution_count": 133,
   "metadata": {
    "colab": {
     "base_uri": "https://localhost:8080/",
     "height": 430
    },
    "executionInfo": {
     "elapsed": 165,
     "status": "ok",
     "timestamp": 1758366463096,
     "user": {
      "displayName": "Saskia",
      "userId": "03414353355782269967"
     },
     "user_tz": -180
    },
    "id": "3A2FFI0FnRSi",
    "outputId": "3fa47380-ebe6-4d73-afa1-e19d6fcdc069"
   },
   "outputs": [
    {
     "data": {
      "image/png": "[encoded data removed]",
      "text/plain": [
       "<Figure size 640x480 with 1 Axes>"
      ]
     },
     "metadata": {},
     "output_type": "display_data"
    }
   ],
   "source": [
    "plt.xticks(range(0,MAKSIMUM_KAAL_OZ,1))\n",
    "plt.bar(\n",
    "    range(MAKSIMUM_KAAL_OZ),\n",
    "    np.bincount(kaalud_oz_int, minlength=MAKSIMUM_KAAL_OZ)\n",
    ")\n",
    "plt.fill_between(\n",
    "    range(MAKSIMUM_KAAL_OZ),\n",
    "    kde_oz_kaalude_miinimumid,\n",
    "    kde_oz_kaalude_maksimumid,\n",
    "    alpha=0.3\n",
    ")\n",
    "plt.plot(\n",
    "    kde_oz_kaalude_miinimumid,\n",
    "    color='black'\n",
    ")\n",
    "plt.plot(\n",
    "    kde_oz_kaalude_maksimumid,\n",
    "    color='black'\n",
    ")\n",
    "plt.show()"
   ]
  },
  {
   "cell_type": "markdown",
   "metadata": {
    "id": "_20MwFfVwG_d"
   },
   "source": [
    "<font color='purple'>**(k) Eelmises alapunktis (j) tehtud joonise põhjal arutleda, kas `mudel_j` sobib kajastama seda, kuidas küsitletud inimesed sünnikaalu untside osa raporteerivad.**</font>\n",
    "\n",
    "<font color='purple'>**OODATUD TULEMUS: Arutlus (ca 3-5 lauset).**</font>\n",
    "\n",
    "**Küsimus praksi juhendajale:** -\n",
    "\n",
    "***TEHTUD*** : 1/1"
   ]
  },
  {
   "cell_type": "markdown",
   "metadata": {
    "id": "SA59GS3EwG_d"
   },
   "source": [
    "Ei kuna `mudel_j` ei püüa ta ekstreemsied väärtusi kinni. Inimesed kalduvad raporteerima pigem täis naelu ja mitte untsi täpsusega. Tunudb, et paljud inimesed on küllaltki suvaliselt valinud oz väärtused. Tegu pole ka pideva jaotusega, mis on `mudel_j` eeldus."
   ]
  },
  {
   "cell_type": "markdown",
   "metadata": {
    "id": "SKnA0CTUwG_e"
   },
   "source": [
    "# 2. ülesanne.  Sünnikaalu andmete kvaliteet - täpsem mudel (1.5 punkti)"
   ]
  },
  {
   "cell_type": "markdown",
   "metadata": {
    "id": "z-yWnYVzwG_f"
   },
   "source": [
    "<font color='purple'>**(a) Defineerida uus mudel `def mudel_2(arv):`, mis oleks ühest küljest võimalikult lihtne, realistlik, loogiline ja arusaadav ning teisest küljest tabaks võimalikult täpselt ära tegelike andmete `kaalud` eripärasid, genereerides kaalusid täisarvulisena, mõõdetuna untsides (kogukaal untsides, eraldamata naelu ja untse). Andmete eripärade tabamise kontrollimine toimub järgmistes alapunktides. Kirjutada mudeli kohta kirjeldus, mille järgi kaastudeng oleks võimeline mudeli algoritmi ise defineerima.**</font>\n",
    "\n",
    "<font color='purple'>**OODATUD TULEMUS: Funktsioon `mudel_2` ja kirjeldus (ca 5-20 lauset). Täispunktide saamiseks peaksid mudeli poolt genereeritud andmed olema järgmiste alapunktide (b)-(g) põhjal piisavalt sarnased tegelikele, ehk siis tegelike andmete pärinemine mudelist `mudel_2` võiks olla mõõdukalt tõepärane. Selle hindamine on paratamatult subjektiivne, kuna meist keegi küsitluse tehnilisi detaile ei tunne. Seetõttu on põhjendused ja selgitused olulisemad kui see, mis tegelikult õigem mudel on.**</font>\n",
    "\n",
    "\n",
    "VIHJE: Seda ülesannet on mõistlik lahendada iteratiivselt. Näiteks kõigepealt võtta `mudel_2` sama, mis oli `mudel_f`, seejärel läbida alapunktid (b)-(g) ning leida millistes punktides ei ole `mudel_2` veel piisavalt hea. Siis täiendada või muuta mudelit ning kontrollida alapunkte (b)-(g) uuesti.\n",
    "\n",
    "**Küsimus praksi juhendajale:** -\n",
    "\n",
    "***TEHTUD*** : 1/1\n",
    "\n",
    "***NB! Selle ülesande lahenduses peab esitama lõpuks ikkagi ainult ühe mudeli , mille definitsioon algab täpselt reaga `def mudel_2(arv):`(aga selles ühes mudelis võib sisemiselt olla nt. eraldi mudelid naeltele ja untsidele) ja sellest ei tohi olla mitut erinevat variatsiooni. Iteratiivsel lahendamisel võite katsetada erinevaid variante, aga esitamise hetkeks peab järgi jääma täpselt üks mudel.***"
   ]
  },
  {
   "cell_type": "code",
   "execution_count": 134,
   "metadata": {
    "id": "bGmZ-JDZt652"
   },
   "outputs": [],
   "source": [
    "# CONSTANTS\n",
    "\n",
    "MAKSIMUM_KAAL_OZ_KOGU = 251\n",
    "MAKSIMUM_KAAL_OZ= 16\n",
    "MIN_KAAL = 0"
   ]
  },
  {
   "cell_type": "code",
   "execution_count": 135,
   "metadata": {
    "id": "xJtPTtHWpWA4"
   },
   "outputs": [],
   "source": [
    "# lb\n",
    "rng = np.random.default_rng(0)\n",
    "kaalud_lb_int = np.array(kaalud_lb, dtype=int)\n",
    "MAX_KAALUD_LB = max(kaalud_lb_int) + 1\n",
    "\n",
    "kde_lb = stats.gaussian_kde(kaalud_lb_int)\n",
    "kde_lb_p_0_max_lb = []\n",
    "for i in range(MAX_KAALUD_LB):\n",
    "\ttn = kde_lb.integrate_box([i - 0.5], [i + 0.5])\n",
    "\tkde_lb_p_0_max_lb.append(tn)\n",
    "\n",
    "skaleeritud_kde_lb_p_0_max_lb = kde_lb_p_0_max_lb / sum(kde_lb_p_0_max_lb)\n",
    "\n",
    "# oz\n",
    "(_, sagedused) = np.unique(kaalud_oz.astype(int), return_counts=True)\n",
    "skaleeritud_oz_p_0_max_lb = sagedused / sagedused.sum()\n",
    "\n",
    "\n",
    "def mudel_2(arv):\n",
    "\t# lb\n",
    "\tnaelad = rng.choice(\n",
    "\t    range(MAX_KAALUD_LB),\n",
    "\t    size=arv,\n",
    "\t    p=skaleeritud_kde_lb_p_0_max_lb\n",
    "\t)\n",
    "\n",
    "\t# oz\n",
    "\tuntsid = rng.choice(\n",
    "\t\trange(MAKSIMUM_KAAL_OZ),\n",
    "\t\tsize=arv,\n",
    "\t\tp=skaleeritud_oz_p_0_max_lb\n",
    "\t)\n",
    "\n",
    "\tkogukaal_oz = (naelad * 16) + untsid\n",
    "\n",
    "\treturn (kogukaal_oz, naelad, untsid)"
   ]
  },
  {
   "cell_type": "markdown",
   "metadata": {},
   "source": [
    "(Lahendus: `mudel_2` kirjeldus)\n",
    "\n",
    "Enne funktsiooni kalkuleeerin välja naelte ja untside vektorid. Naelte jaoks kasutan KDE-d ja untiside jaoks diskreetset jaotust.\n",
    "\n",
    "\n",
    "Funktsioon `mudel_2` töötab järgmiselt:\n",
    "1. Funktsioon võtab argumendiks `arv`, mis määrab, mitu sünnikaalu genereerida.\n",
    "2. Naelad genereeritakse KDE põhjal, mis järgib tegelike andmete jaotust.\n",
    "3. Untsid genereetiakse diskreetese jaotuse põhjal, mis järgib tegelike andmete jaotust.\n",
    "4. Lõpuks kombineeritakse naelad ja untid, et saada sünnikaal untsides, kasutades valemit: kogukaal untsides = naelad * 16 + untid.\n",
    "5. Funktsioon tagastab genereeritud sünnikaalude massiivi untsides."
   ]
  },
  {
   "cell_type": "code",
   "execution_count": 136,
   "metadata": {
    "executionInfo": {
     "elapsed": 7,
     "status": "ok",
     "timestamp": 1758367747309,
     "user": {
      "displayName": "Saskia",
      "userId": "03414353355782269967"
     },
     "user_tz": -180
    },
    "id": "sJ2Otpgv3sWF"
   },
   "outputs": [],
   "source": [
    "def kaalude_min_max(komplektid):\n",
    "  maksimum_väärtus = np.max([k.max() for k in komplektid]) + 1\n",
    "\n",
    "  kaalude_miinimumid = np.full(maksimum_väärtus, np.inf)\n",
    "  kaalude_maksimumid = np.zeros(maksimum_väärtus)\n",
    "\n",
    "  for komplekt in komplektid:\n",
    "      sagedused = np.bincount(komplekt, minlength=maksimum_väärtus)\n",
    "      kaalude_miinimumid = np.minimum(kaalude_miinimumid, sagedused)\n",
    "      kaalude_maksimumid = np.maximum(kaalude_maksimumid, sagedused)\n",
    "\n",
    "  return (kaalude_miinimumid, kaalude_maksimumid)"
   ]
  },
  {
   "cell_type": "markdown",
   "metadata": {
    "id": "wrVM4yQPwG_h"
   },
   "source": [
    "<font color='purple'>**(b) Genereeri mudelist `mudel_2` 100 komplekti sünnikaalusid ning erista neis naelad ja untsid.  Selles alapunktis vaatleme ainult untside osa. Analoogiliselt ülesande 1 alapunktile (j), visualiseeri sagedused algses andmestikus `kaalud_oz`, lisades joonisele leitud miinimumid ja maksimumid üle `mudel_2` poolt genereeritud andmestike eraldatud untside osa.**</font>\n",
    "\n",
    "<font color='purple'>**OODATUD TULEMUS: joonis.**\n",
    "</font>\n"
   ]
  },
  {
   "cell_type": "code",
   "execution_count": 137,
   "metadata": {
    "executionInfo": {
     "elapsed": 2,
     "status": "ok",
     "timestamp": 1758367749570,
     "user": {
      "displayName": "Saskia",
      "userId": "03414353355782269967"
     },
     "user_tz": -180
    },
    "id": "ujjs3uFJwG_i"
   },
   "outputs": [],
   "source": [
    "rng = np.random.default_rng(0)"
   ]
  },
  {
   "cell_type": "code",
   "execution_count": 138,
   "metadata": {
    "colab": {
     "base_uri": "https://localhost:8080/",
     "height": 774
    },
    "executionInfo": {
     "elapsed": 192,
     "status": "error",
     "timestamp": 1758368294606,
     "user": {
      "displayName": "Saskia",
      "userId": "03414353355782269967"
     },
     "user_tz": -180
    },
    "id": "AZ5Xvypwvfgf",
    "outputId": "6b5ed3dd-6833-4036-dca7-d0f801dc5dd8"
   },
   "outputs": [
    {
     "data": {
      "image/png": "[encoded data removed]",
      "text/plain": [
       "<Figure size 640x480 with 1 Axes>"
      ]
     },
     "metadata": {},
     "output_type": "display_data"
    }
   ],
   "source": [
    "sünnikaalud_100_komplekti = [mudel_2(len(kaalud_oz)) for _ in range(100)]\n",
    "kõik_untsid = [untsid for (_, _, untsid) in sünnikaalud_100_komplekti]\n",
    "(kaalude_miinimumid, kaalude_maksimumid) = kaalude_min_max(kõik_untsid)\n",
    "\n",
    "kaalud_lb_bincount = np.bincount(kaalud_oz.astype(int), minlength=MAKSIMUM_KAAL_OZ)\n",
    "\n",
    "plt.xticks(range(0, MAKSIMUM_KAAL_OZ, 1))\n",
    "plt.bar(\n",
    "    range(MAKSIMUM_KAAL_OZ),\n",
    "    kaalud_lb_bincount\n",
    ")\n",
    "plt.fill_between(\n",
    "    range(MAKSIMUM_KAAL_OZ),\n",
    "    kaalude_miinimumid,\n",
    "    kaalude_maksimumid,\n",
    "    alpha=0.3\n",
    ")\n",
    "plt.plot(\n",
    "    kaalude_miinimumid,\n",
    "    color='black'\n",
    ")\n",
    "plt.plot(\n",
    "    kaalude_maksimumid,\n",
    "    color='black'\n",
    ")\n",
    "plt.show()"
   ]
  },
  {
   "cell_type": "markdown",
   "metadata": {
    "id": "hYEjzcvcwG_i"
   },
   "source": [
    "<font color='purple'>**(c) Eelmises alapunktis (b) tehtud joonise põhjal arutleda, kas `mudel_2` sobib kajastama seda, kuidas küsitletud inimesed sünnikaalu untside osa raporteerivad.**</font>\n",
    "\n",
    "<font color='purple'>**OODATUD TULEMUS: Arutlus (ca 3-5 lauset).**</font>\n"
   ]
  },
  {
   "cell_type": "markdown",
   "metadata": {
    "id": "pVvhpFC-wG_j"
   },
   "source": [
    "Sobib küll, mudel tabab untside jaotust üsna täpselt võrreldes ühtlase jaotusega. \n",
    "Maksimum ja miinimum väärtused on enam-vähem välja kukkunud ning sageduste jaotus järgib tegelike andmete mustrit.\n",
    "Ma arvan, et mudel suudab enam-vähem realistlikult raporteerimiskäitumist sünnikaalu untside osas."
   ]
  },
  {
   "cell_type": "markdown",
   "metadata": {
    "id": "XlUepIyiwG_k"
   },
   "source": [
    "<font color='purple'>**(d) Genereeri mudelist `mudel_2` 100 komplekti sünnikaalusid ning erista neis naelad ja untsid.  Selles alapunktis vaatleme ainult naelade osa. Analoogiliselt ülesande 1 alapunktile (h), visualiseeri sagedused algses andmestikus `kaalud_lb`, lisades joonisele leitud miinimumid ja maksimumid üle `mudel_2` poolt genereeritud andmestike eraldatud naelade osa.**</font>\n",
    "\n",
    "<font color='purple'>**OODATUD TULEMUS: joonis.**\n",
    "</font>\n"
   ]
  },
  {
   "cell_type": "code",
   "execution_count": 139,
   "metadata": {
    "id": "Fdxashb-wG_k"
   },
   "outputs": [],
   "source": [
    "rng = np.random.default_rng(0)"
   ]
  },
  {
   "cell_type": "code",
   "execution_count": 140,
   "metadata": {},
   "outputs": [
    {
     "data": {
      "image/png": "[encoded data removed]",
      "text/plain": [
       "<Figure size 640x480 with 1 Axes>"
      ]
     },
     "metadata": {},
     "output_type": "display_data"
    }
   ],
   "source": [
    "MAKSIMUM_KAAL_LB = int(kaalud_lb.max()) + 1\n",
    "\n",
    "sünnikaalud_100_komplekti = [mudel_2(len(kaalud_lb)) for _ in range(100)]\n",
    "kõik_naelad = [naelad for (_, naelad, _) in sünnikaalud_100_komplekti]\n",
    "(kaalude_miinimumid, kaalude_maksimumid) = kaalude_min_max(kõik_naelad)\n",
    "\n",
    "kaalud_lb_bincount = np.bincount(kaalud_lb.astype(int), minlength=MAKSIMUM_KAAL_LB)\n",
    "\n",
    "plt.xticks(range(0, MAKSIMUM_KAAL_LB, 1))\n",
    "plt.bar(\n",
    "    range(MAKSIMUM_KAAL_LB),\n",
    "    kaalud_lb_bincount\n",
    ")\n",
    "plt.fill_between(\n",
    "    range(MAKSIMUM_KAAL_LB),\n",
    "    kaalude_miinimumid,\n",
    "    kaalude_maksimumid,\n",
    "    alpha=0.3\n",
    ")\n",
    "plt.plot(\n",
    "    kaalude_miinimumid,\n",
    "    color='black'\n",
    ")\n",
    "plt.plot(\n",
    "    kaalude_maksimumid,\n",
    "    color='black'\n",
    ")\n",
    "plt.show()"
   ]
  },
  {
   "cell_type": "markdown",
   "metadata": {
    "id": "Rqa-9_mgwG_l"
   },
   "source": [
    "<font color='purple'>**(e) Eelmises alapunktis (d) tehtud joonise põhjal arutleda, kas `mudel_2` sobib kajastama seda, kuidas küsitletud inimesed sünnikaalu naelade osa raporteerivad.**</font>\n",
    "\n",
    "<font color='purple'>**OODATUD TULEMUS: Arutlus (ca 3-5 lauset).**</font>\n"
   ]
  },
  {
   "cell_type": "markdown",
   "metadata": {
    "id": "2ihrkByqwG_l"
   },
   "source": [
    "Pigem sobib, kuna mudel järgib üsna hästi tegelike andmete jaotust. Mudel küll genereerib kohati liiga ekstreemsed väärtuseid."
   ]
  },
  {
   "cell_type": "markdown",
   "metadata": {
    "id": "jJEMe12RwG_m"
   },
   "source": [
    "<font color='purple'>**(f) Genereeri mudelist `mudel_2` 100 komplekti sünnikaalusid. Selles alapunktis vaatleme kogukaalu untsides, eristamata naelade ja untside osa. Analoogiliselt ülesande 1 alapunktile (c), visualiseeri sagedused algses andmestikus `kaalud`, lisades joonisele leitud miinimumid ja maksimumid üle `mudel_2` poolt genereeritud andmestike.**</font>\n",
    "\n",
    "<font color='purple'>**OODATUD TULEMUS: joonis.**\n",
    "</font>\n",
    "\n"
   ]
  },
  {
   "cell_type": "code",
   "execution_count": 141,
   "metadata": {
    "id": "mf9_d6tIwG_m"
   },
   "outputs": [],
   "source": [
    "rng = np.random.default_rng(0)"
   ]
  },
  {
   "cell_type": "code",
   "execution_count": 144,
   "metadata": {},
   "outputs": [
    {
     "data": {
      "image/png": "[encoded data removed]",
      "text/plain": [
       "<Figure size 640x480 with 1 Axes>"
      ]
     },
     "metadata": {},
     "output_type": "display_data"
    }
   ],
   "source": [
    "sünnikaalud_100_komplekti = [mudel_2(len(kaalud)) for _ in range(100)]\n",
    "kõik_kaalud = [kaal for (kaal, _, _) in sünnikaalud_100_komplekti]\n",
    "(kaalude_miinimumid, kaalude_maksimumid) = kaalude_min_max(kõik_kaalud)\n",
    "\n",
    "kaalude_miinimumid = kaalude_miinimumid[:251]\n",
    "kaalude_maksimumid = kaalude_maksimumid[:251]\n",
    "\n",
    "kaalud_bincount = np.bincount(kaalud.astype(int), minlength=MAKSIMUM_KAAL_OZ_KOGU)\n",
    "\n",
    "plt.xticks(range(0,251,20))\n",
    "plt.bar(\n",
    "    range(MAKSIMUM_KAAL_OZ_KOGU),\n",
    "    kaalud_bincount\n",
    ")\n",
    "plt.fill_between(\n",
    "    range(MAKSIMUM_KAAL_OZ_KOGU),\n",
    "    kaalude_miinimumid,\n",
    "    kaalude_maksimumid,\n",
    "    alpha=0.3\n",
    ")\n",
    "plt.plot(\n",
    "    kaalude_miinimumid,\n",
    "    color='black'\n",
    ")\n",
    "plt.plot(\n",
    "    kaalude_maksimumid,\n",
    "    color='black'\n",
    ")\n",
    "plt.show()"
   ]
  },
  {
   "cell_type": "markdown",
   "metadata": {
    "id": "33neaTtqwG_n"
   },
   "source": [
    "<font color='purple'>**(g) Eelmises alapunktis (f) tehtud joonise põhjal arutleda, kas `mudel_2` sobib kajastama seda, kuidas küsitletud inimesed sünnikaalu raporteerivad.**</font>\n",
    "\n",
    "<font color='purple'>**OODATUD TULEMUS: Arutlus (ca 3-5 lauset).**</font>\n"
   ]
  },
  {
   "cell_type": "markdown",
   "metadata": {
    "id": "5A6V13o5wG_n"
   },
   "source": [
    "\n",
    "Pigem sobib, kuna mudel järgib üsna hästi tegelike andmete jaotust. Mõned ekstreemsed väärtused jäävad siiski mudelist välja. Kui katsete arv oleks suurem siis võib-olla olekisd ka need ekstreemsed väärtused mudelis kajastuatud."
   ]
  },
  {
   "cell_type": "markdown",
   "metadata": {
    "id": "N6N85hQdwG_o"
   },
   "source": [
    " <font color='purple'>**(h) Lähtudes alapunktis (a) enda koostatud mudelist `mudel_2`, kas leiame neis andmetes märke sellest, et neis kajastuvaid kaalusid ei saa täielikult usaldada? Kui paljudel juhtudel erineb arvatavasti tegelik sünnikaal sellest, mis on andmetes kirjas? (Alati võib olla rohkem erinevusi, mida me ei suuda andmetest tuvastada, aga vähemalt kui palju peaks selliseid juhtumeid olema). Oletatavate erinevustega juhtudel, kui suured need erinevused tüüpiliselt on? Kas sellised andmestiku eripärad mõjutavad näiteks keskmise sünnikaalu arvutamise tulemust, ja kui mõjutavad siis kui palju?**</font>\n",
    "\n",
    "<font color='purple'>**OODATUD TULEMUS: Arutlus 5-20 lauset.**\n",
    "\n"
   ]
  },
  {
   "attachments": {
    "image.png": {
     "image/png": "[encoded data removed]"
    }
   },
   "cell_type": "markdown",
   "metadata": {
    "id": "hs_4ugefwG_o"
   },
   "source": [
    "(Arutlus palun siia)\n",
    "\n",
    "\n",
    "Suureks probleemiks tundub olevat see, et inimsed panevad untisde väärtusi kirja küllaltki suvaliselt. Näiteks see ei tundu päris loogiliselt, et 0 untsi on ligi 2 korda rohkem kui teisi ustsi väärtusi. \n",
    "\n",
    "Lisaks mulle tundub, et inimesed ümardavad sünnikaalu pigem täisnaelani, mis võib tähendada kaalu üle- või alahindamist.\n",
    "\n",
    "\"The average birth weight in babies of European and African descent is 3.5 kilograms (7.7 lb), with the normative range between 2.5 and 4.0 kilograms (5.5 and 8.8 lb).\"\n",
    "\n",
    "Väga väikseid ja väga suuri kaalusid tundub ka olevat liialt palju, kuna see tundub väga ebatõenäoline, et laps kaalub 1 naela või 11 naela.\n",
    "\n",
    "Ma arvan, et keskmist kaalu väga palju ei mõjuta kuna (7.7 lb = 123oz wiki andmetel) on küllatki lähedal sellele mis on meie andmetes (166 oz). Aga kuna on palju ekstreemseid väärtuseid siis võib-olla keskmine on kallutatud.\n",
    "\n",
    "![image.png](attachment:image.png)\n"
   ]
  },
  {
   "cell_type": "markdown",
   "metadata": {
    "id": "wu86KlFgwG_p"
   },
   "source": [
    "## <font color='red'>Enne kodutöö esitamist palun lähtesta kernel uuesti ning jooksuta kogu kood algusest peale korra läbi - selleks on vaja menüüst valida `Kernel` -> `Restart and Run All`.</font>\n",
    "\n",
    "## Kodutöö tagasiside\n",
    "\n",
    "Palun vasta nii täpselt kui oskad. See ei muuda mingilgi moel punkte, mille kodutöö eest saad. Nii 0,5 tundi kui 24 tundi on sobivad vastused. Kogutud informatsiooni kasutatakse kodutööde paremaks muutmiseks.\n",
    "\n",
    "<font color = \"red\">**Tagasidet saad anda anonüümselt siin [Google Formsis](https://forms.gle/KtbJu46SP2MhYmXG6).**</font>\n",
    "\n",
    "**<font color='red'>SUUR TÄNU TEHTUD TÖÖ EEST!</font>**"
   ]
  },
  {
   "cell_type": "markdown",
   "metadata": {},
   "source": []
  }
 ],
 "metadata": {
  "colab": {
   "provenance": []
  },
  "kernelspec": {
   "display_name": "Python 3",
   "language": "python",
   "name": "python3"
  },
  "language_info": {
   "codemirror_mode": {
    "name": "ipython",
    "version": 3
   },
   "file_extension": ".py",
   "mimetype": "text/x-python",
   "name": "python",
   "nbconvert_exporter": "python",
   "pygments_lexer": "ipython3",
   "version": "3.13.7"
  }
 },
 "nbformat": 4,
 "nbformat_minor": 0
}
