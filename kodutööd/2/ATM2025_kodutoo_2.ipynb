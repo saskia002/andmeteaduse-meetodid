{
 "cells": [
  {
   "cell_type": "markdown",
   "metadata": {
    "id": "Bi8m6CHh2ha6"
   },
   "source": [
    "# LTAT.02.006 Andmeteaduse meetodid, sügis 2025\n",
    "# 2. kodutöö\n",
    "\n",
    "## Tähtaeg: esmaspäev, 6. oktoober, kell 12:00 (keskpäeval)"
   ]
  },
  {
   "cell_type": "markdown",
   "metadata": {
    "id": "n-v7VHVi2hbY"
   },
   "source": [
    "### Kodutöö reeglid\n",
    "\n",
    "Palun kontrollige üle kodutööde reeglid esimesest kodutööst, samad reeglid kehtivad siin.\n",
    "\n",
    "### Palun lugege kokku kodutööle kulunud aeg ning kommentaarid ülesannete kohta (kui neid tekib)\n",
    "\n",
    "Palume, et loeksite kokku kodutööle kulunud aja, eriti hea kui ka eraldi iga ülesande peale kulunud aja. Eraldi ülesannete alapunktide kaupa pole aega vaja eristada. Kulunud aeg kirjutage palun selleks mõeldud lahtritesse kodutöö lõpus. See ei ole kohustuslik ega mõjuta hinnet, kuid aitab kodutöid paremaks teha. Kui teil on ülesannete kohta tagasisidet anda (miski oli väga keeruline, raske aru saada, segane või just väga huvitav), siis saate sellest samuti kodutöö lõppu kirjutada."
   ]
  },
  {
   "cell_type": "markdown",
   "metadata": {
    "id": "lmRAlyTE2hbf"
   },
   "source": [
    "# 1. ülesanne.  Andmete võltsimise tuvastamine (2 punkti)"
   ]
  },
  {
   "cell_type": "markdown",
   "metadata": {
    "id": "B-_tbdXH2hbr"
   },
   "source": [
    "2021\\. aasta augustis avaldati [blogipostitus](https://datacolada.org/98) (võid alguses lugemata jätta, kui tahad ülesannete käigus rohkem üllatunud olla 🙂), kus tulid ilmsiks tõsised kahtlused akadeemilise petturluse (konkreetsemalt andmete võltsimise) kohta ühes 2012\\. aastal avaldatud eksperimentaalse psühholoogia valdkonna artiklis. Artiklis uuriti ausust, analüüsides selleks ühe kindlustusfirma autokindlustuse andmeid. Artiklis väideti, et inimeste aususes on oluline erinevus sõltuvalt sellest, kas korrektsete andmete esitamist on allkirjaga kinnitatud enne või pärast andmevormi täitmist.\n",
    "Uuritavateks andmeteks olid inimeste poolt raporteeritud sõiduki läbisõidud (hetke odomeetri näit miilides). Täpsemalt selgus, et inimesed, kes pidid enne ankeedi täitmist panema linnukese lahtrisse 'Luban, et andmed on korrektsed', raporteerisid oma sõiduki läbisõiduks keskmiselt üle 2400 miili rohkem kui need, kes pidid analoogse lahtri täitma peale ankeedi täitmist. Paraku pole hiljem seda tulemust suudetud korrata ning 2021. aastal avaldati originaalandmed, mille põhjal on alust arvata, et alusandmed olid osaliselt fabritseeritud.\n",
    "\n",
    "Selles ülesandes järgimegi protsessi, mida senini anonüümseks jäänud uurijad andmete võltsimise juhtumi tuvastamiseks läbi viisid."
   ]
  },
  {
   "cell_type": "code",
   "execution_count": 1,
   "metadata": {
    "id": "D-a3marL2hbu"
   },
   "outputs": [],
   "source": [
    "import numpy as np\n",
    "import pandas as pd\n",
    "import matplotlib.pyplot as plt\n",
    "import scipy"
   ]
  },
  {
   "cell_type": "code",
   "execution_count": 2,
   "metadata": {
    "id": "bzQOzZlX2hb7"
   },
   "outputs": [
    {
     "data": {
      "text/html": [
       "<div>\n",
       "<style scoped>\n",
       "    .dataframe tbody tr th:only-of-type {\n",
       "        vertical-align: middle;\n",
       "    }\n",
       "\n",
       "    .dataframe tbody tr th {\n",
       "        vertical-align: top;\n",
       "    }\n",
       "\n",
       "    .dataframe thead th {\n",
       "        text-align: right;\n",
       "    }\n",
       "</style>\n",
       "<table border=\"1\" class=\"dataframe\">\n",
       "  <thead>\n",
       "    <tr style=\"text-align: right;\">\n",
       "      <th></th>\n",
       "      <th>allkirja_positsioon</th>\n",
       "      <th>ID</th>\n",
       "      <th>auto1_varem</th>\n",
       "      <th>auto1_hiljem</th>\n",
       "      <th>auto2_varem</th>\n",
       "      <th>auto2_hiljem</th>\n",
       "      <th>auto3_varem</th>\n",
       "      <th>auto3_hiljem</th>\n",
       "      <th>auto4_varem</th>\n",
       "      <th>auto4_hiljem</th>\n",
       "      <th>varem_keskmine</th>\n",
       "      <th>hiljem_keskmine</th>\n",
       "      <th>vahepealne_keskmine_labisoit</th>\n",
       "      <th>auto1_indikaator</th>\n",
       "      <th>auto2_indikaator</th>\n",
       "      <th>auto3_indikaator</th>\n",
       "      <th>auto3_indikaator.1</th>\n",
       "      <th>autode_arv</th>\n",
       "    </tr>\n",
       "  </thead>\n",
       "  <tbody>\n",
       "    <tr>\n",
       "      <th>0</th>\n",
       "      <td>Sign Top</td>\n",
       "      <td>1</td>\n",
       "      <td>896</td>\n",
       "      <td>39198</td>\n",
       "      <td>NaN</td>\n",
       "      <td>NaN</td>\n",
       "      <td>NaN</td>\n",
       "      <td>NaN</td>\n",
       "      <td>NaN</td>\n",
       "      <td>NaN</td>\n",
       "      <td>896.0</td>\n",
       "      <td>39198.0</td>\n",
       "      <td>38302.0</td>\n",
       "      <td>1</td>\n",
       "      <td>0</td>\n",
       "      <td>0</td>\n",
       "      <td>0</td>\n",
       "      <td>1</td>\n",
       "    </tr>\n",
       "    <tr>\n",
       "      <th>1</th>\n",
       "      <td>Sign Bottom</td>\n",
       "      <td>2</td>\n",
       "      <td>21396</td>\n",
       "      <td>63511</td>\n",
       "      <td>32659.0</td>\n",
       "      <td>47605.0</td>\n",
       "      <td>NaN</td>\n",
       "      <td>NaN</td>\n",
       "      <td>NaN</td>\n",
       "      <td>NaN</td>\n",
       "      <td>27027.5</td>\n",
       "      <td>55558.0</td>\n",
       "      <td>28530.5</td>\n",
       "      <td>1</td>\n",
       "      <td>1</td>\n",
       "      <td>0</td>\n",
       "      <td>0</td>\n",
       "      <td>2</td>\n",
       "    </tr>\n",
       "    <tr>\n",
       "      <th>2</th>\n",
       "      <td>Sign Bottom</td>\n",
       "      <td>3</td>\n",
       "      <td>21340</td>\n",
       "      <td>37460</td>\n",
       "      <td>44998.0</td>\n",
       "      <td>59002.0</td>\n",
       "      <td>NaN</td>\n",
       "      <td>NaN</td>\n",
       "      <td>NaN</td>\n",
       "      <td>NaN</td>\n",
       "      <td>33169.0</td>\n",
       "      <td>48231.0</td>\n",
       "      <td>15062.0</td>\n",
       "      <td>1</td>\n",
       "      <td>1</td>\n",
       "      <td>0</td>\n",
       "      <td>0</td>\n",
       "      <td>2</td>\n",
       "    </tr>\n",
       "    <tr>\n",
       "      <th>3</th>\n",
       "      <td>Sign Bottom</td>\n",
       "      <td>4</td>\n",
       "      <td>23912</td>\n",
       "      <td>59136</td>\n",
       "      <td>NaN</td>\n",
       "      <td>NaN</td>\n",
       "      <td>NaN</td>\n",
       "      <td>NaN</td>\n",
       "      <td>NaN</td>\n",
       "      <td>NaN</td>\n",
       "      <td>23912.0</td>\n",
       "      <td>59136.0</td>\n",
       "      <td>35224.0</td>\n",
       "      <td>1</td>\n",
       "      <td>0</td>\n",
       "      <td>0</td>\n",
       "      <td>0</td>\n",
       "      <td>1</td>\n",
       "    </tr>\n",
       "    <tr>\n",
       "      <th>4</th>\n",
       "      <td>Sign Bottom</td>\n",
       "      <td>5</td>\n",
       "      <td>16862</td>\n",
       "      <td>59292</td>\n",
       "      <td>NaN</td>\n",
       "      <td>NaN</td>\n",
       "      <td>NaN</td>\n",
       "      <td>NaN</td>\n",
       "      <td>NaN</td>\n",
       "      <td>NaN</td>\n",
       "      <td>16862.0</td>\n",
       "      <td>59292.0</td>\n",
       "      <td>42430.0</td>\n",
       "      <td>1</td>\n",
       "      <td>0</td>\n",
       "      <td>0</td>\n",
       "      <td>0</td>\n",
       "      <td>1</td>\n",
       "    </tr>\n",
       "  </tbody>\n",
       "</table>\n",
       "</div>"
      ],
      "text/plain": [
       "  allkirja_positsioon  ID  auto1_varem  auto1_hiljem  auto2_varem  \\\n",
       "0            Sign Top   1          896         39198          NaN   \n",
       "1         Sign Bottom   2        21396         63511      32659.0   \n",
       "2         Sign Bottom   3        21340         37460      44998.0   \n",
       "3         Sign Bottom   4        23912         59136          NaN   \n",
       "4         Sign Bottom   5        16862         59292          NaN   \n",
       "\n",
       "   auto2_hiljem  auto3_varem  auto3_hiljem  auto4_varem  auto4_hiljem  \\\n",
       "0           NaN          NaN           NaN          NaN           NaN   \n",
       "1       47605.0          NaN           NaN          NaN           NaN   \n",
       "2       59002.0          NaN           NaN          NaN           NaN   \n",
       "3           NaN          NaN           NaN          NaN           NaN   \n",
       "4           NaN          NaN           NaN          NaN           NaN   \n",
       "\n",
       "   varem_keskmine  hiljem_keskmine  vahepealne_keskmine_labisoit  \\\n",
       "0           896.0          39198.0                       38302.0   \n",
       "1         27027.5          55558.0                       28530.5   \n",
       "2         33169.0          48231.0                       15062.0   \n",
       "3         23912.0          59136.0                       35224.0   \n",
       "4         16862.0          59292.0                       42430.0   \n",
       "\n",
       "   auto1_indikaator  auto2_indikaator  auto3_indikaator  auto3_indikaator.1  \\\n",
       "0                 1                 0                 0                   0   \n",
       "1                 1                 1                 0                   0   \n",
       "2                 1                 1                 0                   0   \n",
       "3                 1                 0                 0                   0   \n",
       "4                 1                 0                 0                   0   \n",
       "\n",
       "   autode_arv  \n",
       "0           1  \n",
       "1           2  \n",
       "2           2  \n",
       "3           1  \n",
       "4           1  "
      ]
     },
     "execution_count": 2,
     "metadata": {},
     "output_type": "execute_result"
    }
   ],
   "source": [
    "df = pd.read_csv(\"yl1.csv\", sep=\";\")\n",
    "df.head()"
   ]
  },
  {
   "cell_type": "markdown",
   "metadata": {
    "id": "veWLLXt-2hcA"
   },
   "source": [
    "Iga rida vastab ühe kindlustustaotleja andmetele. Veerus `allkirja_positsioon` on kirjas, kas taotleja täitis aususeavalduse ankeedi alguses või lõpus. Veerg `ID` sisaldab kindlustusepakkuja ettevõttesisest identifikaatorit ja on meie jaoks ebaoluline. Järgmised veerud sisaldavad põhilisi andmeid. Igal taotlejal oli kirjas kuni neli erinevat autot, mille läbisõitu (odomeetri hetke näit) ta raporteerima pidi. Iga auto kohta on kirjas `_varem` ja `_hiljem` veerud, mõlemad näitavad milline oli auto läbisõit teatud hetkel. `_varem` veergudes on kirjas auto varasemalt raporteeritud läbisõit (nö ajapunktil 1, mis võis olla aastaid varem), `_hiljem` veergudes on kirjas samuti samade autode läbisõit, aga hilisemal ajal, st ajal kui uuringut läbi viidi. `_hiljem` veergudes olevate andmete puhul küsiti allkirja aususe kohta kas ankeedi alguses või lõpus.\n",
    "\n",
    "Lisaks on andmetes keskmiste veerud `varem_keskmine`, `hiljem_keskmine` ja `vahepealne_keskmine_labisoit`. Veergu `varem_keskmine` on märgitud iga inimese jaoks  kõikide tema autode keskmine läbisõit varasemalt. Veergu `hiljem_keskmine` on märgitud iga inimese jaoks tema autode keskmine läbisõit hilisemal küsitlusel. Aususe analüüs viidi läbi tunnuse `vahepealne_keskmine_labisoit` põhjal, mis sisaldab kahe keskmise vahelist erinevust (`hiljem_keskmine` - `varem_keskmine`), ehk iga inimese autode keskmist läbisõitu kahe küsitluse vahepealsel ajal. (Lisainfo: miks just sellise tunnuse põhjal ausust uuriti, kui loogiliselt võttes saaks ka teha ainult `hiljem_keskmine` veeru põhjal, me öelda ei oska, aga mõlema puhul saab ausust uurida).\n",
    "\n",
    "Viimased tulbad on indikaatortulbad `autoX_indikaator`, mis näitavad, kas inimesel oli auto nr `X` olemas, ning tulp `autode_arv`, mis näitab, kui palju autosid igal inimesel oli.\n",
    "\n",
    "See tabel on 2012. aasta originaalartiklis kasutatud andmete põhjal loodud, ainuke erinevus on tulpade nimede muutmine ja csv-formaati teisendamine."
   ]
  },
  {
   "cell_type": "markdown",
   "metadata": {
    "id": "lXpopFZn2hcL"
   },
   "source": [
    "<font color='purple'>**(a) Veenduge, et `varem_keskmine`, `hiljem_keskmine`, `vahepealne_keskmine_labisoit` tulbad on korrektselt leitud.**</font>\n",
    "\n",
    "<font color='purple'>**JUHISED:**</font>\n",
    "\n",
    "1. <font color='purple'>**Leidke iga inimese (rea) jaoks varasem autode keskmine läbisõit (st `autoX_varem` tulbad).**</font>\n",
    "\n",
    "2. <font color='purple'>**Leidke iga inimese jaoks hilisem autode keskmine läbisõit (st `autoX_hiljem` tulbad).**</font>\n",
    "\n",
    "3. <font color='purple'>**Võrrelge ise arvutatud keskmisi veergudega `varem_keskmine`, `hiljem_keskmine`. Viimasena saate arvutatud veergude vahet võrrelda `vahepealne_keskmine_labisoit` veeruga.**</font>\n",
    "    \n",
    "<font color='purple'>**OODATUD TULEMUS: On leitud keskmised läbisõidud reakaupa. On näidatud, et ise arvutatud ja failis olnud `_keskmine` veergude erinevus on nullilähedane.**</font>\n",
    "    \n",
    "VIHJED:\n",
    "* Keskmiseid saab kiirelt leida, kasutades `pandas.DataFrame.mean()` või `np.mean()`, sobiva `axis` argumendi valikuga.\n",
    "* Ise arvutatud veergude võrdlemisel failis olnud veergudega ei saa reahaaval võrdumist kontrollida, kuna tegu on ujukomaarvudega. Selle asemel võib võrrelda maksimaalset erinevust arvutatud ja failis olnud veergude vahel. Kasuks tulevad meetodid `np.abs()` ja `np.max()` või `pd.Series.abs()` ja `pd.Series.max()`\n",
    "\n",
    "**Küsimus praksi juhendajale:**\n",
    "\n",
    "***TEHTUD*** : 0/1"
   ]
  },
  {
   "cell_type": "code",
   "execution_count": null,
   "metadata": {
    "id": "S4mO0E8F2hcY"
   },
   "outputs": [],
   "source": [
    "# Lahendus palun siia (siin ja edaspidi võib selle kommentaari kustutada\n",
    "# ning samuti võib ka ise tekstivälju ja koodivälju juurde teha, kuid\n",
    "# muid etteantud välju kustutada ei tohi)."
   ]
  },
  {
   "cell_type": "markdown",
   "metadata": {
    "id": "u4aL3z8l2hcc"
   },
   "source": [
    "<font color='purple'>**(b) Kõigepealt võiksime uurida originaalartikli põhilist väidet, et allkirja positsioonist sõltub, kui ausalt inimesed andmeid märgivad. Uuringus vaadati just vahepealse perioodi keskmist läbisõitu nii üles kui alla allkirja andnud inimeste puhul.**</font>\n",
    "\n",
    "<font color='purple'>**JUHISED:**</font>\n",
    "\n",
    "1. <font color='purple'>**Leidke veeru `vahepealne_keskmine_labisoit` keskmine mõlema uuringus osalenud grupi jaoks, st ankeedi ülaosas aususeavalduse täitnute jaoks ja ankeedi alaosas täitnute jaoks.**</font>\n",
    "\n",
    "2. <font color='purple'>**Joonistage ühele joonisele kaks histogrammi veeru `vahepealne_keskmine_labisoit` jaoks: üks histogramm nende taotlejate kohta, kelle allkirja positsioon on ankeedi ülevalosas ja teine nende kohta, kelle allkirja positsioon on ankeedi allosas.**</font>\n",
    "\n",
    "<font color='purple'>**OODATUD TULEMUS: 2 arvu, 1 joonis.**</font>\n",
    "\n",
    "**Küsimus praksi juhendajale:**\n",
    "\n",
    "***TEHTUD*** : 0/1"
   ]
  },
  {
   "cell_type": "code",
   "execution_count": null,
   "metadata": {
    "id": "Lp7QqHEt2hcg"
   },
   "outputs": [],
   "source": [
    "# Lahendus"
   ]
  },
  {
   "cell_type": "markdown",
   "metadata": {
    "id": "curiAjbUc28C"
   },
   "source": [
    "<font color='purple'>**(c) Eelmises ülesandes visualiseerisime klientide keskmised läbisõidud kahe küsitluse vahepealsel perioodil. Milline võiks juhuslikult valitud autode läbisõidu jaotus päriselt olla? Võid veidi guugeldada ja uurida (ka blogipostituses on veidi mainitud) ning kirjeldada paari lausega.**  \n",
    "*(**NB!** Siin on oodatud seda, millised need väärtused peaksid päriselt olema, mitte andmete põhjal vaadatuna.)*</font>\n",
    "\n",
    "<font color='purple'>**Võid mõelda kirjelduse koostamisel:**</font>\n",
    "\n",
    "* <font color='purple'>**mis võiks olla minimaalne ja maksimaalne läbisõit (miilides), ei pea siin proovima õigesti vastata, vaid umbes mõelda, et mis võiks olla ühe sõitva auto maksimaalne ja minimaalne läbisõit;**</font>\n",
    "\n",
    "* <font color='purple'>**umbes millisesse sõidetud miilide vahemikku võiks kõige rohkem autosid jääda;**</font>\n",
    "\n",
    "* <font color='purple'>**milliste sõidetud miilide vahemikus võiks autode arv olla null;**</font>\n",
    "\n",
    "* <font color='purple'>**milline võiks olla jaotuse profiili kuju (nt ühtlane, stabiilselt kasvav, ühe kitsa ja kõrge piigiga, mitme lauge piigiga, jne).**</font>\n",
    "    \n",
    "<font color='purple'>**OODATUD TULEMUS: vastused küsimusele.**</font>\n",
    "\n",
    "**Küsimus praksi juhendajale:**\n",
    "\n",
    "***TEHTUD*** : 0/1"
   ]
  },
  {
   "cell_type": "markdown",
   "metadata": {
    "id": "2AQlFIHI2hcs"
   },
   "source": [
    "(Vastus palun siia)"
   ]
  },
  {
   "cell_type": "markdown",
   "metadata": {
    "id": "iWW-vOr82hct"
   },
   "source": [
    "<font color='purple'>**(d) Koostage neli histogrammi, igale histogrammile kandke ühe `_varem` veeru autode sõidetud miilide jaotus. St üks diagramm veeru `auto1_varem` jaoks, teine `auto2_varem` jaoks jne.**</font>\n",
    "\n",
    "<font color='purple'>**OODATUD TULEMUS: joonis, selgitus, kas ja miks tundub usutav või mitte (1-2 lauset)**</font>\n",
    "\n",
    "**Küsimus praksi juhendajale:**\n",
    "\n",
    "***TEHTUD*** : 0/1"
   ]
  },
  {
   "cell_type": "code",
   "execution_count": null,
   "metadata": {
    "id": "5kWqFO8l2hcw"
   },
   "outputs": [],
   "source": [
    "# Lahendus"
   ]
  },
  {
   "cell_type": "markdown",
   "metadata": {
    "id": "RORB1Meec28C"
   },
   "source": [
    "(Vastus palun siia)"
   ]
  },
  {
   "cell_type": "markdown",
   "metadata": {
    "id": "SZxOX--j2hc8"
   },
   "source": [
    "<font color='purple'>**(e) Koostage neli histogrammi, igale histogrammile kandke ühe `_hiljem` veeru autode sõidetud miilide jaotus. S.t. üks diagramm veeru `auto1_hiljem` jaoks, teine `auto2_hiljem` jaoks jne.**</font>\n",
    "\n",
    "<font color='purple'>**OODATUD TULEMUS: joonis, selgitus, kas ja miks tundub usutav või mitte (1-2 lauset)**</font>\n",
    "\n",
    "**Küsimus praksi juhendajale:**\n",
    "\n",
    "***TEHTUD*** : 0/1"
   ]
  },
  {
   "cell_type": "code",
   "execution_count": null,
   "metadata": {
    "id": "5xEBrhbM2hc9"
   },
   "outputs": [],
   "source": [
    "# Lahendus"
   ]
  },
  {
   "cell_type": "markdown",
   "metadata": {
    "id": "2XiX3t9dc28C"
   },
   "source": [
    "(Vastus palun siia)"
   ]
  },
  {
   "cell_type": "markdown",
   "metadata": {
    "id": "yMUKlT3x2hdB"
   },
   "source": [
    "<font color='purple'>**(f) Koostage neli histogrammi, igale histogrammile kandke vahe `_hiljem` ja `_varem` veergude vahel. S.t. üks diagramm veeru `auto1_hiljem` ja `auto1_varem` vahe jaoks jne. Nende kahe tunnuse vahe tähistab seda, kui palju auto nende kahe küsitluse vahel on sõitnud.**</font>\n",
    "\n",
    "<font color='purple'>**OODATUD TULEMUS: joonis, selgitus, kas ja miks tundub usutav või mitte (1-2 lauset)**</font>\n",
    "\n",
    "**Küsimus praksi juhendajale:**\n",
    "\n",
    "***TEHTUD*** : 0/1"
   ]
  },
  {
   "cell_type": "code",
   "execution_count": null,
   "metadata": {
    "id": "CulHoDef2hdB"
   },
   "outputs": [],
   "source": [
    "# Lahendus"
   ]
  },
  {
   "cell_type": "markdown",
   "metadata": {
    "id": "hU-ZkEVXc28C"
   },
   "source": [
    "(Vastus palun siia)"
   ]
  },
  {
   "cell_type": "markdown",
   "metadata": {
    "id": "s0fmhQKU2hdF"
   },
   "source": [
    "Loodetavasti nägite eelmiste ülsannete jooksul, et andmetega ei ole kõik korras. On ka teine võimalus petturluse tuvastamiseks. Saame jälgida sõidetud miilide viimase numbri jaotust (nt kui auto on sõitnud 4321 miili, siis selle auto sõidetud miilide viimane number on 1).  Ausas uurimuses võiks sõidetud miilide arvu viimase numbri jaotus olla sarnane nii `_varem` kui ka `_hiljem` veergudes, kuna kliendid on pidanud märkima sama asja - odomeetri näidu - lihtsalt erinevatel ajahetkedel.\n",
    "    \n",
    "<font color='purple'>**(g) Joonistage `_varem` veergudes olevate autode viimase numbri jaotus. Seekord ei ole vaja nelja eri graafikut, vaid tehke üks massiiv kõigist neljast veerust. Seejärel leidke selles massiivis viimase numbri jaotus ja kandke tulpdiagrammile.**</font>\n",
    "    \n",
    "<font color='purple'>**OODATUD TULEMUS: Üks tulpdiagramm, kus on kõikide autode `_varem` veerus viimase numbri jaotus.**</font>\n",
    "    \n",
    "VIHJE:\n",
    "    \n",
    "* Nelja tulba agregeerimiseks uurige `np.flatten()` või `np.ravel()` meetodeid.\n",
    "\n",
    "* Viimase numbri leidmiseks saab Pythoni `modulo` operaatorit `%` rakendada NumPy massiivile või pandase objektidele rakendada elemendikaupa.\n",
    "\n",
    "* Kui iga massiivi elemendi jaoks on viimane number leitud, tuleb veenduda, et tegu on `int` või `np.int` tüüpi objektiga! Vajadusel tuleb need viimased numbrid konverteerida täisarvudeks.\n",
    "\n",
    "**Küsimus praksi juhendajale:**\n",
    "\n",
    "***TEHTUD*** : 0/1"
   ]
  },
  {
   "cell_type": "code",
   "execution_count": null,
   "metadata": {
    "id": "t3Qu6cEg2hdH"
   },
   "outputs": [],
   "source": [
    "# Lahendus"
   ]
  },
  {
   "cell_type": "markdown",
   "metadata": {
    "id": "t9TfnzFe2hdN"
   },
   "source": [
    "<font color='purple'>**(h) Joonistage `_hiljem` veerus olevate autode viimase numbri jaotus. Siin ka ei ole vaja nelja eri graafikut, vaid tehke üks massiiv kõigist neljast veerust. Seejärel leidke selles massiivis viimase numbri jaotus ja kandke tulpdiagrammile.**</font>\n",
    "    \n",
    "<font color='purple'>**OODATUD TULEMUS: Üks tulpdiagramm, kus on kõikide `_hiljem` veerus olevate autode viimase numbri jaotus.**</font>\n",
    "    \n",
    "VIHJE:\n",
    "    \n",
    "* Sama protsess, mis eelmises alapunktis.\n",
    "\n",
    "**Küsimus praksi juhendajale:**\n",
    "\n",
    "***TEHTUD*** : 0/1"
   ]
  },
  {
   "cell_type": "code",
   "execution_count": null,
   "metadata": {
    "id": "EcO-zNKi2hdP"
   },
   "outputs": [],
   "source": [
    "# Lahendus"
   ]
  },
  {
   "cell_type": "markdown",
   "metadata": {
    "id": "Sxxn-il52hdS"
   },
   "source": [
    "<font color='purple'>\n",
    "    \n",
    "**(i) Selgitage, mis järelduse saab teha kahes eelmises alapunktis toodud tulpdiagrammi põhjal. Põhjendage erinevusi graafikute vahel. OODATUD TULEMUS: Arutlus (ca 3-5 lauset).**\n",
    "</font>\n",
    "\n",
    "**Küsimus praksi juhendajale:**\n",
    "\n",
    "***TEHTUD*** : 0/1"
   ]
  },
  {
   "cell_type": "markdown",
   "metadata": {
    "id": "_6dP1W3E2hdW"
   },
   "source": [
    "(Vastus palun siia)"
   ]
  },
  {
   "cell_type": "markdown",
   "metadata": {
    "id": "cYlJq7sp2hdc"
   },
   "source": [
    "# 2. ülesanne.  Ühtlase jaotuse maksimaalse väärtuse hindamine (2.5 punkti)"
   ]
  },
  {
   "cell_type": "markdown",
   "metadata": {
    "id": "3CaG4fJp2hde"
   },
   "source": [
    "Failis `yl2.csv` on antud 100 arvu, mis on võetud sõltumatult ühtlasest jaotusest $\\operatorname{Uniform}(0,\\theta)$, ehk ühtlaselt nulli ja teadmata positiivse arvu $\\theta$ vahelt. Teie ülesandeks on ära arvata parameetri $\\theta$ väärtus võimalikult täpselt."
   ]
  },
  {
   "cell_type": "markdown",
   "metadata": {
    "id": "oxoia0_fc28D"
   },
   "source": [
    "<font color='purple'>**(a) Defineerime 3 statistikut $\\theta$ väärtuse hindamiseks. Statistikust võid mõelda kui funktsioonist või meetodist, mille abil arvutada hinnang $\\theta$ väärtusele.**</font>\n",
    "\n",
    "<font color='purple'>**JUHISED:**</font>\n",
    "    \n",
    "1. <font color='purple'>**Esimene olgu $\\theta_1(X_1,\\dots,X_n)=\\max(X_1,\\dots,X_n)$, kus $X_1,\\dots,X_n$ on 100 etteantud arvu ($n=100$).**</font>\n",
    "\n",
    "2. <font color='purple'>**Teise statistiku tuletamise jaoks paneme tähele, et loengumaterjali alusel oskame leida jaotuse keskväärtusele hinnangu $\\hat{\\mu}$. Teisest küljest teame, et tegelik keskväärtus on antud ühtlase jaotuse puhul $(0+\\theta)/2=\\theta/2$. Kuna $\\hat{\\mu}$ on hinnang keskväärtusele $\\theta/2$, siis saamegi siit teise statistiku parameetri $\\theta$ hindamiseks: $\\theta_2(X_1,\\dots,X_n)=2\\bar{X}$, kus $\\bar{X}$ on valimi aritmeetiline keskmine.**</font>\n",
    "\n",
    "3. <font color='purple'>**Kolmanda statistiku $\\theta_3(X_1,\\dots,X_n)$ arvutamise jaoks kasutame ühtlase jaotuse dispersiooni valemit (otsi internetist, milline on ühtlase jaotuse dispersiooni valem - loengu slaididel on üldine dispersiooni arvutamise valem, aga paljude jaotuste keskmiseid ja dispersioone saab arvutada lihtsamalt, otse jaotuse parameetritest). Selles valemis kasutatakse ühtlase jaotuse miinimumi ja maksimumi väärtust. Avalda sellest valemist maksimum $\\theta$. Selle tagajärjel jääb valemi üheks osaks dispersioon, mida saad hinnata meie valimist (valimi dispersiooni $s^2$ leidmiseks kasuta nihketa hinnangut, vt loengu slaide).**</font>\n",
    "\n",
    "4. <font color='purple'>**Paku kõhutunde järgi, milline võiks olla nendest kolmest statistikust täpseim ja miks?**</font>\n",
    "\n",
    "<font color='purple'>**OODATUD TULEMUS: Kolme ülalkirjeldatud statistiku arvutused antud andmetel ning väljastatud arvulised hinnangud parameetrile $\\theta$. Pakkumine, et milline on täpseim ja miks (1-3 lauset).** (siin ja edaspidi rõhutab 'oodatud tulemus', mida on vaja teha lahenduse eest punktide saamiseks; soovi korral võib alati täiendavaid kommentaare ja jooniseid lisada).</font>\n",
    "    \n",
    "VIHJED:\n",
    "* Otsi välja ühtlase jaotuse dispersiooni valem, rakenda jaotusele $\\operatorname{Uniform}(0,\\theta)$.\n",
    "* Valimi dispersiooni nihketa hinnangu jaoks on vaja kasutada `np.var(data,ddof=1)`.\n",
    "* Kui varasem kirjeldus jäi liiga tehniliseks ja segaseks, siis järgnev on sama ülesande tekst veidike lihtsustatud kujul:\n",
    "\n",
    "Ülesande eesmärk:\n",
    "\n",
    "Sa pead hindama üht väärtust nimega $\\theta$ kolme erineva meetodi ehk statistikuga. Põhimõtteliselt on $\\theta$ mingi tundmatu arv ja sa kasutad neid meetodeid, et sellele arvule lähemale jõuda.\n",
    "\n",
    "* Statistik 1: Maksimaalne arv. Esimene meetod on lihtne. Võtame 100 antud arvu seast suurima ja see ongi esimene hinnang $\\theta$'le.\n",
    "* Statistik 2: Aritmeetiline keskmine. Teiseks peab leidma 100 arvu keskmise ning korrutama selle kahega. See annab teise hinnangu $\\theta$'le.\n",
    "* Statistik 3: Dispersioon. Kolmas meetod on veidi keerulisem. Siin peab otsima internetist ühtlase jaotuse dispersiooni valemi ning avaldama sealt jaotuse maksimumi. Valemisse jääb sisse dispersioon, mida saad hinnata meie 100 arvu pealt (loengus rääkisime ka nihketa dispersiooni hindamisest).\n",
    "\n",
    "**Küsimus praksi juhendajale:**\n",
    "\n",
    "***TEHTUD*** : 0/1"
   ]
  },
  {
   "cell_type": "code",
   "execution_count": null,
   "metadata": {
    "id": "_ZTLgM-x2hdi"
   },
   "outputs": [],
   "source": [
    "import numpy as np\n",
    "import pandas as pd\n",
    "import matplotlib.pyplot as plt\n",
    "import scipy\n",
    "\n",
    "# Lahendus palun siia (siin ja edaspidi võib selle kommentaari kustutada\n",
    "# ning samuti võib ka ise tekstivälju ja koodivälju juurde teha, kuid\n",
    "# muid etteantud välju kustutada ei tohi)."
   ]
  },
  {
   "cell_type": "markdown",
   "metadata": {
    "id": "5QWrg8-Jc28D"
   },
   "source": [
    "(Vastus palun siia)"
   ]
  },
  {
   "cell_type": "markdown",
   "metadata": {
    "id": "SupoPFKo2hdp"
   },
   "source": [
    "<font color='purple'>**(b) Järgnevalt uurime eksperimentaalselt, milline kolmest statistikust annab keskeltläbi paremaid tulemusi. Selleks jätame korraks etteantud andmed kõrvale ja uurime hoopis olukorda, kus andmed on genereeritud ühtlasest jaotusest $\\operatorname{Uniform}(0,1)$. Sellisel puhul saame uurida, kui lähedale arvule $1$ satuvad keskmiselt hinnangud saaduna kolme ülalkirjeldatud statistikuga.**</font>\n",
    "\n",
    "<font color='purple'>**JUHISED:**</font>\n",
    "    \n",
    "1. <font color='purple'>**Genereeri 10000 andmestikku suurusega 100 andmepunkti, jaotusest $\\operatorname{Uniform}(0,1)$.**</font>\n",
    "\n",
    "2. <font color='purple'>**Iga hinnangufunktsiooni jaoks ülaltoodud alapunktist (a) joonista histogramm (kokku 3 - iga hinnangufunktsiooni jaoks üks), mis näitavad vastavalt iga hinnangufunktsiooni väärtuste jaotust neil andmestikel (ehk iga histogrammi tegemisel on kasutusel 10000 hinnangut).**</font>\n",
    "\n",
    "3. <font color='purple'>**Selgita, mis poolest need histogrammid sarnanevad või erinevad üksteisest ja millest see võiks tingitud olla. Paku histogrammi visuaalse vaatluse põhjal, milline näib parim hinnangufunktsioon ja milline halvim ja miks.**</font>\n",
    "\n",
    "<font color='purple'>**OODATUD TULEMUS: Kolm histogrammi, üks iga hinnangufunktsiooni kohta. Selgitus, 3-5 lauset. Pakkumine ja põhjendus, 1-3 lauset.**</font>\n",
    "\n",
    "**Küsimus praksi juhendajale:**\n",
    "\n",
    "***TEHTUD*** : 0/1"
   ]
  },
  {
   "cell_type": "code",
   "execution_count": null,
   "metadata": {
    "id": "uRA6OL_B2hdq",
    "scrolled": true
   },
   "outputs": [],
   "source": [
    "rng = np.random.default_rng(0) # siin ja edaspidi seda rida palun mitte eemaldada - see garanteerib, et igal käivitamisel oleks sama tulemus\n",
    "\n",
    "\n",
    "# Lahendus palun siia (taas võib soovi korral koodivälju juurde teha ja teksti juurde kirjutada)."
   ]
  },
  {
   "cell_type": "markdown",
   "metadata": {
    "id": "QYyRk0eWc28E"
   },
   "source": [
    "(Vastus palun siia)"
   ]
  },
  {
   "cell_type": "markdown",
   "metadata": {
    "id": "SV-O5_vD2hdr"
   },
   "source": [
    "<font color='purple'>**(c) Mõõda 3 hinnangufunktsiooni headust ruutkeskmise veaga MSE punktis (b) genereeritud andmetel. Milline on parim, milline halvim hinnangufunktsioon? Kas läks punktis (b) tehtud pakkumisega kokku või kui mitte, siis mis osutus erinevaks?**</font>\n",
    "    \n",
    "<font color='purple'>**OODATUD TULEMUS: MSE tulemus eraldi igal hinnangufunktsioonil. Milline parim ja milline halvim - 1 lause. Kas läks pakkumisega kokku: 1-3 lauset.**</font>\n",
    "\n",
    "**Küsimus praksi juhendajale:**\n",
    "\n",
    "***TEHTUD*** : 0/1"
   ]
  },
  {
   "cell_type": "code",
   "execution_count": null,
   "metadata": {
    "id": "13P2nuRJ2hds"
   },
   "outputs": [],
   "source": [
    "# Lahendus"
   ]
  },
  {
   "cell_type": "markdown",
   "metadata": {
    "id": "Q3HcySe8c28E"
   },
   "source": [
    "(Vastus palun siia)"
   ]
  },
  {
   "cell_type": "markdown",
   "metadata": {
    "id": "AMIK0KVc2hdt"
   },
   "source": [
    "<font color='purple'>**(d) Lähtuvalt eelnevatest alapunktidest teha enda poolt lõplik pakkumine parameetri $\\theta$ väärtusele ühega kolmest hinnangufunktsioonist. Põhjendada, miks just see hinnangufunktsioon sai valitud.**</font>\n",
    "\n",
    "<font color='purple'>**OODATUD TULEMUS: Pakkumine $\\theta$ väärtusele: üks reaalarv. Põhjendus: 1-5 lauset.**</font>\n",
    "\n",
    "**Küsimus praksi juhendajale:**\n",
    "\n",
    "***TEHTUD*** : 0/1"
   ]
  },
  {
   "cell_type": "markdown",
   "metadata": {
    "id": "G-yrZgPBc28E"
   },
   "source": [
    "(Vastus palun siia)"
   ]
  },
  {
   "cell_type": "markdown",
   "metadata": {
    "id": "hMkkPjY52hdu"
   },
   "source": [
    "<font color='purple'>**(e) Punktis (b) joonistatud histogrammidest on näha, et kõik hinnangufunktsioonid paratamatult eksivad natuke ehk $\\hat{\\theta}\\neq 1$ ($\\hat{\\theta}$'ga tähistame hinnangut päris maksimumile $\\theta$).**</font>\n",
    "\n",
    "* <font color='purple'>**Nüüd seame eesmärgiks leida punkthinnangu $\\hat{\\theta}$ asemel vahemikhinnangu, s.t. intervalli mille sisse kuulub jaotuse tegelik maksimum (ehk arv 1) tõenäosusega 98%.**</font>\n",
    "\n",
    "* <font color='purple'>**Seda tuntakse kui usaldusvahemikku ehk usaldusintervalli. Meie seame eesmärgiks leida sümmeetriline vahemikhinnang ehk tahame väljastada vahemiku kujul $[(1-x)\\hat{\\theta},(1+x)\\hat{\\theta}]$, kus $x$ on mingi väike positiivne reaalarv, $0<x<1$.**</font>\n",
    "\n",
    "* <font color='purple'>**Kasutades punktis (d) valitud hinnangufunktsiooni, leia punktis (b) genereeritud andmete põhjal arv $x$ nii, et 98 protsendil andmestikest jääb jaotuse tegelik maksimum ehk arv $1$ vahemikku $[(1-x)\\hat{\\theta},(1+x)\\hat{\\theta}]$.**</font>\n",
    "    \n",
    "<font color='purple'>**OODATUD TULEMUS: Reaalarv $x$.**</font>\n",
    "\n",
    "VIHJED:\n",
    "* NB! See ei ole sama mis uurida kui tihti on $\\hat{\\theta}$ vahemikus $[1-x,1+x]$.\n",
    "* 10000 andmestiku peal on sul arvutatud oma hinnangufunktsiooniga statistik, ehk 10000 statistiku väärtust. Nüüd valid ühe $x$'i (mis ei muutu üle andmestike) ja arvutad iga statistiku jaoks vahemiku ja vaatad, kui paljudel juhtudel 1 jääb vahemikku.\n",
    "* Piisab lahendusest, mis otsingu või katse-eksitus meetodil $x$'i leiab. Ehk võite valida $x$'i, vaadata, mitmel protsendil andmestikest nõutud tingimus kehtib katsetada seni, kuni leiate $x$'i, mille puhul on see piisavalt lähedal 98 protsendile.\n",
    "\n",
    "**Küsimus praksi juhendajale:**\n",
    "\n",
    "***TEHTUD*** : 0/1"
   ]
  },
  {
   "cell_type": "code",
   "execution_count": null,
   "metadata": {
    "id": "pfjYTwdr2hdv"
   },
   "outputs": [],
   "source": [
    "# Lahendus"
   ]
  },
  {
   "cell_type": "markdown",
   "metadata": {
    "id": "lRZVhCZuc28E"
   },
   "source": [
    "(Vastus palun siia)"
   ]
  },
  {
   "cell_type": "markdown",
   "metadata": {
    "id": "s-OInsi_2hdw"
   },
   "source": [
    "<font color='purple'>\n",
    "    \n",
    "**(f) Kasutades punktis (e) leitud väärtust $x$ ja punktis (d) valitud hinnangufunktsiooni, leia algsetele failist `yl2.csv` sisse loetud andmetele 98% sümmeetriline usaldusvahemik $[(1-x)\\hat{\\theta},(1+x)\\hat{\\theta}]$. Proovige põhjendada, miks saame punktis (b) genereeritud andmete põhjal leitud väärtust $x$ selliselt kasutusele võtta algsetel andmetel, kus me tegelikku $\\theta$ väärtust ei tea.**</font>\n",
    "    \n",
    "<font color='purple'>**OODATUD TULEMUS: Vahemik ja põhjendus, miks õige $\\theta$ kuulub 98% tõenäosusega sellesse vahemikku (vahemik ja 1-3 lauset).**</font>\n",
    "\n",
    "**Küsimus praksi juhendajale:**\n",
    "\n",
    "***TEHTUD*** : 0/1"
   ]
  },
  {
   "cell_type": "code",
   "execution_count": null,
   "metadata": {
    "id": "COCvsEkq2hdw"
   },
   "outputs": [],
   "source": [
    "# Lahendus"
   ]
  },
  {
   "cell_type": "markdown",
   "metadata": {
    "id": "1oR8Q2hsc28F"
   },
   "source": [
    "(Vastus palun siia)"
   ]
  },
  {
   "cell_type": "markdown",
   "metadata": {
    "id": "a3WJb8h42hdy"
   },
   "source": [
    "## <font color='red'>Enne kodutöö esitamist palun lähtesta kernel uuesti ning jooksuta kogu kood algusest peale korra läbi - selleks on vaja menüüst valida `Kernel` -> `Restart and Run All`.</font>\n",
    "\n",
    "## Kodutöö tagasiside\n",
    "\n",
    "Palun vasta nii täpselt kui oskad. See ei muuda mingilgi moel punkte, mille kodutöö eest saad. Nii 0,5 tundi kui 24 tundi on sobivad vastused. Kogutud informatsiooni kasutatakse kodutööde paremaks muutmiseks.\n",
    "\n",
    "<font color = \"red\">**Tagasidet saad anda anonüümselt siin [Google Formsis](https://forms.gle/D7wuDHB2fUCN1JM76).**</font>\n",
    "\n",
    "**<font color='red'>SUUR TÄNU TEHTUD TÖÖ EEST!</font>**"
   ]
  }
 ],
 "metadata": {
  "colab": {
   "provenance": []
  },
  "kernelspec": {
   "display_name": "Python 3",
   "language": "python",
   "name": "python3"
  },
  "language_info": {
   "codemirror_mode": {
    "name": "ipython",
    "version": 3
   },
   "file_extension": ".py",
   "mimetype": "text/x-python",
   "name": "python",
   "nbconvert_exporter": "python",
   "pygments_lexer": "ipython3",
   "version": "3.13.7"
  }
 },
 "nbformat": 4,
 "nbformat_minor": 0
}
