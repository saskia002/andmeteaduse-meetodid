{
  "cells": [
    {
      "cell_type": "markdown",
      "metadata": {
        "id": "tV1iTUQ1xHJD"
      },
      "source": [
        "# LTAT.02.006 Andmeteaduse meetodid\n",
        "## 3. praktikum - Jaotused\n",
        "\n",
        "Siin on lühike ülevaade enamlevinud tõenäosusjaotustest. Klikkige vastaval lingil, et avada detailsem lehekülg scipy dokumentatsioonist. Seejuures tähistab diskreetsetel jaotustel k ning pidevatel x jaotusest genereeritavat väärtust ning need ei ole parameetrid. Kõigil alltoodud jaotustel on 1 kuni 3 parameetrit.\n",
        "\n",
        "Klassikalised diskreetsed jaotused:\n",
        "* Bernoulli jaotus ([`bernoulli`](https://docs.scipy.org/doc/scipy/reference/generated/scipy.stats.bernoulli.html)): kas sündmus toimus (1) või mitte (0)?\n",
        "* Binoomjaotus ([`binom`](https://docs.scipy.org/doc/scipy/reference/generated/scipy.stats.binom.html)): juhuslik katse toimub n korda, õnnestumise tõenäosus on p. Mitu korda katse õnnestub? Näiteks mitu kirja tuleb 10 korda mündi viskamisel, $n = 10$ ja $p = 0.5$.\n",
        "* Poissoni jaotus ([`poisson`](https://docs.scipy.org/doc/scipy/reference/generated/scipy.stats.poisson.html)): see näitab sündmuse toimumiste arvu ajaühikus, kui on teada, et keskmiselt toimub ajaühikus $\\lambda$ sündmust.\n",
        "* Negatiivne binoomjaotus ([`nbinom`](https://docs.scipy.org/doc/scipy/reference/generated/scipy.stats.nbinom.html)): kui katse õnnestumise tõenäosus on $p$, siis mitu korda saab katse ebaõnnestuda, enne kui see jõuab $r$-ndat korda õnnestuda?\n",
        "* Geomeetriline jaotus ([`geom`](https://docs.scipy.org/doc/scipy/reference/generated/scipy.stats.geom.html)): juhusliku katse õnnestumise tõenäosus on p. Mitu korda peab katset sooritama et saada esimene õnnestumine? Näiteks mitu korda peab täringut viskama et tuleks esimene kuus ($p = \\frac{1}{6}$)?\n",
        "* Hüpergeomeetriline jaotus ([`hypergeom`](https://docs.scipy.org/doc/scipy/reference/generated/scipy.stats.hypergeom.html)): urnis on $N$ kuuli, nendest $K$ on mustad ja $N - K$ on valged. Sealt võetakse ilma tagasipanekuta välja $n$ kuuli. Väljavõetud kuulide seas olevate mustade kuulide arv on hüpergeomeetrilise jaotusega.\n",
        "* Zeta jaotus ([`zipf`](https://docs.scipy.org/doc/scipy/reference/generated/scipy.stats.zipf.html)): suvaliselt valitud sõna koht sageduse edetabelis.\n",
        "\n",
        "Klassikalised pidevad jaotused:\n",
        "* Ühtlane jaotus ([`uniform`](https://docs.scipy.org/doc/scipy/reference/generated/scipy.stats.uniform.html)): Ühtlase jaotusega juhuslik suurus langeb ühesuguse tõenäosusega kõikjale vahemikus $[a, b]$.\n",
        "* Normaaljaotus ([`norm`](https://docs.scipy.org/doc/scipy/reference/generated/scipy.stats.norm.html)): see kirjeldab selliseid juhuslikke suurusi, mis tekivad paljude sõltumatute ja sama jaotusega juhuslike suuruste summast.\n",
        "* Log-normaaljaotus ([`lognorm`](https://docs.scipy.org/doc/scipy/reference/generated/scipy.stats.lognorm.html)): see kirjeldab selliseid juhuslikke suurusi, mis tekivad paljude sõltumatute ja sama jaotusega juhuslike suuruste korrutisest.\n",
        "* Eksponentjaotus ([`expon`](https://docs.scipy.org/doc/scipy/reference/generated/scipy.stats.expon.html)): kui ajaühikus toimuv sündmuste arv on Poissoni jaotusega, siis kahe sündumse vahele jääv aeg on eksponentjaotusega.\n",
        "* Gammajaotus ([`gamma`](https://docs.scipy.org/doc/scipy/reference/generated/scipy.stats.gamma.html)): kui ajaühikus toimuv sündmuste arv on Poissoni jaotusega, siis aeg $n$-nda sündmuse toimumiseni on gammajaotusega.\n",
        "* Beetajaotus ([`beta`](https://docs.scipy.org/doc/scipy/reference/generated/scipy.stats.beta.html)): sellise jaotusega on $n$ ühtlasest jaotusest võetud punktide seas suuruselt $k$-ndal kohal olev väärtus.\n",
        "* Hii-ruut jaotus ([`chi2`](https://docs.scipy.org/doc/scipy/reference/generated/scipy.stats.chi2.html)): juhuslikul katsel on $k$ võimalikku tulemust, tulemuste tõenäosused on $p_1,p_2,...,p_k$ ning me teeme $n$ katset. Katseseeria käigus vaatlesime $x_i$ korda tulemust $i$. Keskmiselt võiks tulemus $i$ esineda $np_i$ korda. Et eeldatavaid ja tegelikke tulemuste esinemiste sagedusi võrrelda, arvutame hii-ruut statistiku:\n",
        "\n",
        "$$ \\chi^2 = \\sum_{i=1}^k \\frac{(np_i - x_i)^2}{np_i} $$\n",
        "\n",
        "Seda, kui palju võib arv $\\chi^2$ kõikuda, näitabki hii-ruut jaotus. Kui see arv tuleb ebatavaliselt suur või väike, näitab see seda, et me ei ole tulemuste tõenäosuseid $p_1,...,p_k$ õigesti hinnanud."
      ]
    },
    {
      "cell_type": "code",
      "execution_count": null,
      "metadata": {
        "id": "ofHmrrJyxHJZ"
      },
      "outputs": [],
      "source": [
        "import numpy as np\n",
        "import pandas as pd\n",
        "import matplotlib.pyplot as plt\n",
        "from scipy.stats import bernoulli, binom, geom, hypergeom, nbinom, poisson, zipf\n",
        "from scipy.stats import beta, chi2, expon, gamma, lognorm, norm, uniform"
      ]
    },
    {
      "cell_type": "markdown",
      "source": [
        "Järgnev abifunktsioon aitab meil diskreetsest jaotusest genereeritud andmeid võrrelda mõne klassikalise jaotuse tõenäosusfunktsiooniga (`pmf` - *probability mass function*). Selle jaoks tuleb andmed visualiseerida tulpdiagrammina selliselt, et väärtuste sagedused on teisendatud tõenäosusteks. Tõenäosusfunktsiooni arvutamiseks on vaja luua jaotuse objekt scipy teegist."
      ],
      "metadata": {
        "id": "jiC3vznZnCLs"
      }
    },
    {
      "cell_type": "code",
      "source": [
        "def võrdlev_joonis_diskreetne(andmed, scipy_jaotus, nr_bins = 21):\n",
        "    # loeme kokku sagedused ning teisendame tõenäosusteks\n",
        "    sagedused = np.bincount(andmed, minlength=nr_bins)\n",
        "    tõenäosused = sagedused / len(andmed)\n",
        "\n",
        "    # Joonistame andmed tupldiagrammina\n",
        "    x_telg = range(0, nr_bins)\n",
        "    plt.bar(x_telg, tõenäosused[:nr_bins], color='orange')\n",
        "\n",
        "    # Joonistame jaotuse tõenäosusfunktsiooni\n",
        "    plt.plot(x_telg, scipy_jaotus.pmf(x_telg), '-o', color='blue')\n",
        "\n",
        "    plt.show()"
      ],
      "metadata": {
        "id": "5F9-jCc4nBOq"
      },
      "execution_count": null,
      "outputs": []
    },
    {
      "cell_type": "markdown",
      "metadata": {
        "id": "2vRUjClA4QQT"
      },
      "source": [
        "Pidevast jaotusest genereeritud andmete puhul tuleks tulpdiagrammi asemel kasutada histogrammi. Et histogramm sageduste asemel tõenäosusi näitaks, on vaja parameetrit `density=True`. Jaotuse kuju paremaks uurimiseks võib ka muuta `bins` parameetrit (vahemike arv). Tõenäosusfunktsiooni asemel on tihedusfunktsioon (`pdf` - *probability density function*)."
      ]
    },
    {
      "cell_type": "code",
      "source": [
        "def võrdlev_joonis_pidev(andmed, scipy_jaotus, bins=15):\n",
        "    # Joonistame andmed histogrammina\n",
        "    plt.hist(andmed, bins=bins, density=True, color=\"orange\")\n",
        "\n",
        "    # Joonistame tihedusfunktsiooni.\n",
        "    x_telg = np.linspace(0, max(andmed), 1000)\n",
        "    plt.plot(x_telg, scipy_jaotus.pdf(x_telg), color='blue')\n",
        "\n",
        "    plt.show()"
      ],
      "metadata": {
        "id": "8fcYoA_Wpg2m"
      },
      "execution_count": null,
      "outputs": []
    },
    {
      "cell_type": "markdown",
      "metadata": {
        "id": "Jxmrr1qoxHJK"
      },
      "source": [
        "# Ülesanne 1 - tõenäosusjaotuste äratundmine\n",
        "\n",
        "Selle ülesande eesmärk on klassikaliste tõenäosusjaotuste meenutamine või nendega tutvumine ning intuitsiooni arendamine nende andmetest äratundmiseks.\n",
        "\n",
        "Lae alla andmefail `praktikum_3_andmed` kursuse lehelt ja paki lahti. Selles sisalduvad andmefailid `d1_*.csv` kuni `d7_*.csv`, mis sisaldavad seitsmest erinevast diskreetsest jaotusest genereeritud andmeid ning failid `c1_*.csv` kuni `c7_*.csv`, mis sisaldavad seitsmest erinevast pidevast jaotusest genereeritud andmeid. Faili nimes peale alakriipsu olev arv näitab, mitu andmepunkti vastavas andmestikus on. Arva ära, mis jaotustega on tegu ning hinda ligikaudu ära nende parameetrid.\n",
        "\n",
        "Kõige lihtsam on jaotusi ära arvata kasutades kõige suuremaid andmefaile, aga proovi sellest hoolimata alustada kõigepealt väiksematest andmefailidest. Järgnevas on abiks pisut koodi, millega neid andmeid sisse lugeda ning klassikaliste jaotustega võrrelda."
      ]
    },
    {
      "cell_type": "markdown",
      "metadata": {
        "id": "GcyfstSI4QQS"
      },
      "source": [
        "Abifunktsioonid andmete failist sisse lugemiseks."
      ]
    },
    {
      "cell_type": "code",
      "execution_count": null,
      "metadata": {
        "id": "yvGy-NAqxHJa"
      },
      "outputs": [],
      "source": [
        "def discrete(i,s):\n",
        "    return(np.array(pd.read_csv('praktikum_3_andmed/d%i_%i.csv'%(i,s),header=None)[0]))\n",
        "\n",
        "def cont(i,s):\n",
        "    return(np.array(pd.read_csv('praktikum_3_andmed/c%i_%i.csv'%(i,s),header=None)[0]))"
      ]
    },
    {
      "cell_type": "markdown",
      "metadata": {
        "id": "m50pQb-9xHJf"
      },
      "source": [
        "Diskreetse jaotuse näitena loeme sisse andmed failist `d2_10.csv` ja võrdleme neid zeta jaotusega."
      ]
    },
    {
      "cell_type": "code",
      "execution_count": null,
      "metadata": {
        "id": "s2ssJ1ANxHJg"
      },
      "outputs": [],
      "source": [
        "andmed = discrete(2, 10)\n",
        "jaotus = zipf(a=1.7)\n",
        "võrdlev_joonis_diskreetne(andmed, jaotus)"
      ]
    },
    {
      "cell_type": "markdown",
      "source": [
        "Pideva jaotuse näitena loeme sisse andmed failist `c6_1000.csv` ja võrdleme neid normaaljaotusega."
      ],
      "metadata": {
        "id": "HDE07a5xpOKx"
      }
    },
    {
      "cell_type": "code",
      "source": [
        "andmed = cont(6, 1000)\n",
        "jaotus = norm(loc=1.5, scale=0.5)\n",
        "võrdlev_joonis_pidev(andmed, jaotus)"
      ],
      "metadata": {
        "id": "iVgemRASpzk-"
      },
      "execution_count": null,
      "outputs": []
    },
    {
      "cell_type": "markdown",
      "metadata": {
        "id": "tGFqNQt0xHJk"
      },
      "source": [
        "VASTUS\n",
        "\n",
        "Diskreetsed jaotused:\n",
        "* D1 on ...\n",
        "* D2 on ...\n",
        "* D3 on ...\n",
        "* D4 on ...\n",
        "* D5 on ...\n",
        "* D6 on ...\n",
        "* D7 on ...\n",
        "\n",
        "Pidevad jaotused:\n",
        "* C1 on ...\n",
        "* C2 on ...\n",
        "* C3 on ...\n",
        "* C4 on ...\n",
        "* C5 on ...\n",
        "* C6 on ...\n",
        "* C7 on ..."
      ]
    },
    {
      "cell_type": "markdown",
      "metadata": {
        "id": "B1Zxki354QQT"
      },
      "source": [
        "# Ülesanne 2 - andmete genereerimisprotsessi äratundmine\n",
        "\n",
        "Ilma andmeid reaalselt genereerimata arva ära, mis klassikaliste tõenäosusjaotuste perekonda allpool kirjeldatud jaotused võiks kuuluda."
      ]
    },
    {
      "cell_type": "markdown",
      "metadata": {
        "id": "PpAXwr674QQU"
      },
      "source": [
        "(a) Genereeri palju andmestikke ühtlasest pidevast jaotusest vahemikus [0,1], igas andmestikus 10 andmepunkti."
      ]
    },
    {
      "cell_type": "code",
      "execution_count": null,
      "metadata": {
        "id": "Skqwnpzk4QQU"
      },
      "outputs": [],
      "source": [
        "rng = np.random.default_rng(0)\n",
        "ühtlased_andmestikud = [\n",
        "    uniform.rvs(size=10)\n",
        "    for _ in range(1000)\n",
        "]"
      ]
    },
    {
      "cell_type": "markdown",
      "metadata": {
        "id": "BMQjn4o94QQU"
      },
      "source": [
        "(a1) Võta igast andmestikust suuruselt kolmas väärtus (ehk väiksuselt kaheksas). Mis jaotuse need väärtused moodustavad?"
      ]
    },
    {
      "cell_type": "code",
      "source": [
        "kolmandad = [\n",
        "    sorted(andmestik)[7]\n",
        "    for andmestik in ühtlased_andmestikud\n",
        "]\n",
        "jaotus = ...\n",
        "võrdlev_joonis_pidev(kolmandad, jaotus)"
      ],
      "metadata": {
        "id": "wDwm56ZGvteh"
      },
      "execution_count": null,
      "outputs": []
    },
    {
      "cell_type": "markdown",
      "metadata": {
        "id": "C2eD2Idh4QQU"
      },
      "source": [
        "(a2) Loe kokku vahemikku [0.1,0.9] jäävate punktide arv igas andmestikus. Mis jaotuse need punktide arvud moodustavad?"
      ]
    },
    {
      "cell_type": "code",
      "source": [
        "jääb_vahemikku = [\n",
        "    np.sum(np.logical_and(andmestik >= 0.1, andmestik <= 0.9))\n",
        "    for andmestik in ühtlased_andmestikud\n",
        "]\n",
        "jaotus = ...\n",
        "võrdlev_joonis_diskreetne(jääb_vahemikku, jaotus)"
      ],
      "metadata": {
        "id": "Bov6q1qtwfY7"
      },
      "execution_count": null,
      "outputs": []
    },
    {
      "cell_type": "markdown",
      "metadata": {
        "id": "zSVzAtYD4QQV"
      },
      "source": [
        "(b) Genereeri palju järjestatud andmestikke (järjendeid) 1000-st elemendist, kus iga element on jaotusega Bernoulli(0.1)"
      ]
    },
    {
      "cell_type": "code",
      "execution_count": null,
      "metadata": {
        "id": "yfhK3dQO4QQV"
      },
      "outputs": [],
      "source": [
        "bernoulli_andmestikud = [\n",
        "    bernoulli.rvs(size = 1000, p = 0.1)\n",
        "    for _ in range(10000)\n",
        "]"
      ]
    },
    {
      "cell_type": "markdown",
      "metadata": {
        "id": "TMl-56jG4QQV"
      },
      "source": [
        "(b1) Liida igas andmestikus kõik arvud kokku. Ligikaudu mis jaotusega on saadud summad?"
      ]
    },
    {
      "cell_type": "code",
      "source": [
        "summad = [np.sum(andmestik) for andmestik in bernoulli_andmestikud]\n",
        "jaotus = ...\n",
        "võrdlev_joonis_diskreetne(summad, jaotus)"
      ],
      "metadata": {
        "id": "2U9RDSmBxF0G"
      },
      "execution_count": null,
      "outputs": []
    },
    {
      "cell_type": "markdown",
      "metadata": {
        "id": "AdWtEoPi4QQV"
      },
      "source": [
        "(b2) Igas andmestikus loe kokku mitme nulliga see algab. Mis jaotusega on nende nullide arvud?"
      ]
    },
    {
      "cell_type": "code",
      "source": [
        "mitunulli = np.zeros(len(bernoulli_andmestikud), dtype=int)\n",
        "\n",
        "for i in range(len(bernoulli_andmestikud)):\n",
        "    andmestik = bernoulli_andmestikud[i]\n",
        "\n",
        "    for j in range(len(andmestik)):\n",
        "        if andmestik[j] == 1:\n",
        "            mitunulli[i] = j\n",
        "            break\n",
        "\n",
        "jaotus = ...\n",
        "võrdlev_joonis_diskreetne(mitunulli, jaotus)"
      ],
      "metadata": {
        "id": "TR_YjtbHx_Xk"
      },
      "execution_count": null,
      "outputs": []
    },
    {
      "cell_type": "markdown",
      "metadata": {
        "id": "1fE2SI_94QQW"
      },
      "source": [
        "(b3) Igas andmestikus loe kokku mitu nulli on enne kui tuleb kolmas 1. Mis jaotusega on nende nullide arvud?"
      ]
    },
    {
      "cell_type": "markdown",
      "metadata": {
        "id": "VQzhIYRn4QQW"
      },
      "source": [
        "(c) Genereeri 10000 andmepunkti ühtlasest pidevast jaotusest vahemikus [0,1]."
      ]
    },
    {
      "cell_type": "markdown",
      "metadata": {
        "id": "b4OkA09X4QQW"
      },
      "source": [
        "(c1) Arvuta naaberpunktide (sorteeritud andmestikus järjestikuste punktide) vahelised kaugused. Ligikaudu mis jaotusega need kaugused on?"
      ]
    },
    {
      "cell_type": "markdown",
      "metadata": {
        "id": "Ji3wzOYn4QQW"
      },
      "source": [
        "(c2) Arvuta üksteisest 10 andmepunkti kaugusel olevate punktide vahelised kaugused. Ligikaudu mis jaotusega need kaugused on?"
      ]
    },
    {
      "cell_type": "markdown",
      "metadata": {
        "id": "ZOw2_KKF4QQW"
      },
      "source": [
        "(d) Genereeri palju andmestikke ühtlasest pidevast jaotusest vahemikus [0,1], igas andmestikus 10000 andmepunkti. Igas andmestikus loe kokku vahemikku [0.123, 0.124] jäävate punktide arv. Ligikaudu mis jaotusega nende punktide arv on?"
      ]
    },
    {
      "cell_type": "markdown",
      "source": [
        "(e) Genereeri palju andmestikke ühtlasest pidevast jaotusest vahemikus [0.9, 1.1], igas andmestikus 100 andmepunkti. Leia iga andmestiku andmepunktide korrutis. Mis jaotuse need korrutised moodustavad?"
      ],
      "metadata": {
        "id": "NZrstUvY2Rcl"
      }
    }
  ],
  "metadata": {
    "colab": {
      "provenance": []
    },
    "kernelspec": {
      "display_name": "Python 3 (ipykernel)",
      "language": "python",
      "name": "python3"
    },
    "language_info": {
      "codemirror_mode": {
        "name": "ipython",
        "version": 3
      },
      "file_extension": ".py",
      "mimetype": "text/x-python",
      "name": "python",
      "nbconvert_exporter": "python",
      "pygments_lexer": "ipython3",
      "version": "3.11.4"
    }
  },
  "nbformat": 4,
  "nbformat_minor": 0
}