{
  "cells": [
    {
      "cell_type": "markdown",
      "metadata": {
        "id": "NGkqogbMJXF9"
      },
      "source": [
        "# LTAT.02.006 Andmeteaduse meetodid\n",
        "\n",
        "## 5. praktikum - Mudelite võrdlemine, liiklusõnnetuste jaotuse analüüs\n"
      ]
    },
    {
      "cell_type": "markdown",
      "metadata": {
        "id": "FewtDBJpJXGX"
      },
      "source": [
        "Praktikumi eesmärk on uurida, kas liiklusõnnetuste jaotus on nädalapäevade lõikes ühtlane või mitte. Kui ei ole ühtlane, siis tuleks sobitada treeningandmetel kasvava keerukusega mudeleid ning leida valideerimisandmete järgi sobiv keerukusaste. Seejuures võiks nii treeningandmeid, valideerimisandmeid kui testandmeid olla kõiki umbes 3 aasta jagu. Lõpuks tuleks sobitada leitud keerukusega mudel kogu andmestikule ning teha järeldused liiklusõnnetuste jaotuse kohta nädalapäevade lõikes.\n",
        "\n",
        "All on toodud kood, mis on õige pisut muudetud versioon loengu slaidide joonistamise koodist. Kontrolliks võiks vaadata, et aasta 2016 jaotus klapiks sellega, mis on toodud selles [Postimehe artiklis](https://www.postimees.ee/4054657/graafik-eesti-liikluse-koige-eluohtlikum-paev-ei-olegi-nadalavahetusel).\n"
      ]
    },
    {
      "cell_type": "code",
      "execution_count": 1,
      "metadata": {
        "id": "uEeiKdorJXH9"
      },
      "outputs": [],
      "source": [
        "import numpy as np\n",
        "import pandas as pd\n",
        "import matplotlib.pyplot as plt\n",
        "import datetime\n",
        "import scipy.stats"
      ]
    },
    {
      "cell_type": "code",
      "execution_count": 2,
      "metadata": {
        "id": "XOSCHbYIJXIR",
        "scrolled": true
      },
      "outputs": [
        {
          "data": {
            "text/html": [
              "<div>\n",
              "<style scoped>\n",
              "    .dataframe tbody tr th:only-of-type {\n",
              "        vertical-align: middle;\n",
              "    }\n",
              "\n",
              "    .dataframe tbody tr th {\n",
              "        vertical-align: top;\n",
              "    }\n",
              "\n",
              "    .dataframe thead th {\n",
              "        text-align: right;\n",
              "    }\n",
              "</style>\n",
              "<table border=\"1\" class=\"dataframe\">\n",
              "  <thead>\n",
              "    <tr style=\"text-align: right;\">\n",
              "      <th></th>\n",
              "      <th>Juhtumi nr</th>\n",
              "      <th>Kuupäev</th>\n",
              "      <th>Sõidukeid</th>\n",
              "      <th>Isikuid</th>\n",
              "      <th>Hukkunuid</th>\n",
              "      <th>Vigastatuid</th>\n",
              "      <th>Maakond</th>\n",
              "      <th>Omavalitsus</th>\n",
              "      <th>Asustus</th>\n",
              "      <th>Bussi osalusel</th>\n",
              "      <th>...</th>\n",
              "      <th>Tee element [2]</th>\n",
              "      <th>Tee rajatis [1]</th>\n",
              "      <th>Tee rajatis [2]</th>\n",
              "      <th>Tee kurvilisus</th>\n",
              "      <th>Tee mägisus</th>\n",
              "      <th>Teekate</th>\n",
              "      <th>Teekatte seisund [1]</th>\n",
              "      <th>Teekatte seisund [2]</th>\n",
              "      <th>Tüüpskeem [1]</th>\n",
              "      <th>Tüüpskeem [2]</th>\n",
              "    </tr>\n",
              "  </thead>\n",
              "  <tbody>\n",
              "    <tr>\n",
              "      <th>0</th>\n",
              "      <td>3100190034687</td>\n",
              "      <td>19.01.2019</td>\n",
              "      <td>2</td>\n",
              "      <td>2</td>\n",
              "      <td>0</td>\n",
              "      <td>1</td>\n",
              "      <td>Viljandi maakond</td>\n",
              "      <td>Viljandi linn</td>\n",
              "      <td>Märkimata</td>\n",
              "      <td>0</td>\n",
              "      <td>...</td>\n",
              "      <td>T-kujuline ristmik</td>\n",
              "      <td>Ristmik</td>\n",
              "      <td>Reguleerimata ristmik - liiklusmärkidega</td>\n",
              "      <td>Sirge tee</td>\n",
              "      <td>Kerge langus</td>\n",
              "      <td>Püsikate</td>\n",
              "      <td>Jäised olud</td>\n",
              "      <td>Töödeldud pinnaga jäätunud kate</td>\n",
              "      <td>Muu liiklusõnnetus</td>\n",
              "      <td>Muu liikluskonflikt.</td>\n",
              "    </tr>\n",
              "    <tr>\n",
              "      <th>1</th>\n",
              "      <td>2602110032835</td>\n",
              "      <td>02.04.2011</td>\n",
              "      <td>1</td>\n",
              "      <td>1</td>\n",
              "      <td>0</td>\n",
              "      <td>1</td>\n",
              "      <td>Märkimata</td>\n",
              "      <td>Märkimata</td>\n",
              "      <td>Märkimata</td>\n",
              "      <td>0</td>\n",
              "      <td>...</td>\n",
              "      <td>Erielemendita teelõik</td>\n",
              "      <td>Rajatis puudub</td>\n",
              "      <td>Rajatis puudub</td>\n",
              "      <td>Sirge tee</td>\n",
              "      <td>Tasane tee</td>\n",
              "      <td>Püsikate</td>\n",
              "      <td>Märg</td>\n",
              "      <td>Märg</td>\n",
              "      <td>Ühesõidukiõnnetus</td>\n",
              "      <td>Sõiduk kaotab teelõigul või ristmikul juhitavu...</td>\n",
              "    </tr>\n",
              "    <tr>\n",
              "      <th>2</th>\n",
              "      <td>3100190336196</td>\n",
              "      <td>17.06.2019</td>\n",
              "      <td>1</td>\n",
              "      <td>1</td>\n",
              "      <td>0</td>\n",
              "      <td>1</td>\n",
              "      <td>Järva maakond</td>\n",
              "      <td>Paide linn</td>\n",
              "      <td>Märkimata</td>\n",
              "      <td>0</td>\n",
              "      <td>...</td>\n",
              "      <td>Erielemendita teelõik</td>\n",
              "      <td>Rajatis puudub</td>\n",
              "      <td>Rajatis puudub</td>\n",
              "      <td>Sirge tee</td>\n",
              "      <td>Tasane tee</td>\n",
              "      <td>Püsikate</td>\n",
              "      <td>Kuiv</td>\n",
              "      <td>Kuiv</td>\n",
              "      <td>Ühesõidukiõnnetus</td>\n",
              "      <td>Sõiduk kaotab teelõigul või ristmikul juhitavu...</td>\n",
              "    </tr>\n",
              "    <tr>\n",
              "      <th>3</th>\n",
              "      <td>3130160036397</td>\n",
              "      <td>23.05.2016</td>\n",
              "      <td>1</td>\n",
              "      <td>2</td>\n",
              "      <td>0</td>\n",
              "      <td>1</td>\n",
              "      <td>Harju maakond</td>\n",
              "      <td>Tallinn</td>\n",
              "      <td>Kristiine linnaosa</td>\n",
              "      <td>0</td>\n",
              "      <td>...</td>\n",
              "      <td>T-kujuline ristmik</td>\n",
              "      <td>Rajatis puudub</td>\n",
              "      <td>Rajatis puudub</td>\n",
              "      <td>Sirge tee</td>\n",
              "      <td>Tasane tee</td>\n",
              "      <td>Püsikate</td>\n",
              "      <td>Kuiv</td>\n",
              "      <td>Kuiv</td>\n",
              "      <td>Sõiduki konflikt jalakäijaga</td>\n",
              "      <td>Tagurdava sõiduki konflikt jalakäijaga.</td>\n",
              "    </tr>\n",
              "    <tr>\n",
              "      <th>4</th>\n",
              "      <td>3100130095584</td>\n",
              "      <td>25.09.2013</td>\n",
              "      <td>1</td>\n",
              "      <td>2</td>\n",
              "      <td>0</td>\n",
              "      <td>1</td>\n",
              "      <td>Harju maakond</td>\n",
              "      <td>Tallinn</td>\n",
              "      <td>Põhja-Tallinna linnaosa</td>\n",
              "      <td>0</td>\n",
              "      <td>...</td>\n",
              "      <td>Erielemendita teelõik</td>\n",
              "      <td>Rajatis puudub</td>\n",
              "      <td>Rajatis puudub</td>\n",
              "      <td>Sirge tee</td>\n",
              "      <td>Tasane tee</td>\n",
              "      <td>Püsikate</td>\n",
              "      <td>Kuiv</td>\n",
              "      <td>Kuiv</td>\n",
              "      <td>Sõiduki konflikt jalakäijaga</td>\n",
              "      <td>Sõiduki konflikt teise sõiduki või muu takistu...</td>\n",
              "    </tr>\n",
              "  </tbody>\n",
              "</table>\n",
              "<p>5 rows × 43 columns</p>\n",
              "</div>"
            ],
            "text/plain": [
              "      Juhtumi nr     Kuupäev  Sõidukeid  Isikuid  Hukkunuid  Vigastatuid  \\\n",
              "0  3100190034687  19.01.2019          2        2          0            1   \n",
              "1  2602110032835  02.04.2011          1        1          0            1   \n",
              "2  3100190336196  17.06.2019          1        1          0            1   \n",
              "3  3130160036397  23.05.2016          1        2          0            1   \n",
              "4  3100130095584  25.09.2013          1        2          0            1   \n",
              "\n",
              "            Maakond    Omavalitsus                  Asustus  Bussi osalusel  \\\n",
              "0  Viljandi maakond  Viljandi linn                Märkimata               0   \n",
              "1         Märkimata      Märkimata                Märkimata               0   \n",
              "2     Järva maakond     Paide linn                Märkimata               0   \n",
              "3     Harju maakond        Tallinn       Kristiine linnaosa               0   \n",
              "4     Harju maakond        Tallinn  Põhja-Tallinna linnaosa               0   \n",
              "\n",
              "   ...        Tee element [2]  Tee rajatis [1]  \\\n",
              "0  ...     T-kujuline ristmik          Ristmik   \n",
              "1  ...  Erielemendita teelõik   Rajatis puudub   \n",
              "2  ...  Erielemendita teelõik   Rajatis puudub   \n",
              "3  ...     T-kujuline ristmik   Rajatis puudub   \n",
              "4  ...  Erielemendita teelõik   Rajatis puudub   \n",
              "\n",
              "                            Tee rajatis [2]  Tee kurvilisus   Tee mägisus  \\\n",
              "0  Reguleerimata ristmik - liiklusmärkidega       Sirge tee  Kerge langus   \n",
              "1                            Rajatis puudub       Sirge tee    Tasane tee   \n",
              "2                            Rajatis puudub       Sirge tee    Tasane tee   \n",
              "3                            Rajatis puudub       Sirge tee    Tasane tee   \n",
              "4                            Rajatis puudub       Sirge tee    Tasane tee   \n",
              "\n",
              "    Teekate Teekatte seisund [1]             Teekatte seisund [2]  \\\n",
              "0  Püsikate          Jäised olud  Töödeldud pinnaga jäätunud kate   \n",
              "1  Püsikate                 Märg                             Märg   \n",
              "2  Püsikate                 Kuiv                             Kuiv   \n",
              "3  Püsikate                 Kuiv                             Kuiv   \n",
              "4  Püsikate                 Kuiv                             Kuiv   \n",
              "\n",
              "                  Tüüpskeem [1]  \\\n",
              "0            Muu liiklusõnnetus   \n",
              "1             Ühesõidukiõnnetus   \n",
              "2             Ühesõidukiõnnetus   \n",
              "3  Sõiduki konflikt jalakäijaga   \n",
              "4  Sõiduki konflikt jalakäijaga   \n",
              "\n",
              "                                       Tüüpskeem [2]  \n",
              "0                               Muu liikluskonflikt.  \n",
              "1  Sõiduk kaotab teelõigul või ristmikul juhitavu...  \n",
              "2  Sõiduk kaotab teelõigul või ristmikul juhitavu...  \n",
              "3            Tagurdava sõiduki konflikt jalakäijaga.  \n",
              "4  Sõiduki konflikt teise sõiduki või muu takistu...  \n",
              "\n",
              "[5 rows x 43 columns]"
            ]
          },
          "execution_count": 2,
          "metadata": {},
          "output_type": "execute_result"
        }
      ],
      "source": [
        "d = pd.read_csv('Inimkannatanutega_liiklusonnetused.csv',sep=';')\n",
        "d.head()"
      ]
    },
    {
      "cell_type": "markdown",
      "metadata": {
        "id": "7uU9s1fF-Xms"
      },
      "source": [
        "Järjestame andmed juhuslikult.\n"
      ]
    },
    {
      "cell_type": "code",
      "execution_count": 3,
      "metadata": {
        "id": "tJauo3FkJXIg"
      },
      "outputs": [],
      "source": [
        "rng = np.random.default_rng(5)\n",
        "d['juhus'] = np.random.uniform(len(d))\n",
        "d = d.sort_values('juhus')"
      ]
    },
    {
      "cell_type": "markdown",
      "metadata": {
        "id": "9w5Eojd5JXIn"
      },
      "source": [
        "### Andmete täiendamine ja uurimine\n"
      ]
    },
    {
      "cell_type": "markdown",
      "metadata": {
        "id": "iJcsUaBcJXIp"
      },
      "source": [
        "1. Lisage andmetele juurde veerud 'nädalapäev', 'aasta' ja 'kuu'.\n"
      ]
    },
    {
      "cell_type": "code",
      "execution_count": 4,
      "metadata": {
        "id": "ST5KGg5sGw3Z"
      },
      "outputs": [],
      "source": [
        "d['nädalapäev'] = [datetime.datetime.strptime(x, '%d.%m.%Y').weekday() for x in d['Kuupäev']]\n",
        "d['aasta'] = [datetime.datetime.strptime(x, '%d.%m.%Y').year for x in d['Kuupäev']]\n",
        "d['kuu'] = [datetime.datetime.strptime(x, '%d.%m.%Y').month for x in d['Kuupäev']]"
      ]
    },
    {
      "cell_type": "code",
      "execution_count": 8,
      "metadata": {},
      "outputs": [
        {
          "data": {
            "text/html": [
              "<div>\n",
              "<style scoped>\n",
              "    .dataframe tbody tr th:only-of-type {\n",
              "        vertical-align: middle;\n",
              "    }\n",
              "\n",
              "    .dataframe tbody tr th {\n",
              "        vertical-align: top;\n",
              "    }\n",
              "\n",
              "    .dataframe thead th {\n",
              "        text-align: right;\n",
              "    }\n",
              "</style>\n",
              "<table border=\"1\" class=\"dataframe\">\n",
              "  <thead>\n",
              "    <tr style=\"text-align: right;\">\n",
              "      <th></th>\n",
              "      <th>Juhtumi nr</th>\n",
              "      <th>Kuupäev</th>\n",
              "      <th>Sõidukeid</th>\n",
              "      <th>Isikuid</th>\n",
              "      <th>Hukkunuid</th>\n",
              "      <th>Vigastatuid</th>\n",
              "      <th>Maakond</th>\n",
              "      <th>Omavalitsus</th>\n",
              "      <th>Asustus</th>\n",
              "      <th>Bussi osalusel</th>\n",
              "      <th>...</th>\n",
              "      <th>Tee mägisus</th>\n",
              "      <th>Teekate</th>\n",
              "      <th>Teekatte seisund [1]</th>\n",
              "      <th>Teekatte seisund [2]</th>\n",
              "      <th>Tüüpskeem [1]</th>\n",
              "      <th>Tüüpskeem [2]</th>\n",
              "      <th>juhus</th>\n",
              "      <th>nädalapäev</th>\n",
              "      <th>aasta</th>\n",
              "      <th>kuu</th>\n",
              "    </tr>\n",
              "  </thead>\n",
              "  <tbody>\n",
              "    <tr>\n",
              "      <th>0</th>\n",
              "      <td>3100190034687</td>\n",
              "      <td>19.01.2019</td>\n",
              "      <td>2</td>\n",
              "      <td>2</td>\n",
              "      <td>0</td>\n",
              "      <td>1</td>\n",
              "      <td>Viljandi maakond</td>\n",
              "      <td>Viljandi linn</td>\n",
              "      <td>Märkimata</td>\n",
              "      <td>0</td>\n",
              "      <td>...</td>\n",
              "      <td>Kerge langus</td>\n",
              "      <td>Püsikate</td>\n",
              "      <td>Jäised olud</td>\n",
              "      <td>Töödeldud pinnaga jäätunud kate</td>\n",
              "      <td>Muu liiklusõnnetus</td>\n",
              "      <td>Muu liikluskonflikt.</td>\n",
              "      <td>9911.419398</td>\n",
              "      <td>5</td>\n",
              "      <td>2019</td>\n",
              "      <td>1</td>\n",
              "    </tr>\n",
              "    <tr>\n",
              "      <th>8458</th>\n",
              "      <td>2502120082816</td>\n",
              "      <td>29.09.2012</td>\n",
              "      <td>1</td>\n",
              "      <td>1</td>\n",
              "      <td>0</td>\n",
              "      <td>1</td>\n",
              "      <td>Saare maakond</td>\n",
              "      <td>Leisi vald</td>\n",
              "      <td>Märkimata</td>\n",
              "      <td>0</td>\n",
              "      <td>...</td>\n",
              "      <td>Tasane tee</td>\n",
              "      <td>Kruusatee</td>\n",
              "      <td>Märg</td>\n",
              "      <td>Märg</td>\n",
              "      <td>Ühesõidukiõnnetus</td>\n",
              "      <td>Sõiduk kaotab teelõigul või ristmikul juhitavu...</td>\n",
              "      <td>9911.419398</td>\n",
              "      <td>5</td>\n",
              "      <td>2012</td>\n",
              "      <td>9</td>\n",
              "    </tr>\n",
              "    <tr>\n",
              "      <th>8459</th>\n",
              "      <td>3100190735920</td>\n",
              "      <td>19.12.2019</td>\n",
              "      <td>1</td>\n",
              "      <td>2</td>\n",
              "      <td>0</td>\n",
              "      <td>1</td>\n",
              "      <td>Ida-Viru maakond</td>\n",
              "      <td>Kohtla-Järve linn</td>\n",
              "      <td>Järve linnaosa</td>\n",
              "      <td>0</td>\n",
              "      <td>...</td>\n",
              "      <td>Tasane tee</td>\n",
              "      <td>Püsikate</td>\n",
              "      <td>Kuiv</td>\n",
              "      <td>Kuiv</td>\n",
              "      <td>Sõiduki konflikt jalakäijaga</td>\n",
              "      <td>Sõiduki konflikt teelõiku paremalt poolt ületa...</td>\n",
              "      <td>9911.419398</td>\n",
              "      <td>3</td>\n",
              "      <td>2019</td>\n",
              "      <td>12</td>\n",
              "    </tr>\n",
              "    <tr>\n",
              "      <th>8460</th>\n",
              "      <td>3130150084483</td>\n",
              "      <td>02.12.2015</td>\n",
              "      <td>1</td>\n",
              "      <td>2</td>\n",
              "      <td>0</td>\n",
              "      <td>2</td>\n",
              "      <td>Harju maakond</td>\n",
              "      <td>Anija vald</td>\n",
              "      <td>Märkimata</td>\n",
              "      <td>0</td>\n",
              "      <td>...</td>\n",
              "      <td>Tasane tee</td>\n",
              "      <td>Püsikate</td>\n",
              "      <td>Märg</td>\n",
              "      <td>Märg</td>\n",
              "      <td>Ühesõidukiõnnetus</td>\n",
              "      <td>Sõiduk kaotab teelõigul või ristmikul juhitavu...</td>\n",
              "      <td>9911.419398</td>\n",
              "      <td>2</td>\n",
              "      <td>2015</td>\n",
              "      <td>12</td>\n",
              "    </tr>\n",
              "    <tr>\n",
              "      <th>8461</th>\n",
              "      <td>3100130011328</td>\n",
              "      <td>31.03.2013</td>\n",
              "      <td>1</td>\n",
              "      <td>2</td>\n",
              "      <td>0</td>\n",
              "      <td>1</td>\n",
              "      <td>Harju maakond</td>\n",
              "      <td>Tallinn</td>\n",
              "      <td>Kesklinna linnaosa</td>\n",
              "      <td>0</td>\n",
              "      <td>...</td>\n",
              "      <td>Tasane tee</td>\n",
              "      <td>Püsikate</td>\n",
              "      <td>Märg</td>\n",
              "      <td>Märg</td>\n",
              "      <td>Sõiduki konflikt jalakäijaga</td>\n",
              "      <td>Ristmikule siseneva sõiduki konflikt paremalt ...</td>\n",
              "      <td>9911.419398</td>\n",
              "      <td>6</td>\n",
              "      <td>2013</td>\n",
              "      <td>3</td>\n",
              "    </tr>\n",
              "  </tbody>\n",
              "</table>\n",
              "<p>5 rows × 47 columns</p>\n",
              "</div>"
            ],
            "text/plain": [
              "         Juhtumi nr     Kuupäev  Sõidukeid  Isikuid  Hukkunuid  Vigastatuid  \\\n",
              "0     3100190034687  19.01.2019          2        2          0            1   \n",
              "8458  2502120082816  29.09.2012          1        1          0            1   \n",
              "8459  3100190735920  19.12.2019          1        2          0            1   \n",
              "8460  3130150084483  02.12.2015          1        2          0            2   \n",
              "8461  3100130011328  31.03.2013          1        2          0            1   \n",
              "\n",
              "               Maakond        Omavalitsus             Asustus  Bussi osalusel  \\\n",
              "0     Viljandi maakond      Viljandi linn           Märkimata               0   \n",
              "8458     Saare maakond         Leisi vald           Märkimata               0   \n",
              "8459  Ida-Viru maakond  Kohtla-Järve linn      Järve linnaosa               0   \n",
              "8460     Harju maakond         Anija vald           Märkimata               0   \n",
              "8461     Harju maakond            Tallinn  Kesklinna linnaosa               0   \n",
              "\n",
              "      ...   Tee mägisus    Teekate  Teekatte seisund [1]  \\\n",
              "0     ...  Kerge langus   Püsikate           Jäised olud   \n",
              "8458  ...    Tasane tee  Kruusatee                  Märg   \n",
              "8459  ...    Tasane tee   Püsikate                  Kuiv   \n",
              "8460  ...    Tasane tee   Püsikate                  Märg   \n",
              "8461  ...    Tasane tee   Püsikate                  Märg   \n",
              "\n",
              "                 Teekatte seisund [2]                 Tüüpskeem [1]  \\\n",
              "0     Töödeldud pinnaga jäätunud kate            Muu liiklusõnnetus   \n",
              "8458                             Märg             Ühesõidukiõnnetus   \n",
              "8459                             Kuiv  Sõiduki konflikt jalakäijaga   \n",
              "8460                             Märg             Ühesõidukiõnnetus   \n",
              "8461                             Märg  Sõiduki konflikt jalakäijaga   \n",
              "\n",
              "                                          Tüüpskeem [2]        juhus  \\\n",
              "0                                  Muu liikluskonflikt.  9911.419398   \n",
              "8458  Sõiduk kaotab teelõigul või ristmikul juhitavu...  9911.419398   \n",
              "8459  Sõiduki konflikt teelõiku paremalt poolt ületa...  9911.419398   \n",
              "8460  Sõiduk kaotab teelõigul või ristmikul juhitavu...  9911.419398   \n",
              "8461  Ristmikule siseneva sõiduki konflikt paremalt ...  9911.419398   \n",
              "\n",
              "     nädalapäev aasta kuu  \n",
              "0             5  2019   1  \n",
              "8458          5  2012   9  \n",
              "8459          3  2019  12  \n",
              "8460          2  2015  12  \n",
              "8461          6  2013   3  \n",
              "\n",
              "[5 rows x 47 columns]"
            ]
          },
          "execution_count": 8,
          "metadata": {},
          "output_type": "execute_result"
        }
      ],
      "source": [
        "d.head()"
      ]
    },
    {
      "cell_type": "markdown",
      "metadata": {
        "id": "URncAPhxJXIv"
      },
      "source": [
        "2. Joonistage tulpdiagramm, kuhu on iga aasta jaoks kantud toimunud liiklusõnnetuste arv vastaval aastal.\n"
      ]
    },
    {
      "cell_type": "code",
      "execution_count": 5,
      "metadata": {
        "id": "47R-QtdeHS8i"
      },
      "outputs": [],
      "source": [
        "aastakaupa = d.groupby('aasta')"
      ]
    },
    {
      "cell_type": "code",
      "execution_count": 6,
      "metadata": {},
      "outputs": [
        {
          "data": {
            "text/plain": [
              "aasta\n",
              "2011    1448\n",
              "2012    1357\n",
              "2013    1359\n",
              "2014    1405\n",
              "2015    1375\n",
              "2016    1463\n",
              "2017    1413\n",
              "2018    1474\n",
              "2019    1403\n",
              "dtype: int64"
            ]
          },
          "execution_count": 6,
          "metadata": {},
          "output_type": "execute_result"
        }
      ],
      "source": [
        "aastakaupa.size()"
      ]
    },
    {
      "cell_type": "code",
      "execution_count": 7,
      "metadata": {},
      "outputs": [],
      "source": [
        "aastakaupa = d[\"aasta\"].value_counts()"
      ]
    },
    {
      "cell_type": "code",
      "execution_count": 8,
      "metadata": {},
      "outputs": [
        {
          "data": {
            "text/plain": [
              "aasta\n",
              "2018    1474\n",
              "2016    1463\n",
              "2011    1448\n",
              "2017    1413\n",
              "2014    1405\n",
              "2019    1403\n",
              "2015    1375\n",
              "2013    1359\n",
              "2012    1357\n",
              "Name: count, dtype: int64"
            ]
          },
          "execution_count": 8,
          "metadata": {},
          "output_type": "execute_result"
        }
      ],
      "source": [
        "aastakaupa"
      ]
    },
    {
      "cell_type": "code",
      "execution_count": 9,
      "metadata": {
        "id": "rVklu7q0HnHG"
      },
      "outputs": [
        {
          "data": {
            "image/png": "[encoded data removed]",
            "text/plain": [
              "<Figure size 1000x300 with 1 Axes>"
            ]
          },
          "metadata": {},
          "output_type": "display_data"
        }
      ],
      "source": [
        "aastad = sorted(aastakaupa.index)\n",
        "plt.figure(figsize=(10,3))\n",
        "plt.bar(aastad, aastakaupa[aastad])\n",
        "plt.xticks(aastad)\n",
        "for a in aastad:\n",
        "    plt.text(a,aastakaupa[a],aastakaupa[a],horizontalalignment='center')\n",
        "plt.show()"
      ]
    },
    {
      "cell_type": "markdown",
      "metadata": {
        "id": "UkT3JFOcJXJO"
      },
      "source": [
        "3. Kandke horisontaalsele tulpdiagrammile nädalapäevade kaupa 2016. aastal toimunud õnnetuste sagedused. _Vihje:_ Uurige matplotlibi `barh` käsklust.\n"
      ]
    },
    {
      "cell_type": "code",
      "execution_count": 15,
      "metadata": {
        "id": "iQif66Z_LPMB"
      },
      "outputs": [],
      "source": [
        "päevanimed = np.array(['E','T','K','N','R','L','P'])\n",
        "#sagedused_2016 = d[d['aasta'] == 2016].groupby('nädalapäev').size()\n",
        "sagedused_2016 = pd.Series(päevanimed[d.loc[d['aasta'] == 2016, 'nädalapäev']]).value_counts()"
      ]
    },
    {
      "cell_type": "code",
      "execution_count": 16,
      "metadata": {
        "id": "5zff6lsuecq3"
      },
      "outputs": [
        {
          "data": {
            "text/plain": [
              "T    225\n",
              "E    221\n",
              "R    221\n",
              "K    210\n",
              "L    200\n",
              "N    196\n",
              "P    190\n",
              "Name: count, dtype: int64"
            ]
          },
          "execution_count": 16,
          "metadata": {},
          "output_type": "execute_result"
        }
      ],
      "source": [
        "sagedused_2016"
      ]
    },
    {
      "cell_type": "code",
      "execution_count": 17,
      "metadata": {
        "id": "RIQkohxsNXd1"
      },
      "outputs": [
        {
          "data": {
            "image/png": "[encoded data removed]",
            "text/plain": [
              "<Figure size 640x480 with 1 Axes>"
            ]
          },
          "metadata": {},
          "output_type": "display_data"
        }
      ],
      "source": [
        "päevad_tagurpidi = np.array(list(reversed(päevanimed)))\n",
        "plt.barh(päevad_tagurpidi,sagedused_2016[päevad_tagurpidi])\n",
        "for p in päevad_tagurpidi:\n",
        "    plt.text(sagedused_2016[p],p,sagedused_2016[p],verticalalignment='center')\n",
        "plt.show()"
      ]
    },
    {
      "cell_type": "markdown",
      "metadata": {
        "id": "C9fh9fREJXKG"
      },
      "source": [
        "### Treening-, test- ja valideerimisandmestiku eraldamine\n"
      ]
    },
    {
      "cell_type": "markdown",
      "metadata": {
        "id": "WTwSF0-1JXKm"
      },
      "source": [
        "4. Jagage andmestik kolmeks: treening-, test- ja valideerimisandmestikuks. Treening- ja valideerimisandmestikku jätke 2800 kirjet, testandmestikku kõik ülejäänud.\n",
        "\n",
        "Kas peaks andmed kuupäeva järgi ära sorteerima või jätma sorteerimata?\n"
      ]
    },
    {
      "cell_type": "code",
      "execution_count": 20,
      "metadata": {
        "id": "_pZ11rzYN6gK"
      },
      "outputs": [],
      "source": [
        "# oletame, et meil on uurimiseks antud umbes 2 aasta jagu andmeid\n",
        "n_treen = 2800\n",
        "d_treen = d[:n_treen]\n",
        "\n",
        "# ja hiljem lisame veel umbes 2 aasta jagu andmeid\n",
        "n_valid = 2800\n",
        "d_valid = d[n_treen:(n_treen+n_valid)]\n",
        "\n",
        "# ja lõpuks testime ülejäänud veel umbes 5 aasta jagu andmetel\n",
        "n_test = len(d)-n_treen-n_valid\n",
        "d_test = d[(n_treen+n_valid):]"
      ]
    },
    {
      "cell_type": "markdown",
      "metadata": {
        "id": "AbpFnag7JXK3"
      },
      "source": [
        "5. Leidke treeningandmestikus iga liiklusõnnetuse toimumise sagedus igal nädalapäeval ja kandke tulemus tulpdiagrammile.\n"
      ]
    },
    {
      "cell_type": "code",
      "execution_count": null,
      "metadata": {
        "id": "IVzO3P-oN9z6"
      },
      "outputs": [
        {
          "data": {
            "text/plain": [
              "R    452\n",
              "L    442\n",
              "E    413\n",
              "N    397\n",
              "T    381\n",
              "K    369\n",
              "P    346\n",
              "Name: count, dtype: int64"
            ]
          },
          "execution_count": 22,
          "metadata": {},
          "output_type": "execute_result"
        }
      ],
      "source": [
        "sagedused = pd.Series(päevanimed[d_treen['nädalapäev']]).value_counts()\n",
        "sagedused"
      ]
    },
    {
      "cell_type": "code",
      "execution_count": null,
      "metadata": {
        "id": "3LCUyVkuOVWZ"
      },
      "outputs": [
        {
          "data": {
            "image/png": "[encoded data removed]",
            "text/plain": [
              "<Figure size 640x480 with 1 Axes>"
            ]
          },
          "metadata": {},
          "output_type": "display_data"
        }
      ],
      "source": [
        "plt.bar(päevanimed, sagedused[päevanimed])\n",
        "for p in päevanimed:\n",
        "    plt.text(p,sagedused[p],sagedused[p],horizontalalignment='center')\n",
        "plt.show()"
      ]
    },
    {
      "cell_type": "markdown",
      "metadata": {
        "id": "WQFjTVgrJXLI"
      },
      "source": [
        "### Lihtsaim mudel -- ühtlane jaotus\n"
      ]
    },
    {
      "cell_type": "markdown",
      "metadata": {
        "id": "9uU2gnqsJXLW"
      },
      "source": [
        "Nüüd on paras aeg alustada liiklusõnnetuste jaotuse modelleerimist. Selleks koostame nüüd mudeli, kus võtame eelduseks ühtlase jaotuse ja testime saadud mudeli usutavust.\n",
        "\n",
        "Küsimused enne lahendamist:\n",
        "\n",
        "-   Kuidas kasutada treening-, valideerimis- ja testandmestikke?\n",
        "-   Milline peaks olema usutav mudel ja kuidas me seda kontrollime?\n",
        "-   Kuidas toimub testimine, mille põhjal saab öelda, kas on usutav?\n"
      ]
    },
    {
      "cell_type": "markdown",
      "metadata": {
        "id": "zjM-970MJXLX"
      },
      "source": [
        "6. Looge treeningandmestiku põhjal ühtlase jaotuse mudel.\n"
      ]
    },
    {
      "cell_type": "code",
      "execution_count": 25,
      "metadata": {
        "id": "amzbTJVfObIb"
      },
      "outputs": [],
      "source": [
        "m1 = pd.Series(\n",
        "\tnp.repeat(1/7, 7),\n",
        "\tindex=päevanimed\n",
        ")"
      ]
    },
    {
      "cell_type": "markdown",
      "metadata": {
        "id": "ClHH0BCaJXLm"
      },
      "source": [
        "7. Nüüd saab asuda mudeli testimisele. Mõõdikuna kasutage loengus defineeritud mõõdikut $\\chi^2$, mis järgib ligikaudselt hii-ruut jaotust vabadusastmete arvuga 6. Leidke selle mõõdiku väärtus treeningandmetel.\n",
        "\n",
        "$$\\chi^2 = \\sum_{i=1}^{k}\\frac{(n\\cdot p_i - n_i)^2}{n\\cdot p_i}.$$\n"
      ]
    },
    {
      "cell_type": "code",
      "execution_count": 26,
      "metadata": {
        "id": "CQqraZhpOxRM"
      },
      "outputs": [
        {
          "data": {
            "text/plain": [
              "E    400.0\n",
              "T    400.0\n",
              "K    400.0\n",
              "N    400.0\n",
              "R    400.0\n",
              "L    400.0\n",
              "P    400.0\n",
              "dtype: float64"
            ]
          },
          "execution_count": 26,
          "metadata": {},
          "output_type": "execute_result"
        }
      ],
      "source": [
        "m1_oodatav = len(d_treen)*m1\n",
        "m1_oodatav"
      ]
    },
    {
      "cell_type": "code",
      "execution_count": null,
      "metadata": {
        "id": "ddjZOSmpPOvu"
      },
      "outputs": [
        {
          "data": {
            "text/plain": [
              "np.float64(22.209999999999997)"
            ]
          },
          "execution_count": 34,
          "metadata": {},
          "output_type": "execute_result"
        }
      ],
      "source": [
        "#m1_hiiruut = scipy.stats.chisquare(sagedused[päevanimed], m1_oodatav)\n",
        "\n",
        "m1_hiiruut = np.sum(\n",
        "\t(m1_oodatav - sagedused)**2 / m1_oodatav\n",
        ")\n",
        "\n",
        "m1_hiiruut"
      ]
    },
    {
      "cell_type": "markdown",
      "metadata": {
        "id": "MYX6jGnlJXMJ"
      },
      "source": [
        "8. Leidke selle mõõdiku järgi tegelike treeningandmete põhjal eksperimentaalne p-väärtus, kus nullhüpoteesiks on treeningandmetel leitud ühtlase jaotuse mudel. Selleks genereerige mudelist 10000 andmestikku, kus iga andmestik on sama suur treeningandmestik. Seejärel saate leida vaadeldava statistiku väärtuse iga katse korral. Joonistage eksperimentaalse statistiku väärtus ja teoreetiline hii-ruut jaotus samale graafikule.\n"
      ]
    },
    {
      "cell_type": "code",
      "execution_count": 35,
      "metadata": {
        "id": "wLC3euretPRV"
      },
      "outputs": [],
      "source": [
        "rng = np.random.default_rng(0)\n",
        "n_iter = 10000\n",
        "m1_hiiruudud = np.zeros(n_iter)\n",
        "for i in range(n_iter):\n",
        "    m1_andmed = np.random.choice(päevanimed, size=len(d_treen), p=m1)\n",
        "    m1_sagedused = pd.Series(m1_andmed).value_counts()\n",
        "    m1_hiiruudud[i] = np.sum(\n",
        "\t    (m1_oodatav - m1_sagedused)**2 / m1_oodatav\n",
        "    )"
      ]
    },
    {
      "cell_type": "code",
      "execution_count": 36,
      "metadata": {
        "colab": {
          "base_uri": "https://localhost:8080/"
        },
        "id": "xKd7mI_RtRxo",
        "outputId": "db40c823-70dd-4b55-f23e-fb68da4d0f64"
      },
      "outputs": [
        {
          "data": {
            "text/plain": [
              "np.float64(0.0006)"
            ]
          },
          "execution_count": 36,
          "metadata": {},
          "output_type": "execute_result"
        }
      ],
      "source": [
        "m1_experimentaalne_pväärtus = np.mean(m1_hiiruudud>=m1_hiiruut)\n",
        "m1_experimentaalne_pväärtus"
      ]
    },
    {
      "cell_type": "code",
      "execution_count": 37,
      "metadata": {
        "id": "QpL-siPetUck"
      },
      "outputs": [
        {
          "data": {
            "image/png": "[encoded data removed]",
            "text/plain": [
              "<Figure size 640x480 with 1 Axes>"
            ]
          },
          "metadata": {},
          "output_type": "display_data"
        }
      ],
      "source": [
        "plt.hist(m1_hiiruudud,bins=50,density=True)\n",
        "x_values = np.linspace(0,max(m1_hiiruudud),1000)\n",
        "# 7 nädalapäeva, seega hii-ruut jaotus 7-1=6 vabadusastmega\n",
        "plt.plot(x_values,scipy.stats.chi2(df=6).pdf(x_values),'-',color='red')\n",
        "plt.show()"
      ]
    },
    {
      "cell_type": "code",
      "execution_count": 39,
      "metadata": {
        "id": "87VY2LBmtMGc"
      },
      "outputs": [
        {
          "data": {
            "text/plain": [
              "Power_divergenceResult(statistic=np.float64(22.21), pvalue=np.float64(0.0011092083814879315))"
            ]
          },
          "execution_count": 39,
          "metadata": {},
          "output_type": "execute_result"
        }
      ],
      "source": [
        "# Sama tulemuse saab kui kasutada chisquare testi funktsiooni.\n",
        "scipy.stats.chisquare(sagedused)"
      ]
    },
    {
      "cell_type": "markdown",
      "metadata": {
        "id": "Unl-sZqpJXMa"
      },
      "source": [
        "### Keerulisemad mudelid\n"
      ]
    },
    {
      "cell_type": "markdown",
      "metadata": {
        "id": "vm9fgQ1gJXMw"
      },
      "source": [
        "Nagu ka loengust teada on, siis lihtne ühtlase jaotuse mudel ei sobi nendele andmetele. Koostame nüüd veel kuus tõenäosuslikku mudelit, kus igal järgmisel mudelil on üks lisaparameeter. Ehk kui esimesel mudelil oli kõigil nädalapäevadel sama tõenäosus liiklusõnnetuse esinemiseks, siis teisel mudelil on nädalapäevad jaotatud kaheks: ühtedel on üks tõenäosus, teistel teine. Kolmandas mudelis on nädalapäevad jaotatud kolme gruppi jne.\n"
      ]
    },
    {
      "cell_type": "markdown",
      "metadata": {
        "id": "OIvHucSrJXM8"
      },
      "source": [
        "9. Kõigepealt tuleks välja mõelda loogika, mille järgi me hakkame nädalapäevi gruppidesse jagama. Lähtume taaskord loengust: vaatame sagedusi nädalapäevade kaupa ja leiame, millise kahe järjestiku sageduse vahel on kõige suurem vahe. Sagedamad nädalapäevad langevad ühte gruppi, ülejäänud teise. Leidke, millised nädalapäevad langevad selle loogika alusel ühte, millised teise gruppi.\n"
      ]
    },
    {
      "cell_type": "code",
      "execution_count": 40,
      "metadata": {
        "colab": {
          "base_uri": "https://localhost:8080/",
          "height": 303
        },
        "id": "V8BxVq4ZtmaD",
        "outputId": "c65ce88d-af32-4fff-961c-7c7822638972"
      },
      "outputs": [
        {
          "data": {
            "text/plain": [
              "P    346\n",
              "K    369\n",
              "T    381\n",
              "N    397\n",
              "E    413\n",
              "L    442\n",
              "R    452\n",
              "Name: count, dtype: int64"
            ]
          },
          "execution_count": 40,
          "metadata": {},
          "output_type": "execute_result"
        }
      ],
      "source": [
        "sagedused_sort = sagedused.sort_values()\n",
        "sagedused_sort"
      ]
    },
    {
      "cell_type": "markdown",
      "metadata": {
        "id": "nXk_YHtjJXM9"
      },
      "source": [
        "10. Koostage nüüd uus tõenäosuslik mudel, kus gruppidesse langemise tõenäosused on vastavalt gruppide suurusele. Grupisiseselt on aga jaotus nädalapäevade vahel ühtlane.\n"
      ]
    },
    {
      "cell_type": "code",
      "execution_count": 46,
      "metadata": {
        "id": "Lsr8-QHctpQa"
      },
      "outputs": [
        {
          "name": "stdout",
          "output_type": "stream",
          "text": [
            "0.15785714285714286 0.14035714285714285\n"
          ]
        },
        {
          "data": {
            "text/plain": [
              "E    0.140357\n",
              "T    0.140357\n",
              "K    0.140357\n",
              "N    0.140357\n",
              "R    0.140357\n",
              "L    0.157857\n",
              "P    0.140357\n",
              "dtype: float64"
            ]
          },
          "execution_count": 46,
          "metadata": {},
          "output_type": "execute_result"
        }
      ],
      "source": [
        "g1 = np.mean(sagedused[\"L\"]) / sum(sagedused)\n",
        "g2 = np.mean(sagedused[[\"E\", \"T\", \"K\", \"N\", \"R\", \"P\"]]) / sum(sagedused)\n",
        "\n",
        "print(g1, g2)\n",
        "\n",
        "m2 = pd.Series(\n",
        "\t[g2, g2, g2, g2, g2, g1, g2],\n",
        "\tindex=päevanimed\n",
        ")\n",
        "m2"
      ]
    },
    {
      "cell_type": "markdown",
      "metadata": {
        "id": "ljs7cAE4JXM-"
      },
      "source": [
        "11. Analoogselt toimides koostage ülejäänud 5 mudelit. Leidke suuruselt järgmine hüpe liiklusõnnetuste toimumise sagedustes, seejärel koostage nädalapäevadest kolm gruppi ja koostage vastavalt gruppidele tõenäosuslik mudel. Seejärel samamoodi 4, 5, 6 ja 7 grupiga (kui 7 gruppi, siis iga nädalapäev on üksinda omas grupis).\n"
      ]
    },
    {
      "cell_type": "code",
      "execution_count": 47,
      "metadata": {
        "id": "nGWxwQok6RT7"
      },
      "outputs": [
        {
          "name": "stdout",
          "output_type": "stream",
          "text": [
            "0.15785714285714286 0.145625 0.12982142857142856\n"
          ]
        },
        {
          "data": {
            "text/plain": [
              "E    0.145625\n",
              "T    0.129821\n",
              "K    0.145625\n",
              "N    0.145625\n",
              "R    0.145625\n",
              "L    0.157857\n",
              "P    0.129821\n",
              "dtype: float64"
            ]
          },
          "execution_count": 47,
          "metadata": {},
          "output_type": "execute_result"
        }
      ],
      "source": [
        "g1 = np.mean(sagedused[\"L\"]) / sum(sagedused)\n",
        "g2 = np.mean(sagedused[[\"E\", \"K\", \"N\", \"R\"]]) / sum(sagedused)\n",
        "g3 = np.mean(sagedused[[\"T\", \"P\"]]) / sum(sagedused)\n",
        "\n",
        "print(g1, g2, g3)\n",
        "\n",
        "m3 = pd.Series(\n",
        "\t[g2, g3, g2, g2, g2, g1, g3],\n",
        "\tindex=päevanimed\n",
        ")\n",
        "m3"
      ]
    },
    {
      "cell_type": "code",
      "execution_count": null,
      "metadata": {
        "id": "YQEvTyVS6f8e"
      },
      "outputs": [
        {
          "data": {
            "text/plain": [
              "E    0.150238\n",
              "T    0.129821\n",
              "K    0.131786\n",
              "N    0.150238\n",
              "R    0.150238\n",
              "L    0.157857\n",
              "P    0.129821\n",
              "dtype: float64"
            ]
          },
          "execution_count": 48,
          "metadata": {},
          "output_type": "execute_result"
        }
      ],
      "source": [
        "g1 = np.mean(sagedused[\"L\"]) / sum(sagedused)\n",
        "g2 = np.mean(sagedused[[\"E\", \"N\", \"R\"]]) / sum(sagedused)\n",
        "g3 = np.mean(sagedused[[\"T\", \"P\"]]) / sum(sagedused)\n",
        "g4 = np.mean(sagedused[[\"K\"]]) / sum(sagedused)\n",
        "\n",
        "\n",
        "m4 = pd.Series(\n",
        "\t[g2, g3, g4, g2, g2, g1, g3],\n",
        "\tindex=päevanimed\n",
        ")\n",
        "m4"
      ]
    },
    {
      "cell_type": "code",
      "execution_count": 49,
      "metadata": {
        "id": "Borapz916eJU"
      },
      "outputs": [
        {
          "data": {
            "text/plain": [
              "E    0.144643\n",
              "T    0.129821\n",
              "K    0.131786\n",
              "N    0.144643\n",
              "R    0.161429\n",
              "L    0.157857\n",
              "P    0.129821\n",
              "dtype: float64"
            ]
          },
          "execution_count": 49,
          "metadata": {},
          "output_type": "execute_result"
        }
      ],
      "source": [
        "g1 = np.mean(sagedused[\"L\"]) / sum(sagedused)\n",
        "g2 = np.mean(sagedused[[\"E\", \"N\"]]) / sum(sagedused)\n",
        "g3 = np.mean(sagedused[[\"T\", \"P\"]]) / sum(sagedused)\n",
        "g4 = np.mean(sagedused[[\"K\"]]) / sum(sagedused)\n",
        "g5 = np.mean(sagedused[[\"R\"]]) / sum(sagedused)\n",
        "\n",
        "\n",
        "m5 = pd.Series(\n",
        "\t[g2, g3, g4, g2, g5, g1, g3],\n",
        "\tindex=päevanimed\n",
        ")\n",
        "m5"
      ]
    },
    {
      "cell_type": "code",
      "execution_count": 50,
      "metadata": {
        "id": "3m1DXOdI6iAL"
      },
      "outputs": [
        {
          "data": {
            "text/plain": [
              "E    0.144643\n",
              "T    0.136071\n",
              "K    0.131786\n",
              "N    0.144643\n",
              "R    0.161429\n",
              "L    0.157857\n",
              "P    0.123571\n",
              "dtype: float64"
            ]
          },
          "execution_count": 50,
          "metadata": {},
          "output_type": "execute_result"
        }
      ],
      "source": [
        "g1 = np.mean(sagedused[\"L\"]) / sum(sagedused)\n",
        "g2 = np.mean(sagedused[[\"E\", \"N\"]]) / sum(sagedused)\n",
        "g3 = np.mean(sagedused[[\"T\"]]) / sum(sagedused)\n",
        "g4 = np.mean(sagedused[[\"K\"]]) / sum(sagedused)\n",
        "g5 = np.mean(sagedused[[\"R\"]]) / sum(sagedused)\n",
        "g5 = np.mean(sagedused[[\"R\"]]) / sum(sagedused)\n",
        "g6 = np.mean(sagedused[[\"P\"]]) / sum(sagedused)\n",
        "\n",
        "\n",
        "m6 = pd.Series(\n",
        "\t[g2, g3, g4, g2, g5, g1, g6],\n",
        "\tindex=päevanimed\n",
        ")\n",
        "\n",
        "m6"
      ]
    },
    {
      "cell_type": "code",
      "execution_count": 51,
      "metadata": {
        "id": "Cet8TZ6x6kDh"
      },
      "outputs": [
        {
          "data": {
            "text/plain": [
              "R    0.161429\n",
              "L    0.157857\n",
              "E    0.147500\n",
              "N    0.141786\n",
              "T    0.136071\n",
              "K    0.131786\n",
              "P    0.123571\n",
              "Name: count, dtype: float64"
            ]
          },
          "execution_count": 51,
          "metadata": {},
          "output_type": "execute_result"
        }
      ],
      "source": [
        "m7 = sagedused/sum(sagedused)\n",
        "m7"
      ]
    },
    {
      "cell_type": "code",
      "execution_count": 52,
      "metadata": {
        "id": "yPmC-wu26lvM"
      },
      "outputs": [],
      "source": [
        "mudelid = [m1,m2,m3,m4,m5,m6,m7]"
      ]
    },
    {
      "cell_type": "markdown",
      "metadata": {
        "id": "B4spxy2YJXNc"
      },
      "source": [
        "12. Leidke iga mudeli ennustuste ja tegelike treening-, valideerimis- ja testandmestike põhjal eelnevalt defineeritud hii-ruut jaotusega mõõdiku väärtus nii treening- kui valideerimisandmestiku jaoks. Kandke tulemused graafikule ning valige parim mudel. Kommenteerige mudelit ja tema usutavust testandmestiku põhjal.\n"
      ]
    },
    {
      "cell_type": "markdown",
      "metadata": {
        "id": "q7H89Mh17_l9"
      },
      "source": [
        "Leiame hii-ruut statistiku ja eukleidilise kauguse treeningandmestikul\n"
      ]
    },
    {
      "cell_type": "code",
      "execution_count": 53,
      "metadata": {
        "id": "mf5zG0C765-d"
      },
      "outputs": [],
      "source": [
        "mudelid_oodatav = [ m*n_treen for m in mudelid]"
      ]
    },
    {
      "cell_type": "code",
      "execution_count": 54,
      "metadata": {
        "id": "NaBqd09M6uJJ"
      },
      "outputs": [
        {
          "data": {
            "text/plain": [
              "[22.21,\n",
              " 17.368956743002546,\n",
              " 10.520690507254137,\n",
              " 5.4900781929515166,\n",
              " 2.0010562602951416,\n",
              " 0.3160493827160493,\n",
              " 0.0]"
            ]
          },
          "execution_count": 54,
          "metadata": {},
          "output_type": "execute_result"
        }
      ],
      "source": [
        "mudelid_kaugus = [sum(((sagedused-mudelid_oodatav[i])**2)/mudelid_oodatav[i]) for i in range(len(mudelid))]\n",
        "mudelid_kaugus"
      ]
    },
    {
      "cell_type": "markdown",
      "metadata": {
        "id": "5K2Jxvpj8Sv6"
      },
      "source": [
        "Leiame valideerimisandmestikul\n"
      ]
    },
    {
      "cell_type": "code",
      "execution_count": 55,
      "metadata": {
        "id": "0wdCIqdCvmvH"
      },
      "outputs": [],
      "source": [
        "mudelid_valid_oodatav = [ m*n_valid for m in mudelid]"
      ]
    },
    {
      "cell_type": "code",
      "execution_count": 56,
      "metadata": {
        "id": "k-e4clkS7o3d"
      },
      "outputs": [
        {
          "data": {
            "text/plain": [
              "R    455\n",
              "L    437\n",
              "E    408\n",
              "K    404\n",
              "N    389\n",
              "T    388\n",
              "P    319\n",
              "Name: count, dtype: int64"
            ]
          },
          "execution_count": 56,
          "metadata": {},
          "output_type": "execute_result"
        }
      ],
      "source": [
        "valid_sagedused = pd.Series(päevanimed[d_valid['nädalapäev']]).value_counts()\n",
        "valid_sagedused"
      ]
    },
    {
      "cell_type": "code",
      "execution_count": 59,
      "metadata": {
        "id": "wiT7LNB179Xy"
      },
      "outputs": [
        {
          "data": {
            "text/plain": [
              "[28.25,\n",
              " 24.75630663304664,\n",
              " 13.527762541270269,\n",
              " 16.04273483002194,\n",
              " 11.149613914811026,\n",
              " 6.286122115953418,\n",
              " 5.8535428839605]"
            ]
          },
          "execution_count": 59,
          "metadata": {},
          "output_type": "execute_result"
        }
      ],
      "source": [
        "mudelid_valid_kaugus = [\n",
        "\tsum(((valid_sagedused - mudelid_valid_oodatav[i])**2)/mudelid_valid_oodatav[i]) for i in range(len(mudelid))\n",
        "]\n",
        "mudelid_valid_kaugus"
      ]
    },
    {
      "cell_type": "code",
      "execution_count": 60,
      "metadata": {
        "id": "x903c1Ru8ahH"
      },
      "outputs": [
        {
          "data": {
            "image/png": "[encoded data removed]",
            "text/plain": [
              "<Figure size 640x480 with 1 Axes>"
            ]
          },
          "metadata": {},
          "output_type": "display_data"
        }
      ],
      "source": [
        "plt.plot(['M%i'%i for i in range(1,8)],mudelid_valid_kaugus,'-',label='X^2 valideerimisandmetel')\n",
        "plt.plot(['M%i'%i for i in range(1,8)],mudelid_kaugus,'-.',label='X^2 treeningandmetel')\n",
        "plt.legend()\n",
        "plt.show()"
      ]
    },
    {
      "cell_type": "markdown",
      "metadata": {
        "id": "Ywe-ZaJs8e5c"
      },
      "source": [
        "Leiame testandmestikul\n"
      ]
    },
    {
      "cell_type": "code",
      "execution_count": 61,
      "metadata": {
        "id": "E7ZZt77CwCQv"
      },
      "outputs": [],
      "source": [
        "mudelid_test_oodatav = [ m*n_test for m in mudelid]"
      ]
    },
    {
      "cell_type": "code",
      "execution_count": 62,
      "metadata": {
        "id": "Kw9chUQC8goj"
      },
      "outputs": [
        {
          "data": {
            "text/plain": [
              "L    1126\n",
              "R    1093\n",
              "E    1015\n",
              "K    1011\n",
              "N    1009\n",
              "T     940\n",
              "P     903\n",
              "Name: count, dtype: int64"
            ]
          },
          "execution_count": 62,
          "metadata": {},
          "output_type": "execute_result"
        }
      ],
      "source": [
        "test_sagedused = pd.Series(päevanimed[d_test['nädalapäev']]).value_counts()\n",
        "test_sagedused"
      ]
    },
    {
      "cell_type": "code",
      "execution_count": 63,
      "metadata": {
        "id": "wK3S8rHw8mWX"
      },
      "outputs": [
        {
          "data": {
            "text/plain": [
              "[36.116387205861635,\n",
              " 22.06471981934087,\n",
              " 5.599158873452153,\n",
              " 13.10846869270792,\n",
              " 9.750857202944285,\n",
              " 10.463385624864868,\n",
              " 11.008478070317029]"
            ]
          },
          "execution_count": 63,
          "metadata": {},
          "output_type": "execute_result"
        }
      ],
      "source": [
        "mudelid_test_kaugus = [sum(((test_sagedused-mudelid_test_oodatav[i])**2)/mudelid_test_oodatav[i]) for i in range(len(mudelid))]\n",
        "mudelid_test_kaugus"
      ]
    },
    {
      "cell_type": "code",
      "execution_count": 64,
      "metadata": {
        "id": "3zmmsDrwqAi2"
      },
      "outputs": [
        {
          "data": {
            "text/plain": [
              "[np.float64(0.0269628457762407),\n",
              " np.float64(0.02089125337549712),\n",
              " np.float64(0.01064357695848267),\n",
              " np.float64(0.01610752717536026),\n",
              " np.float64(0.013851088168273792),\n",
              " np.float64(0.014311158668648566),\n",
              " np.float64(0.014707303557567181)]"
            ]
          },
          "execution_count": 64,
          "metadata": {},
          "output_type": "execute_result"
        }
      ],
      "source": [
        "mudelid_test_eukl = [np.sqrt(sum((test_sagedused/sum(test_sagedused)-mudelid[i])**2)) for i in range(len(mudelid))]\n",
        "mudelid_test_eukl"
      ]
    },
    {
      "cell_type": "code",
      "execution_count": 65,
      "metadata": {
        "id": "4xXcPKie8rsU"
      },
      "outputs": [
        {
          "data": {
            "image/png": "[encoded data removed]",
            "text/plain": [
              "<Figure size 640x480 with 1 Axes>"
            ]
          },
          "metadata": {},
          "output_type": "display_data"
        }
      ],
      "source": [
        "plt.plot(['M%i'%i for i in range(1,8)],mudelid_test_kaugus,'--',label='X^2 testandmetel')\n",
        "plt.plot(['M%i'%i for i in range(1,8)],mudelid_valid_kaugus,'-',label='X^2 valideerimisandmetel')\n",
        "plt.plot(['M%i'%i for i in range(1,8)],mudelid_kaugus,'-.',label='X^2 treeningandmetel')\n",
        "plt.legend()\n",
        "plt.show()"
      ]
    }
  ],
  "metadata": {
    "colab": {
      "provenance": []
    },
    "kernelspec": {
      "display_name": "Python 3",
      "language": "python",
      "name": "python3"
    },
    "language_info": {
      "codemirror_mode": {
        "name": "ipython",
        "version": 3
      },
      "file_extension": ".py",
      "mimetype": "text/x-python",
      "name": "python",
      "nbconvert_exporter": "python",
      "pygments_lexer": "ipython3",
      "version": "3.13.9"
    }
  },
  "nbformat": 4,
  "nbformat_minor": 0
}
