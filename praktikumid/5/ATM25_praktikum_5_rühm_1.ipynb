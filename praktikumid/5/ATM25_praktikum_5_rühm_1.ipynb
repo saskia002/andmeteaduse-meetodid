{
  "cells": [
    {
      "cell_type": "markdown",
      "metadata": {
        "id": "NGkqogbMJXF9"
      },
      "source": [
        "# LTAT.02.006 Andmeteaduse meetodid\n",
        "\n",
        "## 5. praktikum - Mudelite võrdlemine, liiklusõnnetuste jaotuse analüüs\n"
      ]
    },
    {
      "cell_type": "markdown",
      "metadata": {
        "id": "FewtDBJpJXGX"
      },
      "source": [
        "Praktikumi eesmärk on uurida, kas liiklusõnnetuste jaotus on nädalapäevade lõikes ühtlane või mitte. Kui ei ole ühtlane, siis tuleks sobitada treeningandmetel kasvava keerukusega mudeleid ning leida valideerimisandmete järgi sobiv keerukusaste. Seejuures võiks nii treeningandmeid, valideerimisandmeid kui testandmeid olla kõiki umbes 3 aasta jagu. Lõpuks tuleks sobitada leitud keerukusega mudel kogu andmestikule ning teha järeldused liiklusõnnetuste jaotuse kohta nädalapäevade lõikes.\n",
        "\n",
        "All on toodud kood, mis on õige pisut muudetud versioon loengu slaidide joonistamise koodist. Kontrolliks võiks vaadata, et aasta 2016 jaotus klapiks sellega, mis on toodud selles [Postimehe artiklis](https://www.postimees.ee/4054657/graafik-eesti-liikluse-koige-eluohtlikum-paev-ei-olegi-nadalavahetusel).\n"
      ]
    },
    {
      "cell_type": "code",
      "execution_count": 1,
      "metadata": {
        "id": "uEeiKdorJXH9"
      },
      "outputs": [],
      "source": [
        "import numpy as np\n",
        "import pandas as pd\n",
        "import matplotlib.pyplot as plt\n",
        "import datetime\n",
        "import scipy.stats"
      ]
    },
    {
      "cell_type": "code",
      "execution_count": 3,
      "metadata": {
        "id": "XOSCHbYIJXIR",
        "scrolled": true
      },
      "outputs": [
        {
          "data": {
            "text/html": [
              "<div>\n",
              "<style scoped>\n",
              "    .dataframe tbody tr th:only-of-type {\n",
              "        vertical-align: middle;\n",
              "    }\n",
              "\n",
              "    .dataframe tbody tr th {\n",
              "        vertical-align: top;\n",
              "    }\n",
              "\n",
              "    .dataframe thead th {\n",
              "        text-align: right;\n",
              "    }\n",
              "</style>\n",
              "<table border=\"1\" class=\"dataframe\">\n",
              "  <thead>\n",
              "    <tr style=\"text-align: right;\">\n",
              "      <th></th>\n",
              "      <th>Juhtumi nr</th>\n",
              "      <th>Kuupäev</th>\n",
              "      <th>Sõidukeid</th>\n",
              "      <th>Isikuid</th>\n",
              "      <th>Hukkunuid</th>\n",
              "      <th>Vigastatuid</th>\n",
              "      <th>Maakond</th>\n",
              "      <th>Omavalitsus</th>\n",
              "      <th>Asustus</th>\n",
              "      <th>Bussi osalusel</th>\n",
              "      <th>...</th>\n",
              "      <th>Tee element [2]</th>\n",
              "      <th>Tee rajatis [1]</th>\n",
              "      <th>Tee rajatis [2]</th>\n",
              "      <th>Tee kurvilisus</th>\n",
              "      <th>Tee mägisus</th>\n",
              "      <th>Teekate</th>\n",
              "      <th>Teekatte seisund [1]</th>\n",
              "      <th>Teekatte seisund [2]</th>\n",
              "      <th>Tüüpskeem [1]</th>\n",
              "      <th>Tüüpskeem [2]</th>\n",
              "    </tr>\n",
              "  </thead>\n",
              "  <tbody>\n",
              "    <tr>\n",
              "      <th>0</th>\n",
              "      <td>3100190034687</td>\n",
              "      <td>19.01.2019</td>\n",
              "      <td>2</td>\n",
              "      <td>2</td>\n",
              "      <td>0</td>\n",
              "      <td>1</td>\n",
              "      <td>Viljandi maakond</td>\n",
              "      <td>Viljandi linn</td>\n",
              "      <td>Märkimata</td>\n",
              "      <td>0</td>\n",
              "      <td>...</td>\n",
              "      <td>T-kujuline ristmik</td>\n",
              "      <td>Ristmik</td>\n",
              "      <td>Reguleerimata ristmik - liiklusmärkidega</td>\n",
              "      <td>Sirge tee</td>\n",
              "      <td>Kerge langus</td>\n",
              "      <td>Püsikate</td>\n",
              "      <td>Jäised olud</td>\n",
              "      <td>Töödeldud pinnaga jäätunud kate</td>\n",
              "      <td>Muu liiklusõnnetus</td>\n",
              "      <td>Muu liikluskonflikt.</td>\n",
              "    </tr>\n",
              "    <tr>\n",
              "      <th>1</th>\n",
              "      <td>2602110032835</td>\n",
              "      <td>02.04.2011</td>\n",
              "      <td>1</td>\n",
              "      <td>1</td>\n",
              "      <td>0</td>\n",
              "      <td>1</td>\n",
              "      <td>Märkimata</td>\n",
              "      <td>Märkimata</td>\n",
              "      <td>Märkimata</td>\n",
              "      <td>0</td>\n",
              "      <td>...</td>\n",
              "      <td>Erielemendita teelõik</td>\n",
              "      <td>Rajatis puudub</td>\n",
              "      <td>Rajatis puudub</td>\n",
              "      <td>Sirge tee</td>\n",
              "      <td>Tasane tee</td>\n",
              "      <td>Püsikate</td>\n",
              "      <td>Märg</td>\n",
              "      <td>Märg</td>\n",
              "      <td>Ühesõidukiõnnetus</td>\n",
              "      <td>Sõiduk kaotab teelõigul või ristmikul juhitavu...</td>\n",
              "    </tr>\n",
              "    <tr>\n",
              "      <th>2</th>\n",
              "      <td>3100190336196</td>\n",
              "      <td>17.06.2019</td>\n",
              "      <td>1</td>\n",
              "      <td>1</td>\n",
              "      <td>0</td>\n",
              "      <td>1</td>\n",
              "      <td>Järva maakond</td>\n",
              "      <td>Paide linn</td>\n",
              "      <td>Märkimata</td>\n",
              "      <td>0</td>\n",
              "      <td>...</td>\n",
              "      <td>Erielemendita teelõik</td>\n",
              "      <td>Rajatis puudub</td>\n",
              "      <td>Rajatis puudub</td>\n",
              "      <td>Sirge tee</td>\n",
              "      <td>Tasane tee</td>\n",
              "      <td>Püsikate</td>\n",
              "      <td>Kuiv</td>\n",
              "      <td>Kuiv</td>\n",
              "      <td>Ühesõidukiõnnetus</td>\n",
              "      <td>Sõiduk kaotab teelõigul või ristmikul juhitavu...</td>\n",
              "    </tr>\n",
              "    <tr>\n",
              "      <th>3</th>\n",
              "      <td>3130160036397</td>\n",
              "      <td>23.05.2016</td>\n",
              "      <td>1</td>\n",
              "      <td>2</td>\n",
              "      <td>0</td>\n",
              "      <td>1</td>\n",
              "      <td>Harju maakond</td>\n",
              "      <td>Tallinn</td>\n",
              "      <td>Kristiine linnaosa</td>\n",
              "      <td>0</td>\n",
              "      <td>...</td>\n",
              "      <td>T-kujuline ristmik</td>\n",
              "      <td>Rajatis puudub</td>\n",
              "      <td>Rajatis puudub</td>\n",
              "      <td>Sirge tee</td>\n",
              "      <td>Tasane tee</td>\n",
              "      <td>Püsikate</td>\n",
              "      <td>Kuiv</td>\n",
              "      <td>Kuiv</td>\n",
              "      <td>Sõiduki konflikt jalakäijaga</td>\n",
              "      <td>Tagurdava sõiduki konflikt jalakäijaga.</td>\n",
              "    </tr>\n",
              "    <tr>\n",
              "      <th>4</th>\n",
              "      <td>3100130095584</td>\n",
              "      <td>25.09.2013</td>\n",
              "      <td>1</td>\n",
              "      <td>2</td>\n",
              "      <td>0</td>\n",
              "      <td>1</td>\n",
              "      <td>Harju maakond</td>\n",
              "      <td>Tallinn</td>\n",
              "      <td>Põhja-Tallinna linnaosa</td>\n",
              "      <td>0</td>\n",
              "      <td>...</td>\n",
              "      <td>Erielemendita teelõik</td>\n",
              "      <td>Rajatis puudub</td>\n",
              "      <td>Rajatis puudub</td>\n",
              "      <td>Sirge tee</td>\n",
              "      <td>Tasane tee</td>\n",
              "      <td>Püsikate</td>\n",
              "      <td>Kuiv</td>\n",
              "      <td>Kuiv</td>\n",
              "      <td>Sõiduki konflikt jalakäijaga</td>\n",
              "      <td>Sõiduki konflikt teise sõiduki või muu takistu...</td>\n",
              "    </tr>\n",
              "  </tbody>\n",
              "</table>\n",
              "<p>5 rows × 43 columns</p>\n",
              "</div>"
            ],
            "text/plain": [
              "      Juhtumi nr     Kuupäev  Sõidukeid  Isikuid  Hukkunuid  Vigastatuid  \\\n",
              "0  3100190034687  19.01.2019          2        2          0            1   \n",
              "1  2602110032835  02.04.2011          1        1          0            1   \n",
              "2  3100190336196  17.06.2019          1        1          0            1   \n",
              "3  3130160036397  23.05.2016          1        2          0            1   \n",
              "4  3100130095584  25.09.2013          1        2          0            1   \n",
              "\n",
              "            Maakond    Omavalitsus                  Asustus  Bussi osalusel  \\\n",
              "0  Viljandi maakond  Viljandi linn                Märkimata               0   \n",
              "1         Märkimata      Märkimata                Märkimata               0   \n",
              "2     Järva maakond     Paide linn                Märkimata               0   \n",
              "3     Harju maakond        Tallinn       Kristiine linnaosa               0   \n",
              "4     Harju maakond        Tallinn  Põhja-Tallinna linnaosa               0   \n",
              "\n",
              "   ...        Tee element [2]  Tee rajatis [1]  \\\n",
              "0  ...     T-kujuline ristmik          Ristmik   \n",
              "1  ...  Erielemendita teelõik   Rajatis puudub   \n",
              "2  ...  Erielemendita teelõik   Rajatis puudub   \n",
              "3  ...     T-kujuline ristmik   Rajatis puudub   \n",
              "4  ...  Erielemendita teelõik   Rajatis puudub   \n",
              "\n",
              "                            Tee rajatis [2]  Tee kurvilisus   Tee mägisus  \\\n",
              "0  Reguleerimata ristmik - liiklusmärkidega       Sirge tee  Kerge langus   \n",
              "1                            Rajatis puudub       Sirge tee    Tasane tee   \n",
              "2                            Rajatis puudub       Sirge tee    Tasane tee   \n",
              "3                            Rajatis puudub       Sirge tee    Tasane tee   \n",
              "4                            Rajatis puudub       Sirge tee    Tasane tee   \n",
              "\n",
              "    Teekate Teekatte seisund [1]             Teekatte seisund [2]  \\\n",
              "0  Püsikate          Jäised olud  Töödeldud pinnaga jäätunud kate   \n",
              "1  Püsikate                 Märg                             Märg   \n",
              "2  Püsikate                 Kuiv                             Kuiv   \n",
              "3  Püsikate                 Kuiv                             Kuiv   \n",
              "4  Püsikate                 Kuiv                             Kuiv   \n",
              "\n",
              "                  Tüüpskeem [1]  \\\n",
              "0            Muu liiklusõnnetus   \n",
              "1             Ühesõidukiõnnetus   \n",
              "2             Ühesõidukiõnnetus   \n",
              "3  Sõiduki konflikt jalakäijaga   \n",
              "4  Sõiduki konflikt jalakäijaga   \n",
              "\n",
              "                                       Tüüpskeem [2]  \n",
              "0                               Muu liikluskonflikt.  \n",
              "1  Sõiduk kaotab teelõigul või ristmikul juhitavu...  \n",
              "2  Sõiduk kaotab teelõigul või ristmikul juhitavu...  \n",
              "3            Tagurdava sõiduki konflikt jalakäijaga.  \n",
              "4  Sõiduki konflikt teise sõiduki või muu takistu...  \n",
              "\n",
              "[5 rows x 43 columns]"
            ]
          },
          "execution_count": 3,
          "metadata": {},
          "output_type": "execute_result"
        }
      ],
      "source": [
        "d = pd.read_csv('Inimkannatanutega_liiklusonnetused.csv',sep=';')\n",
        "d.head()"
      ]
    },
    {
      "cell_type": "markdown",
      "metadata": {
        "id": "7uU9s1fF-Xms"
      },
      "source": [
        "Järjestame andmed juhuslikult.\n"
      ]
    },
    {
      "cell_type": "code",
      "execution_count": 4,
      "metadata": {
        "id": "tJauo3FkJXIg"
      },
      "outputs": [],
      "source": [
        "rng = np.random.default_rng(5)\n",
        "d['juhus'] = np.random.uniform(len(d))\n",
        "d = d.sort_values('juhus')"
      ]
    },
    {
      "cell_type": "markdown",
      "metadata": {
        "id": "9w5Eojd5JXIn"
      },
      "source": [
        "### Andmete täiendamine ja uurimine\n"
      ]
    },
    {
      "cell_type": "markdown",
      "metadata": {
        "id": "iJcsUaBcJXIp"
      },
      "source": [
        "1. Lisage andmetele juurde veerud 'nädalapäev', 'aasta' ja 'kuu'.\n"
      ]
    },
    {
      "cell_type": "code",
      "execution_count": 7,
      "metadata": {
        "id": "ST5KGg5sGw3Z"
      },
      "outputs": [],
      "source": [
        "d['nädalapäev'] = [datetime.datetime.strptime(x, '%d.%m.%Y').weekday() for x in d['Kuupäev']]\n",
        "d['aasta'] = [datetime.datetime.strptime(x, '%d.%m.%Y').year for x in d['Kuupäev']]\n",
        "d['kuu'] = [datetime.datetime.strptime(x, '%d.%m.%Y').month for x in d['Kuupäev']]"
      ]
    },
    {
      "cell_type": "code",
      "execution_count": 8,
      "metadata": {},
      "outputs": [
        {
          "data": {
            "text/html": [
              "<div>\n",
              "<style scoped>\n",
              "    .dataframe tbody tr th:only-of-type {\n",
              "        vertical-align: middle;\n",
              "    }\n",
              "\n",
              "    .dataframe tbody tr th {\n",
              "        vertical-align: top;\n",
              "    }\n",
              "\n",
              "    .dataframe thead th {\n",
              "        text-align: right;\n",
              "    }\n",
              "</style>\n",
              "<table border=\"1\" class=\"dataframe\">\n",
              "  <thead>\n",
              "    <tr style=\"text-align: right;\">\n",
              "      <th></th>\n",
              "      <th>Juhtumi nr</th>\n",
              "      <th>Kuupäev</th>\n",
              "      <th>Sõidukeid</th>\n",
              "      <th>Isikuid</th>\n",
              "      <th>Hukkunuid</th>\n",
              "      <th>Vigastatuid</th>\n",
              "      <th>Maakond</th>\n",
              "      <th>Omavalitsus</th>\n",
              "      <th>Asustus</th>\n",
              "      <th>Bussi osalusel</th>\n",
              "      <th>...</th>\n",
              "      <th>Tee mägisus</th>\n",
              "      <th>Teekate</th>\n",
              "      <th>Teekatte seisund [1]</th>\n",
              "      <th>Teekatte seisund [2]</th>\n",
              "      <th>Tüüpskeem [1]</th>\n",
              "      <th>Tüüpskeem [2]</th>\n",
              "      <th>juhus</th>\n",
              "      <th>nädalapäev</th>\n",
              "      <th>aasta</th>\n",
              "      <th>kuu</th>\n",
              "    </tr>\n",
              "  </thead>\n",
              "  <tbody>\n",
              "    <tr>\n",
              "      <th>0</th>\n",
              "      <td>3100190034687</td>\n",
              "      <td>19.01.2019</td>\n",
              "      <td>2</td>\n",
              "      <td>2</td>\n",
              "      <td>0</td>\n",
              "      <td>1</td>\n",
              "      <td>Viljandi maakond</td>\n",
              "      <td>Viljandi linn</td>\n",
              "      <td>Märkimata</td>\n",
              "      <td>0</td>\n",
              "      <td>...</td>\n",
              "      <td>Kerge langus</td>\n",
              "      <td>Püsikate</td>\n",
              "      <td>Jäised olud</td>\n",
              "      <td>Töödeldud pinnaga jäätunud kate</td>\n",
              "      <td>Muu liiklusõnnetus</td>\n",
              "      <td>Muu liikluskonflikt.</td>\n",
              "      <td>9911.419398</td>\n",
              "      <td>5</td>\n",
              "      <td>2019</td>\n",
              "      <td>1</td>\n",
              "    </tr>\n",
              "    <tr>\n",
              "      <th>8458</th>\n",
              "      <td>2502120082816</td>\n",
              "      <td>29.09.2012</td>\n",
              "      <td>1</td>\n",
              "      <td>1</td>\n",
              "      <td>0</td>\n",
              "      <td>1</td>\n",
              "      <td>Saare maakond</td>\n",
              "      <td>Leisi vald</td>\n",
              "      <td>Märkimata</td>\n",
              "      <td>0</td>\n",
              "      <td>...</td>\n",
              "      <td>Tasane tee</td>\n",
              "      <td>Kruusatee</td>\n",
              "      <td>Märg</td>\n",
              "      <td>Märg</td>\n",
              "      <td>Ühesõidukiõnnetus</td>\n",
              "      <td>Sõiduk kaotab teelõigul või ristmikul juhitavu...</td>\n",
              "      <td>9911.419398</td>\n",
              "      <td>5</td>\n",
              "      <td>2012</td>\n",
              "      <td>9</td>\n",
              "    </tr>\n",
              "    <tr>\n",
              "      <th>8459</th>\n",
              "      <td>3100190735920</td>\n",
              "      <td>19.12.2019</td>\n",
              "      <td>1</td>\n",
              "      <td>2</td>\n",
              "      <td>0</td>\n",
              "      <td>1</td>\n",
              "      <td>Ida-Viru maakond</td>\n",
              "      <td>Kohtla-Järve linn</td>\n",
              "      <td>Järve linnaosa</td>\n",
              "      <td>0</td>\n",
              "      <td>...</td>\n",
              "      <td>Tasane tee</td>\n",
              "      <td>Püsikate</td>\n",
              "      <td>Kuiv</td>\n",
              "      <td>Kuiv</td>\n",
              "      <td>Sõiduki konflikt jalakäijaga</td>\n",
              "      <td>Sõiduki konflikt teelõiku paremalt poolt ületa...</td>\n",
              "      <td>9911.419398</td>\n",
              "      <td>3</td>\n",
              "      <td>2019</td>\n",
              "      <td>12</td>\n",
              "    </tr>\n",
              "    <tr>\n",
              "      <th>8460</th>\n",
              "      <td>3130150084483</td>\n",
              "      <td>02.12.2015</td>\n",
              "      <td>1</td>\n",
              "      <td>2</td>\n",
              "      <td>0</td>\n",
              "      <td>2</td>\n",
              "      <td>Harju maakond</td>\n",
              "      <td>Anija vald</td>\n",
              "      <td>Märkimata</td>\n",
              "      <td>0</td>\n",
              "      <td>...</td>\n",
              "      <td>Tasane tee</td>\n",
              "      <td>Püsikate</td>\n",
              "      <td>Märg</td>\n",
              "      <td>Märg</td>\n",
              "      <td>Ühesõidukiõnnetus</td>\n",
              "      <td>Sõiduk kaotab teelõigul või ristmikul juhitavu...</td>\n",
              "      <td>9911.419398</td>\n",
              "      <td>2</td>\n",
              "      <td>2015</td>\n",
              "      <td>12</td>\n",
              "    </tr>\n",
              "    <tr>\n",
              "      <th>8461</th>\n",
              "      <td>3100130011328</td>\n",
              "      <td>31.03.2013</td>\n",
              "      <td>1</td>\n",
              "      <td>2</td>\n",
              "      <td>0</td>\n",
              "      <td>1</td>\n",
              "      <td>Harju maakond</td>\n",
              "      <td>Tallinn</td>\n",
              "      <td>Kesklinna linnaosa</td>\n",
              "      <td>0</td>\n",
              "      <td>...</td>\n",
              "      <td>Tasane tee</td>\n",
              "      <td>Püsikate</td>\n",
              "      <td>Märg</td>\n",
              "      <td>Märg</td>\n",
              "      <td>Sõiduki konflikt jalakäijaga</td>\n",
              "      <td>Ristmikule siseneva sõiduki konflikt paremalt ...</td>\n",
              "      <td>9911.419398</td>\n",
              "      <td>6</td>\n",
              "      <td>2013</td>\n",
              "      <td>3</td>\n",
              "    </tr>\n",
              "  </tbody>\n",
              "</table>\n",
              "<p>5 rows × 47 columns</p>\n",
              "</div>"
            ],
            "text/plain": [
              "         Juhtumi nr     Kuupäev  Sõidukeid  Isikuid  Hukkunuid  Vigastatuid  \\\n",
              "0     3100190034687  19.01.2019          2        2          0            1   \n",
              "8458  2502120082816  29.09.2012          1        1          0            1   \n",
              "8459  3100190735920  19.12.2019          1        2          0            1   \n",
              "8460  3130150084483  02.12.2015          1        2          0            2   \n",
              "8461  3100130011328  31.03.2013          1        2          0            1   \n",
              "\n",
              "               Maakond        Omavalitsus             Asustus  Bussi osalusel  \\\n",
              "0     Viljandi maakond      Viljandi linn           Märkimata               0   \n",
              "8458     Saare maakond         Leisi vald           Märkimata               0   \n",
              "8459  Ida-Viru maakond  Kohtla-Järve linn      Järve linnaosa               0   \n",
              "8460     Harju maakond         Anija vald           Märkimata               0   \n",
              "8461     Harju maakond            Tallinn  Kesklinna linnaosa               0   \n",
              "\n",
              "      ...   Tee mägisus    Teekate  Teekatte seisund [1]  \\\n",
              "0     ...  Kerge langus   Püsikate           Jäised olud   \n",
              "8458  ...    Tasane tee  Kruusatee                  Märg   \n",
              "8459  ...    Tasane tee   Püsikate                  Kuiv   \n",
              "8460  ...    Tasane tee   Püsikate                  Märg   \n",
              "8461  ...    Tasane tee   Püsikate                  Märg   \n",
              "\n",
              "                 Teekatte seisund [2]                 Tüüpskeem [1]  \\\n",
              "0     Töödeldud pinnaga jäätunud kate            Muu liiklusõnnetus   \n",
              "8458                             Märg             Ühesõidukiõnnetus   \n",
              "8459                             Kuiv  Sõiduki konflikt jalakäijaga   \n",
              "8460                             Märg             Ühesõidukiõnnetus   \n",
              "8461                             Märg  Sõiduki konflikt jalakäijaga   \n",
              "\n",
              "                                          Tüüpskeem [2]        juhus  \\\n",
              "0                                  Muu liikluskonflikt.  9911.419398   \n",
              "8458  Sõiduk kaotab teelõigul või ristmikul juhitavu...  9911.419398   \n",
              "8459  Sõiduki konflikt teelõiku paremalt poolt ületa...  9911.419398   \n",
              "8460  Sõiduk kaotab teelõigul või ristmikul juhitavu...  9911.419398   \n",
              "8461  Ristmikule siseneva sõiduki konflikt paremalt ...  9911.419398   \n",
              "\n",
              "     nädalapäev aasta kuu  \n",
              "0             5  2019   1  \n",
              "8458          5  2012   9  \n",
              "8459          3  2019  12  \n",
              "8460          2  2015  12  \n",
              "8461          6  2013   3  \n",
              "\n",
              "[5 rows x 47 columns]"
            ]
          },
          "execution_count": 8,
          "metadata": {},
          "output_type": "execute_result"
        }
      ],
      "source": [
        "d.head()"
      ]
    },
    {
      "cell_type": "markdown",
      "metadata": {
        "id": "URncAPhxJXIv"
      },
      "source": [
        "2. Joonistage tulpdiagramm, kuhu on iga aasta jaoks kantud toimunud liiklusõnnetuste arv vastaval aastal.\n"
      ]
    },
    {
      "cell_type": "code",
      "execution_count": 11,
      "metadata": {
        "id": "47R-QtdeHS8i"
      },
      "outputs": [],
      "source": [
        "aastakaupa = d.groupby('aasta')"
      ]
    },
    {
      "cell_type": "code",
      "execution_count": 13,
      "metadata": {},
      "outputs": [
        {
          "data": {
            "text/plain": [
              "aasta\n",
              "2011    1448\n",
              "2012    1357\n",
              "2013    1359\n",
              "2014    1405\n",
              "2015    1375\n",
              "2016    1463\n",
              "2017    1413\n",
              "2018    1474\n",
              "2019    1403\n",
              "dtype: int64"
            ]
          },
          "execution_count": 13,
          "metadata": {},
          "output_type": "execute_result"
        }
      ],
      "source": [
        "aastakaupa.size()"
      ]
    },
    {
      "cell_type": "code",
      "execution_count": 14,
      "metadata": {},
      "outputs": [],
      "source": [
        "aastakaupa = d[\"aasta\"].value_counts()"
      ]
    },
    {
      "cell_type": "code",
      "execution_count": 15,
      "metadata": {},
      "outputs": [
        {
          "data": {
            "text/plain": [
              "aasta\n",
              "2018    1474\n",
              "2016    1463\n",
              "2011    1448\n",
              "2017    1413\n",
              "2014    1405\n",
              "2019    1403\n",
              "2015    1375\n",
              "2013    1359\n",
              "2012    1357\n",
              "Name: count, dtype: int64"
            ]
          },
          "execution_count": 15,
          "metadata": {},
          "output_type": "execute_result"
        }
      ],
      "source": [
        "aastakaupa"
      ]
    },
    {
      "cell_type": "code",
      "execution_count": 16,
      "metadata": {
        "id": "rVklu7q0HnHG"
      },
      "outputs": [
        {
          "data": {
            "image/png": "[encoded data removed]",
            "text/plain": [
              "<Figure size 1000x300 with 1 Axes>"
            ]
          },
          "metadata": {},
          "output_type": "display_data"
        }
      ],
      "source": [
        "aastad = sorted(aastakaupa.index)\n",
        "plt.figure(figsize=(10,3))\n",
        "plt.bar(aastad, aastakaupa[aastad])\n",
        "plt.xticks(aastad)\n",
        "for a in aastad:\n",
        "    plt.text(a,aastakaupa[a],aastakaupa[a],horizontalalignment='center')\n",
        "plt.show()"
      ]
    },
    {
      "cell_type": "markdown",
      "metadata": {
        "id": "UkT3JFOcJXJO"
      },
      "source": [
        "3. Kandke horisontaalsele tulpdiagrammile nädalapäevade kaupa 2016. aastal toimunud õnnetuste sagedused. _Vihje:_ Uurige matplotlibi `barh` käsklust.\n"
      ]
    },
    {
      "cell_type": "code",
      "execution_count": null,
      "metadata": {
        "id": "iQif66Z_LPMB"
      },
      "outputs": [],
      "source": [
        "päevanimed = np.array(['E','T','K','N','R','L','P'])\n",
        "sagedused_2016 = #todo"
      ]
    },
    {
      "cell_type": "code",
      "execution_count": null,
      "metadata": {
        "id": "5zff6lsuecq3"
      },
      "outputs": [],
      "source": [
        "sagedused_2016"
      ]
    },
    {
      "cell_type": "code",
      "execution_count": null,
      "metadata": {
        "id": "RIQkohxsNXd1"
      },
      "outputs": [],
      "source": [
        "päevad_tagurpidi = np.array(list(reversed(päevanimed)))\n",
        "plt.barh(päevad_tagurpidi,sagedused_2016[päevad_tagurpidi])\n",
        "for p in päevad_tagurpidi:\n",
        "    plt.text(sagedused_2016[p],p,sagedused_2016[p],verticalalignment='center')\n",
        "plt.show()"
      ]
    },
    {
      "cell_type": "markdown",
      "metadata": {
        "id": "C9fh9fREJXKG"
      },
      "source": [
        "### Treening-, test- ja valideerimisandmestiku eraldamine\n"
      ]
    },
    {
      "cell_type": "markdown",
      "metadata": {
        "id": "WTwSF0-1JXKm"
      },
      "source": [
        "4. Jagage andmestik kolmeks: treening-, test- ja valideerimisandmestikuks. Treening- ja valideerimisandmestikku jätke 2800 kirjet, testandmestikku kõik ülejäänud.\n",
        "\n",
        "Kas peaks andmed kuupäeva järgi ära sorteerima või jätma sorteerimata?\n"
      ]
    },
    {
      "cell_type": "code",
      "execution_count": null,
      "metadata": {
        "id": "_pZ11rzYN6gK"
      },
      "outputs": [],
      "source": [
        "# oletame, et meil on uurimiseks antud umbes 2 aasta jagu andmeid\n",
        "n_treen = 2800\n",
        "d_treen = d[:n_treen]\n",
        "# ja hiljem lisame veel umbes 2 aasta jagu andmeid\n",
        "n_valid = 2800\n",
        "d_valid = d[n_treen:(n_treen+n_valid)]\n",
        "# ja lõpuks testime ülejäänud veel umbes 5 aasta jagu andmetel\n",
        "n_test = len(d)-n_treen-n_valid\n",
        "d_test = d[(n_treen+n_valid):]"
      ]
    },
    {
      "cell_type": "markdown",
      "metadata": {
        "id": "AbpFnag7JXK3"
      },
      "source": [
        "5. Leidke treeningandmestikus iga liiklusõnnetuse toimumise sagedus igal nädalapäeval ja kandke tulemus tulpdiagrammile.\n"
      ]
    },
    {
      "cell_type": "code",
      "execution_count": null,
      "metadata": {
        "id": "IVzO3P-oN9z6"
      },
      "outputs": [],
      "source": [
        "sagedused = #todo\n",
        "sagedused"
      ]
    },
    {
      "cell_type": "code",
      "execution_count": null,
      "metadata": {
        "id": "3LCUyVkuOVWZ"
      },
      "outputs": [],
      "source": [
        "plt.bar(päevanimed,sagedused[päevanimed])\n",
        "for p in päevanimed:\n",
        "    plt.text(p,sagedused[p],sagedused[p],horizontalalignment='center')\n",
        "plt.show()"
      ]
    },
    {
      "cell_type": "markdown",
      "metadata": {
        "id": "WQFjTVgrJXLI"
      },
      "source": [
        "### Lihtsaim mudel -- ühtlane jaotus\n"
      ]
    },
    {
      "cell_type": "markdown",
      "metadata": {
        "id": "9uU2gnqsJXLW"
      },
      "source": [
        "Nüüd on paras aeg alustada liiklusõnnetuste jaotuse modelleerimist. Selleks koostame nüüd mudeli, kus võtame eelduseks ühtlase jaotuse ja testime saadud mudeli usutavust.\n",
        "\n",
        "Küsimused enne lahendamist:\n",
        "\n",
        "-   Kuidas kasutada treening-, valideerimis- ja testandmestikke?\n",
        "-   Milline peaks olema usutav mudel ja kuidas me seda kontrollime?\n",
        "-   Kuidas toimub testimine, mille põhjal saab öelda, kas on usutav?\n"
      ]
    },
    {
      "cell_type": "markdown",
      "metadata": {
        "id": "zjM-970MJXLX"
      },
      "source": [
        "6. Looge treeningandmestiku põhjal ühtlase jaotuse mudel.\n"
      ]
    },
    {
      "cell_type": "code",
      "execution_count": null,
      "metadata": {
        "id": "amzbTJVfObIb"
      },
      "outputs": [],
      "source": [
        "m1 = #todo"
      ]
    },
    {
      "cell_type": "markdown",
      "metadata": {
        "id": "ClHH0BCaJXLm"
      },
      "source": [
        "7. Nüüd saab asuda mudeli testimisele. Mõõdikuna kasutage loengus defineeritud mõõdikut $\\chi^2$, mis järgib ligikaudselt hii-ruut jaotust vabadusastmete arvuga 6. Leidke selle mõõdiku väärtus treeningandmetel.\n",
        "\n",
        "$$\\chi^2 = \\sum_{i=1}^{k}\\frac{(n\\cdot p_i - n_i)^2}{n\\cdot p_i}.$$\n"
      ]
    },
    {
      "cell_type": "code",
      "execution_count": null,
      "metadata": {
        "id": "CQqraZhpOxRM"
      },
      "outputs": [],
      "source": [
        "m1_oodatav = len(d_treen)*m1\n",
        "m1_oodatav"
      ]
    },
    {
      "cell_type": "code",
      "execution_count": null,
      "metadata": {
        "id": "ddjZOSmpPOvu"
      },
      "outputs": [],
      "source": [
        "m1_hiiruut = #todo\n",
        "m1_hiiruut"
      ]
    },
    {
      "cell_type": "markdown",
      "metadata": {
        "id": "MYX6jGnlJXMJ"
      },
      "source": [
        "8. Leidke selle mõõdiku järgi tegelike treeningandmete põhjal eksperimentaalne p-väärtus, kus nullhüpoteesiks on treeningandmetel leitud ühtlase jaotuse mudel. Selleks genereerige mudelist 10000 andmestikku, kus iga andmestik on sama suur treeningandmestik. Seejärel saate leida vaadeldava statistiku väärtuse iga katse korral. Joonistage eksperimentaalse statistiku väärtus ja teoreetiline hii-ruut jaotus samale graafikule.\n"
      ]
    },
    {
      "cell_type": "code",
      "execution_count": null,
      "metadata": {
        "id": "wLC3euretPRV"
      },
      "outputs": [],
      "source": [
        "rng = np.random.default_rng(0)\n",
        "n_iter = 10000\n",
        "m1_hiiruudud = np.zeros(n_iter)\n",
        "for i in range(n_iter):\n",
        "    m1_andmed = #todo\n",
        "    m1_sagedused = #todo\n",
        "    m1_hiiruudud[i] = #todo"
      ]
    },
    {
      "cell_type": "code",
      "execution_count": null,
      "metadata": {
        "colab": {
          "base_uri": "https://localhost:8080/"
        },
        "id": "xKd7mI_RtRxo",
        "outputId": "db40c823-70dd-4b55-f23e-fb68da4d0f64"
      },
      "outputs": [
        {
          "data": {
            "text/plain": [
              "0.001"
            ]
          },
          "execution_count": 20,
          "metadata": {},
          "output_type": "execute_result"
        }
      ],
      "source": [
        "m1_experimentaalne_pväärtus = np.mean(m1_hiiruudud>=m1_hiiruut)\n",
        "m1_experimentaalne_pväärtus"
      ]
    },
    {
      "cell_type": "code",
      "execution_count": null,
      "metadata": {
        "id": "QpL-siPetUck"
      },
      "outputs": [],
      "source": [
        "plt.hist(m1_hiiruudud,bins=50,density=True)\n",
        "x_values = np.linspace(0,max(m1_hiiruudud),1000)\n",
        "# 7 nädalapäeva, seega hii-ruut jaotus 7-1=6 vabadusastmega\n",
        "plt.plot(x_values,scipy.stats.chi2(df=6).pdf(x_values),'-',color='red')\n",
        "plt.show()"
      ]
    },
    {
      "cell_type": "code",
      "execution_count": null,
      "metadata": {
        "id": "87VY2LBmtMGc"
      },
      "outputs": [],
      "source": [
        "# Sama tulemuse saab kui kasutada chisquare testi funktsiooni.\n",
        "scipy.stats.chisquare(sagedused)"
      ]
    },
    {
      "cell_type": "markdown",
      "metadata": {
        "id": "Unl-sZqpJXMa"
      },
      "source": [
        "### Keerulisemad mudelid\n"
      ]
    },
    {
      "cell_type": "markdown",
      "metadata": {
        "id": "vm9fgQ1gJXMw"
      },
      "source": [
        "Nagu ka loengust teada on, siis lihtne ühtlase jaotuse mudel ei sobi nendele andmetele. Koostame nüüd veel kuus tõenäosuslikku mudelit, kus igal järgmisel mudelil on üks lisaparameeter. Ehk kui esimesel mudelil oli kõigil nädalapäevadel sama tõenäosus liiklusõnnetuse esinemiseks, siis teisel mudelil on nädalapäevad jaotatud kaheks: ühtedel on üks tõenäosus, teistel teine. Kolmandas mudelis on nädalapäevad jaotatud kolme gruppi jne.\n"
      ]
    },
    {
      "cell_type": "markdown",
      "metadata": {
        "id": "OIvHucSrJXM8"
      },
      "source": [
        "9. Kõigepealt tuleks välja mõelda loogika, mille järgi me hakkame nädalapäevi gruppidesse jagama. Lähtume taaskord loengust: vaatame sagedusi nädalapäevade kaupa ja leiame, millise kahe järjestiku sageduse vahel on kõige suurem vahe. Sagedamad nädalapäevad langevad ühte gruppi, ülejäänud teise. Leidke, millised nädalapäevad langevad selle loogika alusel ühte, millised teise gruppi.\n"
      ]
    },
    {
      "cell_type": "code",
      "execution_count": null,
      "metadata": {
        "colab": {
          "base_uri": "https://localhost:8080/",
          "height": 303
        },
        "id": "V8BxVq4ZtmaD",
        "outputId": "c65ce88d-af32-4fff-961c-7c7822638972"
      },
      "outputs": [
        {
          "data": {
            "text/html": [
              "<div>\n",
              "<style scoped>\n",
              "    .dataframe tbody tr th:only-of-type {\n",
              "        vertical-align: middle;\n",
              "    }\n",
              "\n",
              "    .dataframe tbody tr th {\n",
              "        vertical-align: top;\n",
              "    }\n",
              "\n",
              "    .dataframe thead th {\n",
              "        text-align: right;\n",
              "    }\n",
              "</style>\n",
              "<table border=\"1\" class=\"dataframe\">\n",
              "  <thead>\n",
              "    <tr style=\"text-align: right;\">\n",
              "      <th></th>\n",
              "      <th>count</th>\n",
              "    </tr>\n",
              "  </thead>\n",
              "  <tbody>\n",
              "    <tr>\n",
              "      <th>P</th>\n",
              "      <td>346</td>\n",
              "    </tr>\n",
              "    <tr>\n",
              "      <th>K</th>\n",
              "      <td>369</td>\n",
              "    </tr>\n",
              "    <tr>\n",
              "      <th>T</th>\n",
              "      <td>381</td>\n",
              "    </tr>\n",
              "    <tr>\n",
              "      <th>N</th>\n",
              "      <td>397</td>\n",
              "    </tr>\n",
              "    <tr>\n",
              "      <th>E</th>\n",
              "      <td>413</td>\n",
              "    </tr>\n",
              "    <tr>\n",
              "      <th>L</th>\n",
              "      <td>442</td>\n",
              "    </tr>\n",
              "    <tr>\n",
              "      <th>R</th>\n",
              "      <td>452</td>\n",
              "    </tr>\n",
              "  </tbody>\n",
              "</table>\n",
              "</div><br><label><b>dtype:</b> int64</label>"
            ],
            "text/plain": [
              "P    346\n",
              "K    369\n",
              "T    381\n",
              "N    397\n",
              "E    413\n",
              "L    442\n",
              "R    452\n",
              "Name: count, dtype: int64"
            ]
          },
          "execution_count": 23,
          "metadata": {},
          "output_type": "execute_result"
        }
      ],
      "source": [
        "sagedused_sort = sagedused.sort_values()\n",
        "sagedused_sort"
      ]
    },
    {
      "cell_type": "markdown",
      "metadata": {
        "id": "nXk_YHtjJXM9"
      },
      "source": [
        "10. Koostage nüüd uus tõenäosuslik mudel, kus gruppidesse langemise tõenäosused on vastavalt gruppide suurusele. Grupisiseselt on aga jaotus nädalapäevade vahel ühtlane.\n"
      ]
    },
    {
      "cell_type": "code",
      "execution_count": null,
      "metadata": {
        "colab": {
          "base_uri": "https://localhost:8080/"
        },
        "id": "hGU5K9rfnYIo",
        "outputId": "613b045f-2b38-48dc-bb4a-dbd14a5c9823"
      },
      "outputs": [
        {
          "data": {
            "text/plain": [
              "0.15964285714285714"
            ]
          },
          "execution_count": 26,
          "metadata": {},
          "output_type": "execute_result"
        }
      ],
      "source": [
        "g2"
      ]
    },
    {
      "cell_type": "code",
      "execution_count": null,
      "metadata": {
        "id": "Lsr8-QHctpQa"
      },
      "outputs": [],
      "source": [
        "g1 = #todo\n",
        "g2 = #todo\n",
        "m2 = #todo\n",
        "m2"
      ]
    },
    {
      "cell_type": "markdown",
      "metadata": {
        "id": "ljs7cAE4JXM-"
      },
      "source": [
        "11. Analoogselt toimides koostage ülejäänud 5 mudelit. Leidke suuruselt järgmine hüpe liiklusõnnetuste toimumise sagedustes, seejärel koostage nädalapäevadest kolm gruppi ja koostage vastavalt gruppidele tõenäosuslik mudel. Seejärel samamoodi 4, 5, 6 ja 7 grupiga (kui 7 gruppi, siis iga nädalapäev on üksinda omas grupis).\n"
      ]
    },
    {
      "cell_type": "code",
      "execution_count": null,
      "metadata": {
        "id": "nGWxwQok6RT7"
      },
      "outputs": [],
      "source": [
        "m3 = #todo\n",
        "m3"
      ]
    },
    {
      "cell_type": "code",
      "execution_count": null,
      "metadata": {
        "id": "YQEvTyVS6f8e"
      },
      "outputs": [],
      "source": [
        "m4 = #todo\n",
        "m4"
      ]
    },
    {
      "cell_type": "code",
      "execution_count": null,
      "metadata": {
        "id": "Borapz916eJU"
      },
      "outputs": [],
      "source": [
        "m5 = #todo\n",
        "m5"
      ]
    },
    {
      "cell_type": "code",
      "execution_count": null,
      "metadata": {
        "id": "3m1DXOdI6iAL"
      },
      "outputs": [],
      "source": [
        "m6 = #todo\n",
        "m6"
      ]
    },
    {
      "cell_type": "code",
      "execution_count": null,
      "metadata": {
        "id": "Cet8TZ6x6kDh"
      },
      "outputs": [],
      "source": [
        "m7 = sagedused/sum(sagedused)\n",
        "m7"
      ]
    },
    {
      "cell_type": "code",
      "execution_count": null,
      "metadata": {
        "id": "yPmC-wu26lvM"
      },
      "outputs": [],
      "source": [
        "mudelid = [m1,m2,m3,m4,m5,m6,m7]"
      ]
    },
    {
      "cell_type": "markdown",
      "metadata": {
        "id": "B4spxy2YJXNc"
      },
      "source": [
        "12. Leidke iga mudeli ennustuste ja tegelike treening-, valideerimis- ja testandmestike põhjal eelnevalt defineeritud hii-ruut jaotusega mõõdiku väärtus nii treening- kui valideerimisandmestiku jaoks. Kandke tulemused graafikule ning valige parim mudel. Kommenteerige mudelit ja tema usutavust testandmestiku põhjal.\n"
      ]
    },
    {
      "cell_type": "markdown",
      "metadata": {
        "id": "q7H89Mh17_l9"
      },
      "source": [
        "Leiame hii-ruut statistiku ja eukleidilise kauguse treeningandmestikul\n"
      ]
    },
    {
      "cell_type": "code",
      "execution_count": null,
      "metadata": {
        "id": "mf5zG0C765-d"
      },
      "outputs": [],
      "source": [
        "mudelid_oodatav = [ m*n_treen for m in mudelid]"
      ]
    },
    {
      "cell_type": "code",
      "execution_count": null,
      "metadata": {
        "id": "NaBqd09M6uJJ"
      },
      "outputs": [],
      "source": [
        "mudelid_kaugus = [sum(((sagedused-mudelid_oodatav[i])**2)/mudelid_oodatav[i]) for i in range(len(mudelid))]\n",
        "mudelid_kaugus"
      ]
    },
    {
      "cell_type": "markdown",
      "metadata": {
        "id": "5K2Jxvpj8Sv6"
      },
      "source": [
        "Leiame valideerimisandmestikul\n"
      ]
    },
    {
      "cell_type": "code",
      "execution_count": null,
      "metadata": {
        "id": "0wdCIqdCvmvH"
      },
      "outputs": [],
      "source": [
        "mudelid_valid_oodatav = [ m*n_valid for m in mudelid]"
      ]
    },
    {
      "cell_type": "code",
      "execution_count": null,
      "metadata": {
        "id": "k-e4clkS7o3d"
      },
      "outputs": [],
      "source": [
        "valid_sagedused = pd.Series(päevanimed[d_valid['nädalapäev']]).value_counts()\n",
        "valid_sagedused"
      ]
    },
    {
      "cell_type": "code",
      "execution_count": null,
      "metadata": {
        "id": "wiT7LNB179Xy"
      },
      "outputs": [],
      "source": [
        "mudelid_valid_kaugus = [sum(((valid_sagedused - mudelid_valid_oodatav[i])**2)/mudelid_valid_oodatav[i]) for i in range(len(mudelid))]\n",
        "mudelid_valid_kaugus"
      ]
    },
    {
      "cell_type": "code",
      "execution_count": null,
      "metadata": {
        "id": "x903c1Ru8ahH"
      },
      "outputs": [],
      "source": [
        "plt.plot(['M%i'%i for i in range(1,8)],mudelid_valid_kaugus,'-',label='X^2 valideerimisandmetel')\n",
        "plt.plot(['M%i'%i for i in range(1,8)],mudelid_kaugus,'-.',label='X^2 treeningandmetel')\n",
        "plt.legend()\n",
        "plt.show()"
      ]
    },
    {
      "cell_type": "code",
      "execution_count": null,
      "metadata": {
        "id": "BkOyVeghqEkj"
      },
      "outputs": [],
      "source": [
        "plt.plot(['M%i'%i for i in range(1,8)],mudelid_valid_eukl,'-',label='d valideerimisandmetel')\n",
        "plt.plot(['M%i'%i for i in range(1,8)],mudelid_eukl,'-.',label='d treeningandmetel')\n",
        "plt.legend()\n",
        "plt.show()"
      ]
    },
    {
      "cell_type": "markdown",
      "metadata": {
        "id": "Ywe-ZaJs8e5c"
      },
      "source": [
        "Leiame testandmestikul\n"
      ]
    },
    {
      "cell_type": "code",
      "execution_count": null,
      "metadata": {
        "id": "E7ZZt77CwCQv"
      },
      "outputs": [],
      "source": [
        "mudelid_test_oodatav = [ m*n_test for m in mudelid]"
      ]
    },
    {
      "cell_type": "code",
      "execution_count": null,
      "metadata": {
        "id": "Kw9chUQC8goj"
      },
      "outputs": [],
      "source": [
        "test_sagedused = pd.Series(päevanimed[d_test['nädalapäev']]).value_counts()\n",
        "test_sagedused"
      ]
    },
    {
      "cell_type": "code",
      "execution_count": null,
      "metadata": {
        "id": "wK3S8rHw8mWX"
      },
      "outputs": [],
      "source": [
        "mudelid_test_kaugus = [sum(((test_sagedused-mudelid_test_oodatav[i])**2)/mudelid_test_oodatav[i]) for i in range(len(mudelid))]\n",
        "mudelid_test_kaugus"
      ]
    },
    {
      "cell_type": "code",
      "execution_count": null,
      "metadata": {
        "id": "3zmmsDrwqAi2"
      },
      "outputs": [],
      "source": [
        "mudelid_test_eukl = [np.sqrt(sum((test_sagedused/sum(test_sagedused)-mudelid[i])**2)) for i in range(len(mudelid))]\n",
        "mudelid_test_eukl"
      ]
    },
    {
      "cell_type": "code",
      "execution_count": null,
      "metadata": {
        "id": "4xXcPKie8rsU"
      },
      "outputs": [],
      "source": [
        "plt.plot(['M%i'%i for i in range(1,8)],mudelid_test_kaugus,'--',label='X^2 testandmetel')\n",
        "plt.plot(['M%i'%i for i in range(1,8)],mudelid_valid_kaugus,'-',label='X^2 valideerimisandmetel')\n",
        "plt.plot(['M%i'%i for i in range(1,8)],mudelid_kaugus,'-.',label='X^2 treeningandmetel')\n",
        "plt.legend()\n",
        "plt.show()"
      ]
    },
    {
      "cell_type": "code",
      "execution_count": null,
      "metadata": {
        "id": "4UDCqgyEp8Fz"
      },
      "outputs": [],
      "source": [
        "plt.plot(['M%i'%i for i in range(1,8)],mudelid_test_eukl,'--',label='d testandmetel')\n",
        "plt.plot(['M%i'%i for i in range(1,8)],mudelid_valid_eukl,'-',label='d valideerimisandmetel')\n",
        "plt.plot(['M%i'%i for i in range(1,8)],mudelid_eukl,'-.',label='d treeningandmetel')\n",
        "plt.legend()\n",
        "plt.show()"
      ]
    }
  ],
  "metadata": {
    "colab": {
      "provenance": []
    },
    "kernelspec": {
      "display_name": "Python 3",
      "language": "python",
      "name": "python3"
    },
    "language_info": {
      "codemirror_mode": {
        "name": "ipython",
        "version": 3
      },
      "file_extension": ".py",
      "mimetype": "text/x-python",
      "name": "python",
      "nbconvert_exporter": "python",
      "pygments_lexer": "ipython3",
      "version": "3.13.7"
    }
  },
  "nbformat": 4,
  "nbformat_minor": 0
}
